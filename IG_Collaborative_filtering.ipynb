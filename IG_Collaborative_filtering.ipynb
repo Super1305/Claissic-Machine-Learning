{
 "cells": [
  {
   "cell_type": "markdown",
   "id": "3342dcf4-ba12-411f-bfa7-6de5c28c9bc4",
   "metadata": {},
   "source": [
    "## Задание по теме Коллаборативная фильтрация:   \n",
    "Используя пакет SURPISE и данные MovieLens 1M подобрать модель, обеспечивающую RMSE на тестовом сете 0,87 и ниже.\n",
    "\n",
    "В домашнем задании на датасет 1М может не хватить RAM. Можно сделать на 100K. Качество RMSE предлагается считать на основе Cross-validation (5 фолдов), а не на отложенном датасете."
   ]
  },
  {
   "cell_type": "code",
   "execution_count": 2,
   "id": "1559dac4-8fc3-42af-bd1e-582a5ecbef26",
   "metadata": {
    "tags": []
   },
   "outputs": [],
   "source": [
    "import pandas as pd\n",
    "import numpy as np\n",
    "\n",
    "from tqdm import tqdm"
   ]
  },
  {
   "cell_type": "code",
   "execution_count": 3,
   "id": "40bd588c-3f9b-467d-a092-2e8957225688",
   "metadata": {
    "tags": []
   },
   "outputs": [
    {
     "name": "stdout",
     "output_type": "stream",
     "text": [
      "\n",
      "Saved under ml-1m.zip\n"
     ]
    }
   ],
   "source": [
    "!python -m wget https://files.grouplens.org/datasets/movielens/ml-1m.zip"
   ]
  },
  {
   "cell_type": "code",
   "execution_count": 4,
   "id": "ced810ff-fc81-4ec0-be70-123e23fd8d10",
   "metadata": {
    "tags": []
   },
   "outputs": [],
   "source": [
    "from zipfile import ZipFile"
   ]
  },
  {
   "cell_type": "code",
   "execution_count": 5,
   "id": "b477e598-5963-4952-8fea-9df44241ac6d",
   "metadata": {
    "tags": []
   },
   "outputs": [],
   "source": [
    "zip = ZipFile('ml-1m.zip')\n",
    "zip.extractall()"
   ]
  },
  {
   "cell_type": "code",
   "execution_count": 6,
   "id": "08a79eaa-10b5-4918-b9db-f8d7db5bf1d2",
   "metadata": {
    "tags": []
   },
   "outputs": [
    {
     "data": {
      "text/html": [
       "<div>\n",
       "<style scoped>\n",
       "    .dataframe tbody tr th:only-of-type {\n",
       "        vertical-align: middle;\n",
       "    }\n",
       "\n",
       "    .dataframe tbody tr th {\n",
       "        vertical-align: top;\n",
       "    }\n",
       "\n",
       "    .dataframe thead th {\n",
       "        text-align: right;\n",
       "    }\n",
       "</style>\n",
       "<table border=\"1\" class=\"dataframe\">\n",
       "  <thead>\n",
       "    <tr style=\"text-align: right;\">\n",
       "      <th></th>\n",
       "      <th>mid</th>\n",
       "      <th>title</th>\n",
       "      <th>genres</th>\n",
       "    </tr>\n",
       "  </thead>\n",
       "  <tbody>\n",
       "    <tr>\n",
       "      <th>0</th>\n",
       "      <td>1</td>\n",
       "      <td>Toy Story (1995)</td>\n",
       "      <td>Animation|Children's|Comedy</td>\n",
       "    </tr>\n",
       "    <tr>\n",
       "      <th>1</th>\n",
       "      <td>2</td>\n",
       "      <td>Jumanji (1995)</td>\n",
       "      <td>Adventure|Children's|Fantasy</td>\n",
       "    </tr>\n",
       "    <tr>\n",
       "      <th>2</th>\n",
       "      <td>3</td>\n",
       "      <td>Grumpier Old Men (1995)</td>\n",
       "      <td>Comedy|Romance</td>\n",
       "    </tr>\n",
       "    <tr>\n",
       "      <th>3</th>\n",
       "      <td>4</td>\n",
       "      <td>Waiting to Exhale (1995)</td>\n",
       "      <td>Comedy|Drama</td>\n",
       "    </tr>\n",
       "    <tr>\n",
       "      <th>4</th>\n",
       "      <td>5</td>\n",
       "      <td>Father of the Bride Part II (1995)</td>\n",
       "      <td>Comedy</td>\n",
       "    </tr>\n",
       "  </tbody>\n",
       "</table>\n",
       "</div>"
      ],
      "text/plain": [
       "   mid                               title                        genres\n",
       "0    1                    Toy Story (1995)   Animation|Children's|Comedy\n",
       "1    2                      Jumanji (1995)  Adventure|Children's|Fantasy\n",
       "2    3             Grumpier Old Men (1995)                Comedy|Romance\n",
       "3    4            Waiting to Exhale (1995)                  Comedy|Drama\n",
       "4    5  Father of the Bride Part II (1995)                        Comedy"
      ]
     },
     "execution_count": 6,
     "metadata": {},
     "output_type": "execute_result"
    }
   ],
   "source": [
    "movies = pd.read_csv('ml-1m/movies.dat', sep='::', engine = 'python', encoding = \"ISO-8859-1\", header = None)\n",
    "movies.rename(columns = {0:'mid',1:'title',2:'genres'}, inplace=True)\n",
    "movies.head()"
   ]
  },
  {
   "cell_type": "code",
   "execution_count": 7,
   "id": "cf560e60-ac7e-4adf-bb84-a91f3f856342",
   "metadata": {
    "tags": []
   },
   "outputs": [
    {
     "data": {
      "text/html": [
       "<div>\n",
       "<style scoped>\n",
       "    .dataframe tbody tr th:only-of-type {\n",
       "        vertical-align: middle;\n",
       "    }\n",
       "\n",
       "    .dataframe tbody tr th {\n",
       "        vertical-align: top;\n",
       "    }\n",
       "\n",
       "    .dataframe thead th {\n",
       "        text-align: right;\n",
       "    }\n",
       "</style>\n",
       "<table border=\"1\" class=\"dataframe\">\n",
       "  <thead>\n",
       "    <tr style=\"text-align: right;\">\n",
       "      <th></th>\n",
       "      <th>uid</th>\n",
       "      <th>mid</th>\n",
       "      <th>rating</th>\n",
       "      <th>timestamp</th>\n",
       "    </tr>\n",
       "  </thead>\n",
       "  <tbody>\n",
       "    <tr>\n",
       "      <th>0</th>\n",
       "      <td>1</td>\n",
       "      <td>1193</td>\n",
       "      <td>5</td>\n",
       "      <td>978300760</td>\n",
       "    </tr>\n",
       "    <tr>\n",
       "      <th>1</th>\n",
       "      <td>1</td>\n",
       "      <td>661</td>\n",
       "      <td>3</td>\n",
       "      <td>978302109</td>\n",
       "    </tr>\n",
       "    <tr>\n",
       "      <th>2</th>\n",
       "      <td>1</td>\n",
       "      <td>914</td>\n",
       "      <td>3</td>\n",
       "      <td>978301968</td>\n",
       "    </tr>\n",
       "    <tr>\n",
       "      <th>3</th>\n",
       "      <td>1</td>\n",
       "      <td>3408</td>\n",
       "      <td>4</td>\n",
       "      <td>978300275</td>\n",
       "    </tr>\n",
       "    <tr>\n",
       "      <th>4</th>\n",
       "      <td>1</td>\n",
       "      <td>2355</td>\n",
       "      <td>5</td>\n",
       "      <td>978824291</td>\n",
       "    </tr>\n",
       "  </tbody>\n",
       "</table>\n",
       "</div>"
      ],
      "text/plain": [
       "   uid   mid  rating  timestamp\n",
       "0    1  1193       5  978300760\n",
       "1    1   661       3  978302109\n",
       "2    1   914       3  978301968\n",
       "3    1  3408       4  978300275\n",
       "4    1  2355       5  978824291"
      ]
     },
     "execution_count": 7,
     "metadata": {},
     "output_type": "execute_result"
    }
   ],
   "source": [
    "ratings = pd.read_csv('ml-1m/ratings.dat', sep='::', engine = 'python', header=None)\n",
    "ratings.rename(columns = {0:'uid',1:'mid',2:'rating', 3:'timestamp'}, inplace=True)\n",
    "ratings.head()"
   ]
  },
  {
   "cell_type": "code",
   "execution_count": 8,
   "id": "14b27188-feb3-4e87-bdcf-cfbfbfac2f86",
   "metadata": {
    "tags": []
   },
   "outputs": [
    {
     "name": "stdout",
     "output_type": "stream",
     "text": [
      "<class 'pandas.core.frame.DataFrame'>\n",
      "RangeIndex: 3883 entries, 0 to 3882\n",
      "Data columns (total 3 columns):\n",
      " #   Column  Non-Null Count  Dtype \n",
      "---  ------  --------------  ----- \n",
      " 0   mid     3883 non-null   int64 \n",
      " 1   title   3883 non-null   object\n",
      " 2   genres  3883 non-null   object\n",
      "dtypes: int64(1), object(2)\n",
      "memory usage: 91.1+ KB\n"
     ]
    }
   ],
   "source": [
    "movies.info()"
   ]
  },
  {
   "cell_type": "code",
   "execution_count": 9,
   "id": "29bb24b1-6620-4da3-bfb5-a6a7e2c5272f",
   "metadata": {
    "tags": []
   },
   "outputs": [
    {
     "name": "stdout",
     "output_type": "stream",
     "text": [
      "<class 'pandas.core.frame.DataFrame'>\n",
      "RangeIndex: 1000209 entries, 0 to 1000208\n",
      "Data columns (total 4 columns):\n",
      " #   Column     Non-Null Count    Dtype\n",
      "---  ------     --------------    -----\n",
      " 0   uid        1000209 non-null  int64\n",
      " 1   mid        1000209 non-null  int64\n",
      " 2   rating     1000209 non-null  int64\n",
      " 3   timestamp  1000209 non-null  int64\n",
      "dtypes: int64(4)\n",
      "memory usage: 30.5 MB\n"
     ]
    }
   ],
   "source": [
    "ratings.info()"
   ]
  },
  {
   "cell_type": "code",
   "execution_count": 10,
   "id": "ed80b361-330e-4f07-9a24-f95da429c49e",
   "metadata": {
    "tags": []
   },
   "outputs": [],
   "source": [
    "movies_with_ratings = movies.merge(ratings, on='mid').reset_index(drop=True)\n",
    "movies_with_ratings.dropna(inplace=True)"
   ]
  },
  {
   "cell_type": "code",
   "execution_count": 11,
   "id": "5bd38efb-577c-4c4b-9be4-07293884b006",
   "metadata": {
    "tags": []
   },
   "outputs": [
    {
     "data": {
      "text/plain": [
       "title\n",
       "American Beauty (1999)                                      3428\n",
       "Star Wars: Episode IV - A New Hope (1977)                   2991\n",
       "Star Wars: Episode V - The Empire Strikes Back (1980)       2990\n",
       "Star Wars: Episode VI - Return of the Jedi (1983)           2883\n",
       "Jurassic Park (1993)                                        2672\n",
       "                                                            ... \n",
       "Kestrel's Eye (Falkens öga) (1998)                             1\n",
       "Last of the High Kings, The (a.k.a. Summer Fling) (1996)       1\n",
       "Condition Red (1995)                                           1\n",
       "Beauty (1998)                                                  1\n",
       "Soft Toilet Seats (1999)                                       1\n",
       "Name: count, Length: 3706, dtype: int64"
      ]
     },
     "execution_count": 11,
     "metadata": {},
     "output_type": "execute_result"
    }
   ],
   "source": [
    "movies_with_ratings.title.value_counts()"
   ]
  },
  {
   "cell_type": "code",
   "execution_count": 12,
   "id": "5cd42db9-be61-4641-8fc8-7f4d8d21cf74",
   "metadata": {
    "tags": []
   },
   "outputs": [
    {
     "data": {
      "text/plain": [
       "uid\n",
       "4169    2314\n",
       "1680    1850\n",
       "4277    1743\n",
       "1941    1595\n",
       "1181    1521\n",
       "        ... \n",
       "311       20\n",
       "5525      20\n",
       "4068      20\n",
       "2381      20\n",
       "761       20\n",
       "Name: count, Length: 6040, dtype: int64"
      ]
     },
     "execution_count": 12,
     "metadata": {},
     "output_type": "execute_result"
    }
   ],
   "source": [
    "movies_with_ratings.uid.value_counts()"
   ]
  },
  {
   "cell_type": "code",
   "execution_count": 13,
   "id": "e49c0839-5cc1-4674-9c77-338b29b5f548",
   "metadata": {
    "tags": []
   },
   "outputs": [
    {
     "data": {
      "text/plain": [
       "6040"
      ]
     },
     "execution_count": 13,
     "metadata": {},
     "output_type": "execute_result"
    }
   ],
   "source": [
    "num_users = movies_with_ratings.uid.unique().shape[0]\n",
    "num_users"
   ]
  },
  {
   "cell_type": "code",
   "execution_count": 14,
   "id": "b549ce39-28f0-4f9f-96b7-45c4d3260ea5",
   "metadata": {
    "tags": []
   },
   "outputs": [
    {
     "data": {
      "text/html": [
       "<div>\n",
       "<style scoped>\n",
       "    .dataframe tbody tr th:only-of-type {\n",
       "        vertical-align: middle;\n",
       "    }\n",
       "\n",
       "    .dataframe tbody tr th {\n",
       "        vertical-align: top;\n",
       "    }\n",
       "\n",
       "    .dataframe thead th {\n",
       "        text-align: right;\n",
       "    }\n",
       "</style>\n",
       "<table border=\"1\" class=\"dataframe\">\n",
       "  <thead>\n",
       "    <tr style=\"text-align: right;\">\n",
       "      <th></th>\n",
       "      <th>mid</th>\n",
       "      <th>title</th>\n",
       "      <th>genres</th>\n",
       "      <th>uid</th>\n",
       "      <th>rating</th>\n",
       "      <th>timestamp</th>\n",
       "    </tr>\n",
       "  </thead>\n",
       "  <tbody>\n",
       "    <tr>\n",
       "      <th>0</th>\n",
       "      <td>1</td>\n",
       "      <td>Toy Story (1995)</td>\n",
       "      <td>Animation|Children's|Comedy</td>\n",
       "      <td>1</td>\n",
       "      <td>5</td>\n",
       "      <td>978824268</td>\n",
       "    </tr>\n",
       "    <tr>\n",
       "      <th>1</th>\n",
       "      <td>1</td>\n",
       "      <td>Toy Story (1995)</td>\n",
       "      <td>Animation|Children's|Comedy</td>\n",
       "      <td>6</td>\n",
       "      <td>4</td>\n",
       "      <td>978237008</td>\n",
       "    </tr>\n",
       "    <tr>\n",
       "      <th>2</th>\n",
       "      <td>1</td>\n",
       "      <td>Toy Story (1995)</td>\n",
       "      <td>Animation|Children's|Comedy</td>\n",
       "      <td>8</td>\n",
       "      <td>4</td>\n",
       "      <td>978233496</td>\n",
       "    </tr>\n",
       "    <tr>\n",
       "      <th>3</th>\n",
       "      <td>1</td>\n",
       "      <td>Toy Story (1995)</td>\n",
       "      <td>Animation|Children's|Comedy</td>\n",
       "      <td>9</td>\n",
       "      <td>5</td>\n",
       "      <td>978225952</td>\n",
       "    </tr>\n",
       "    <tr>\n",
       "      <th>4</th>\n",
       "      <td>1</td>\n",
       "      <td>Toy Story (1995)</td>\n",
       "      <td>Animation|Children's|Comedy</td>\n",
       "      <td>10</td>\n",
       "      <td>5</td>\n",
       "      <td>978226474</td>\n",
       "    </tr>\n",
       "  </tbody>\n",
       "</table>\n",
       "</div>"
      ],
      "text/plain": [
       "   mid             title                       genres  uid  rating  timestamp\n",
       "0    1  Toy Story (1995)  Animation|Children's|Comedy    1       5  978824268\n",
       "1    1  Toy Story (1995)  Animation|Children's|Comedy    6       4  978237008\n",
       "2    1  Toy Story (1995)  Animation|Children's|Comedy    8       4  978233496\n",
       "3    1  Toy Story (1995)  Animation|Children's|Comedy    9       5  978225952\n",
       "4    1  Toy Story (1995)  Animation|Children's|Comedy   10       5  978226474"
      ]
     },
     "execution_count": 14,
     "metadata": {},
     "output_type": "execute_result"
    }
   ],
   "source": [
    "movies_with_ratings.head()"
   ]
  },
  {
   "cell_type": "code",
   "execution_count": 15,
   "id": "a925518c-f01f-46c8-a4cb-9621f82a7d5b",
   "metadata": {},
   "outputs": [],
   "source": [
    "#!pip install surprise"
   ]
  },
  {
   "cell_type": "code",
   "execution_count": 16,
   "id": "856e3fc7-4593-4e40-b28b-e12d5caa15ab",
   "metadata": {
    "tags": []
   },
   "outputs": [],
   "source": [
    "from surprise import KNNWithMeans, SVD, SVDpp\n",
    "from surprise import Dataset\n",
    "from surprise import accuracy\n",
    "from surprise import Reader\n",
    "from surprise.model_selection import cross_validate"
   ]
  },
  {
   "cell_type": "code",
   "execution_count": 17,
   "id": "b687fc0c-6f26-42c4-89c5-915a00f855c8",
   "metadata": {
    "tags": []
   },
   "outputs": [],
   "source": [
    "dataset = pd.DataFrame({\n",
    "    'uid': movies_with_ratings.uid,\n",
    "    'iid': movies_with_ratings.title,\n",
    "    'rating': movies_with_ratings.rating\n",
    "})"
   ]
  },
  {
   "cell_type": "code",
   "execution_count": 18,
   "id": "b9390bc4-332e-40ed-9e4a-fa6f5ef45ee1",
   "metadata": {
    "tags": []
   },
   "outputs": [
    {
     "data": {
      "text/html": [
       "<div>\n",
       "<style scoped>\n",
       "    .dataframe tbody tr th:only-of-type {\n",
       "        vertical-align: middle;\n",
       "    }\n",
       "\n",
       "    .dataframe tbody tr th {\n",
       "        vertical-align: top;\n",
       "    }\n",
       "\n",
       "    .dataframe thead th {\n",
       "        text-align: right;\n",
       "    }\n",
       "</style>\n",
       "<table border=\"1\" class=\"dataframe\">\n",
       "  <thead>\n",
       "    <tr style=\"text-align: right;\">\n",
       "      <th></th>\n",
       "      <th>uid</th>\n",
       "      <th>iid</th>\n",
       "      <th>rating</th>\n",
       "    </tr>\n",
       "  </thead>\n",
       "  <tbody>\n",
       "    <tr>\n",
       "      <th>0</th>\n",
       "      <td>1</td>\n",
       "      <td>Toy Story (1995)</td>\n",
       "      <td>5</td>\n",
       "    </tr>\n",
       "    <tr>\n",
       "      <th>1</th>\n",
       "      <td>6</td>\n",
       "      <td>Toy Story (1995)</td>\n",
       "      <td>4</td>\n",
       "    </tr>\n",
       "    <tr>\n",
       "      <th>2</th>\n",
       "      <td>8</td>\n",
       "      <td>Toy Story (1995)</td>\n",
       "      <td>4</td>\n",
       "    </tr>\n",
       "    <tr>\n",
       "      <th>3</th>\n",
       "      <td>9</td>\n",
       "      <td>Toy Story (1995)</td>\n",
       "      <td>5</td>\n",
       "    </tr>\n",
       "    <tr>\n",
       "      <th>4</th>\n",
       "      <td>10</td>\n",
       "      <td>Toy Story (1995)</td>\n",
       "      <td>5</td>\n",
       "    </tr>\n",
       "  </tbody>\n",
       "</table>\n",
       "</div>"
      ],
      "text/plain": [
       "   uid               iid  rating\n",
       "0    1  Toy Story (1995)       5\n",
       "1    6  Toy Story (1995)       4\n",
       "2    8  Toy Story (1995)       4\n",
       "3    9  Toy Story (1995)       5\n",
       "4   10  Toy Story (1995)       5"
      ]
     },
     "execution_count": 18,
     "metadata": {},
     "output_type": "execute_result"
    }
   ],
   "source": [
    "dataset.head()"
   ]
  },
  {
   "cell_type": "code",
   "execution_count": 19,
   "id": "13a22b67-4263-42ae-8006-c61768f5ec72",
   "metadata": {
    "tags": []
   },
   "outputs": [
    {
     "data": {
      "text/plain": [
       "1"
      ]
     },
     "execution_count": 19,
     "metadata": {},
     "output_type": "execute_result"
    }
   ],
   "source": [
    "dataset.rating.min()"
   ]
  },
  {
   "cell_type": "code",
   "execution_count": 20,
   "id": "762dc61b-c381-4b79-a420-6eea9a696725",
   "metadata": {
    "tags": []
   },
   "outputs": [
    {
     "data": {
      "text/plain": [
       "5"
      ]
     },
     "execution_count": 20,
     "metadata": {},
     "output_type": "execute_result"
    }
   ],
   "source": [
    "dataset.rating.max()"
   ]
  },
  {
   "cell_type": "code",
   "execution_count": 21,
   "id": "ebdf2579-00b6-4205-8a2f-18761b8ddd1f",
   "metadata": {
    "tags": []
   },
   "outputs": [],
   "source": [
    "reader = Reader(rating_scale=(1.0, 5.0))\n",
    "data = Dataset.load_from_df(dataset, reader)"
   ]
  },
  {
   "cell_type": "code",
   "execution_count": 22,
   "id": "8ab85963-d4b8-4b57-a6d7-a398cb9693ca",
   "metadata": {
    "tags": []
   },
   "outputs": [
    {
     "data": {
      "text/plain": [
       "(6040, 3706)"
      ]
     },
     "execution_count": 22,
     "metadata": {},
     "output_type": "execute_result"
    }
   ],
   "source": [
    "dataset['uid'].nunique(), dataset['iid'].nunique()"
   ]
  },
  {
   "cell_type": "code",
   "execution_count": 23,
   "id": "18dbbb7d-d195-4855-bd5d-39c4570bc713",
   "metadata": {
    "tags": []
   },
   "outputs": [],
   "source": [
    "methods_list = [KNNWithMeans(k=50, sim_options={'name': 'cosine', 'user_based': False}),\n",
    "                KNNWithMeans(k=50, sim_options={'name': 'cosine', 'user_based': True}),\n",
    "                SVD(),\n",
    "                SVDpp()]"
   ]
  },
  {
   "cell_type": "code",
   "execution_count": 24,
   "id": "3fa52a3d-220f-49d4-b969-c3839c61255b",
   "metadata": {
    "tags": []
   },
   "outputs": [
    {
     "name": "stdout",
     "output_type": "stream",
     "text": [
      "Evaluating RMSE, MAE of algorithm KNNWithMeans on 5 split(s).\n",
      "\n",
      "                  Fold 1  Fold 2  Fold 3  Fold 4  Fold 5  Mean    Std     \n",
      "RMSE (testset)    0.8946  0.8944  0.8917  0.8929  0.8912  0.8930  0.0014  \n",
      "MAE (testset)     0.7036  0.7025  0.7008  0.7020  0.7010  0.7020  0.0010  \n",
      "Fit time          49.63   49.07   49.64   49.90   49.68   49.58   0.28    \n",
      "Test time         61.68   63.80   63.17   62.82   62.21   62.74   0.74    \n",
      "Evaluating RMSE, MAE of algorithm KNNWithMeans on 5 split(s).\n",
      "\n",
      "                  Fold 1  Fold 2  Fold 3  Fold 4  Fold 5  Mean    Std     \n",
      "RMSE (testset)    0.9339  0.9359  0.9390  0.9355  0.9373  0.9363  0.0017  \n",
      "MAE (testset)     0.7432  0.7447  0.7470  0.7458  0.7453  0.7452  0.0013  \n",
      "Fit time          124.84  127.36  125.53  123.91  124.40  125.21  1.20    \n",
      "Test time         92.14   90.30   90.93   90.42   90.51   90.86   0.68    \n",
      "Evaluating RMSE, MAE of algorithm SVD on 5 split(s).\n",
      "\n",
      "                  Fold 1  Fold 2  Fold 3  Fold 4  Fold 5  Mean    Std     \n",
      "RMSE (testset)    0.8715  0.8733  0.8748  0.8751  0.8746  0.8738  0.0013  \n",
      "MAE (testset)     0.6839  0.6851  0.6866  0.6873  0.6867  0.6859  0.0013  \n",
      "Fit time          5.98    6.83    7.46    7.47    7.14    6.98    0.55    \n",
      "Test time         2.56    2.34    1.88    1.61    1.47    1.97    0.42    \n",
      "Evaluating RMSE, MAE of algorithm SVDpp on 5 split(s).\n",
      "\n",
      "                  Fold 1  Fold 2  Fold 3  Fold 4  Fold 5  Mean    Std     \n",
      "RMSE (testset)    0.8642  0.8629  0.8617  0.8616  0.8609  0.8623  0.0012  \n",
      "MAE (testset)     0.6736  0.6737  0.6723  0.6710  0.6721  0.6725  0.0010  \n",
      "Fit time          316.82  316.58  317.88  317.40  317.78  317.29  0.51    \n",
      "Test time         68.82   69.55   68.64   68.87   68.37   68.85   0.39    \n"
     ]
    }
   ],
   "source": [
    "for method in methods_list:\n",
    "    algo = method\n",
    "    cross_validate(algo, data, measures=['RMSE', 'MAE'], cv=5, verbose=True, n_jobs=-1)"
   ]
  },
  {
   "cell_type": "markdown",
   "id": "b16a5855-82bc-4ef1-90ed-90570c74dcc0",
   "metadata": {},
   "source": [
    "## Наиболее эффективным оказался алгоритм SVDpp с результатом RMSE менее 0.87"
   ]
  },
  {
   "cell_type": "code",
   "execution_count": null,
   "id": "363d5451-c865-4733-8806-085eeb284e4c",
   "metadata": {},
   "outputs": [],
   "source": []
  },
  {
   "cell_type": "code",
   "execution_count": null,
   "id": "a2138f6f-e92a-4fbc-a256-e6fdea0c9102",
   "metadata": {},
   "outputs": [],
   "source": []
  },
  {
   "cell_type": "code",
   "execution_count": null,
   "id": "dd4a88a6-bb10-45c7-865b-c2060004141d",
   "metadata": {},
   "outputs": [],
   "source": []
  }
 ],
 "metadata": {
  "kernelspec": {
   "display_name": "Python 3 (ipykernel)",
   "language": "python",
   "name": "python3"
  },
  "language_info": {
   "codemirror_mode": {
    "name": "ipython",
    "version": 3
   },
   "file_extension": ".py",
   "mimetype": "text/x-python",
   "name": "python",
   "nbconvert_exporter": "python",
   "pygments_lexer": "ipython3",
   "version": "3.11.7"
  }
 },
 "nbformat": 4,
 "nbformat_minor": 5
}
