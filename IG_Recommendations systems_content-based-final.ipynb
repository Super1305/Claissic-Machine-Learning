{
 "cells": [
  {
   "cell_type": "markdown",
   "id": "55d93ccd-b392-4f5d-99b8-ed83e906ca10",
   "metadata": {},
   "source": [
    "## Домашнее задание по теме   \n",
    "## «Рекомендации на основе содержания»"
   ]
  },
  {
   "cell_type": "markdown",
   "id": "4688c384-4911-4000-98d3-15d3cecc3891",
   "metadata": {
    "tags": []
   },
   "source": [
    "##### 1. Использовать датасет [MovieLens](https://grouplens.org/datasets/movielens/latest/)."
   ]
  },
  {
   "cell_type": "markdown",
   "id": "89afbfc7-4a37-4484-9030-590f9f8364db",
   "metadata": {},
   "source": [
    "##### 2.Построить рекомендации (регрессия, предсказываем оценку) на фичах:\n",
    "* TF-IDF на тегах и жанрах;\n",
    "* средние оценки (+ median, variance и т. д.) пользователя и фильма."
   ]
  },
  {
   "cell_type": "markdown",
   "id": "7a00e11c-c908-448e-bf67-93b20e602668",
   "metadata": {},
   "source": [
    "##### 3. Оценить RMSE на тестовой выборке."
   ]
  },
  {
   "cell_type": "code",
   "execution_count": 1,
   "id": "392798da-3207-4302-a66b-df2e1ac75d9c",
   "metadata": {
    "id": "ozgtY23_6PKa",
    "tags": []
   },
   "outputs": [],
   "source": [
    "import pandas as pd\n",
    "import numpy as np\n",
    "from collections import Counter\n",
    "from datetime import datetime\n",
    "import matplotlib.pyplot as plt"
   ]
  },
  {
   "cell_type": "code",
   "execution_count": 2,
   "id": "237826b0-7981-497f-94ea-a31fc5908c04",
   "metadata": {
    "id": "4wPzNHrl6PKf",
    "scrolled": true,
    "tags": []
   },
   "outputs": [],
   "source": [
    "links = pd.read_csv('ml-latest-small/links.csv')\n",
    "movies = pd.read_csv('ml-latest-small/movies.csv')\n",
    "ratings = pd.read_csv('ml-latest-small/ratings.csv')\n",
    "tags = pd.read_csv('ml-latest-small/tags.csv')"
   ]
  },
  {
   "cell_type": "code",
   "execution_count": 3,
   "id": "db7660cc-8b69-4953-877f-dd5a36389490",
   "metadata": {
    "tags": []
   },
   "outputs": [
    {
     "data": {
      "text/html": [
       "<div>\n",
       "<style scoped>\n",
       "    .dataframe tbody tr th:only-of-type {\n",
       "        vertical-align: middle;\n",
       "    }\n",
       "\n",
       "    .dataframe tbody tr th {\n",
       "        vertical-align: top;\n",
       "    }\n",
       "\n",
       "    .dataframe thead th {\n",
       "        text-align: right;\n",
       "    }\n",
       "</style>\n",
       "<table border=\"1\" class=\"dataframe\">\n",
       "  <thead>\n",
       "    <tr style=\"text-align: right;\">\n",
       "      <th></th>\n",
       "      <th>userId</th>\n",
       "      <th>movieId</th>\n",
       "      <th>rating</th>\n",
       "      <th>timestamp</th>\n",
       "    </tr>\n",
       "  </thead>\n",
       "  <tbody>\n",
       "    <tr>\n",
       "      <th>0</th>\n",
       "      <td>1</td>\n",
       "      <td>1</td>\n",
       "      <td>4.0</td>\n",
       "      <td>964982703</td>\n",
       "    </tr>\n",
       "    <tr>\n",
       "      <th>1</th>\n",
       "      <td>1</td>\n",
       "      <td>3</td>\n",
       "      <td>4.0</td>\n",
       "      <td>964981247</td>\n",
       "    </tr>\n",
       "    <tr>\n",
       "      <th>2</th>\n",
       "      <td>1</td>\n",
       "      <td>6</td>\n",
       "      <td>4.0</td>\n",
       "      <td>964982224</td>\n",
       "    </tr>\n",
       "    <tr>\n",
       "      <th>3</th>\n",
       "      <td>1</td>\n",
       "      <td>47</td>\n",
       "      <td>5.0</td>\n",
       "      <td>964983815</td>\n",
       "    </tr>\n",
       "    <tr>\n",
       "      <th>4</th>\n",
       "      <td>1</td>\n",
       "      <td>50</td>\n",
       "      <td>5.0</td>\n",
       "      <td>964982931</td>\n",
       "    </tr>\n",
       "  </tbody>\n",
       "</table>\n",
       "</div>"
      ],
      "text/plain": [
       "   userId  movieId  rating  timestamp\n",
       "0       1        1     4.0  964982703\n",
       "1       1        3     4.0  964981247\n",
       "2       1        6     4.0  964982224\n",
       "3       1       47     5.0  964983815\n",
       "4       1       50     5.0  964982931"
      ]
     },
     "execution_count": 3,
     "metadata": {},
     "output_type": "execute_result"
    }
   ],
   "source": [
    "ratings.head()"
   ]
  },
  {
   "cell_type": "code",
   "execution_count": 7,
   "id": "98385836-33f6-4a4e-8e1b-90547c13b847",
   "metadata": {
    "tags": []
   },
   "outputs": [],
   "source": [
    "ratings['dt'] = ratings['timestamp'].apply(lambda t: datetime.fromtimestamp(t))\n",
    "ratings['month'] = ratings.dt.dt.month\n",
    "ratings['year'] = ratings.dt.dt.year\n",
    "ratings.drop(columns = ['timestamp', 'dt'], inplace=True)"
   ]
  },
  {
   "cell_type": "code",
   "execution_count": 9,
   "id": "65fcf1dc-d872-4435-bbd8-092f8f42a8a0",
   "metadata": {
    "tags": []
   },
   "outputs": [
    {
     "name": "stdout",
     "output_type": "stream",
     "text": [
      " number of users = 610,      \n",
      " number of movies = 9724\n"
     ]
    }
   ],
   "source": [
    "print(f' number of users = {ratings.userId.nunique()},\\\n",
    "      \\n number of movies = {ratings.movieId.nunique()}')"
   ]
  },
  {
   "cell_type": "code",
   "execution_count": 11,
   "id": "df306624-0612-46d3-b9ae-4bf00ee1adc9",
   "metadata": {
    "tags": []
   },
   "outputs": [],
   "source": [
    "userId_median = ratings.groupby('userId',as_index=False).median('rating')[['userId','rating']].\\\n",
    "                        rename(columns={'rating':'rating_user_median'})\n",
    "movieId_median = ratings.groupby('movieId',as_index=False).median('rating')[['movieId','rating']].\\\n",
    "                        rename(columns={'rating':'rating_movie_median'})\n",
    "userId_mean = ratings.groupby('userId',as_index=False).mean('rating')[['userId','rating']].\\\n",
    "                        rename(columns={'rating':'rating_user_mean'})\n",
    "movieId_mean = ratings.groupby('movieId',as_index=False).mean('rating')[['movieId','rating']].\\\n",
    "                        rename(columns={'rating':'rating_movie_mean'})"
   ]
  },
  {
   "cell_type": "code",
   "execution_count": 13,
   "id": "462c9aa7-a4c0-46fa-8cfa-b6fd1b4bfc9b",
   "metadata": {
    "tags": []
   },
   "outputs": [],
   "source": [
    "ratings = ratings.merge(userId_median, on='userId', how='left').\\\n",
    "            merge(movieId_median, on='movieId', how='left').\\\n",
    "            merge(userId_mean, on='userId', how='left').\\\n",
    "            merge(movieId_mean, on='movieId', how='left')"
   ]
  },
  {
   "cell_type": "code",
   "execution_count": 15,
   "id": "f8f4d9ad-9d93-4780-b974-d8d9107b4498",
   "metadata": {
    "tags": []
   },
   "outputs": [
    {
     "name": "stdout",
     "output_type": "stream",
     "text": [
      "<class 'pandas.core.frame.DataFrame'>\n",
      "RangeIndex: 100836 entries, 0 to 100835\n",
      "Data columns (total 9 columns):\n",
      " #   Column               Non-Null Count   Dtype  \n",
      "---  ------               --------------   -----  \n",
      " 0   userId               100836 non-null  int64  \n",
      " 1   movieId              100836 non-null  int64  \n",
      " 2   rating               100836 non-null  float64\n",
      " 3   month                100836 non-null  int32  \n",
      " 4   year                 100836 non-null  int32  \n",
      " 5   rating_user_median   100836 non-null  float64\n",
      " 6   rating_movie_median  100836 non-null  float64\n",
      " 7   rating_user_mean     100836 non-null  float64\n",
      " 8   rating_movie_mean    100836 non-null  float64\n",
      "dtypes: float64(5), int32(2), int64(2)\n",
      "memory usage: 6.2 MB\n"
     ]
    }
   ],
   "source": [
    "ratings.info()"
   ]
  },
  {
   "cell_type": "code",
   "execution_count": 17,
   "id": "329eab6c-8531-47c6-b0dd-61c96b78fe5c",
   "metadata": {
    "tags": []
   },
   "outputs": [
    {
     "data": {
      "text/html": [
       "<div>\n",
       "<style scoped>\n",
       "    .dataframe tbody tr th:only-of-type {\n",
       "        vertical-align: middle;\n",
       "    }\n",
       "\n",
       "    .dataframe tbody tr th {\n",
       "        vertical-align: top;\n",
       "    }\n",
       "\n",
       "    .dataframe thead th {\n",
       "        text-align: right;\n",
       "    }\n",
       "</style>\n",
       "<table border=\"1\" class=\"dataframe\">\n",
       "  <thead>\n",
       "    <tr style=\"text-align: right;\">\n",
       "      <th></th>\n",
       "      <th>userId</th>\n",
       "      <th>movieId</th>\n",
       "      <th>tag</th>\n",
       "      <th>timestamp</th>\n",
       "    </tr>\n",
       "  </thead>\n",
       "  <tbody>\n",
       "    <tr>\n",
       "      <th>0</th>\n",
       "      <td>2</td>\n",
       "      <td>60756</td>\n",
       "      <td>funny</td>\n",
       "      <td>1445714994</td>\n",
       "    </tr>\n",
       "    <tr>\n",
       "      <th>1</th>\n",
       "      <td>2</td>\n",
       "      <td>60756</td>\n",
       "      <td>Highly quotable</td>\n",
       "      <td>1445714996</td>\n",
       "    </tr>\n",
       "    <tr>\n",
       "      <th>2</th>\n",
       "      <td>2</td>\n",
       "      <td>60756</td>\n",
       "      <td>will ferrell</td>\n",
       "      <td>1445714992</td>\n",
       "    </tr>\n",
       "    <tr>\n",
       "      <th>3</th>\n",
       "      <td>2</td>\n",
       "      <td>89774</td>\n",
       "      <td>Boxing story</td>\n",
       "      <td>1445715207</td>\n",
       "    </tr>\n",
       "    <tr>\n",
       "      <th>4</th>\n",
       "      <td>2</td>\n",
       "      <td>89774</td>\n",
       "      <td>MMA</td>\n",
       "      <td>1445715200</td>\n",
       "    </tr>\n",
       "  </tbody>\n",
       "</table>\n",
       "</div>"
      ],
      "text/plain": [
       "   userId  movieId              tag   timestamp\n",
       "0       2    60756            funny  1445714994\n",
       "1       2    60756  Highly quotable  1445714996\n",
       "2       2    60756     will ferrell  1445714992\n",
       "3       2    89774     Boxing story  1445715207\n",
       "4       2    89774              MMA  1445715200"
      ]
     },
     "execution_count": 17,
     "metadata": {},
     "output_type": "execute_result"
    }
   ],
   "source": [
    "tags.head()"
   ]
  },
  {
   "cell_type": "code",
   "execution_count": 19,
   "id": "c6bebdb9-2f4c-428e-aaa1-efaa7d973cca",
   "metadata": {
    "tags": []
   },
   "outputs": [],
   "source": [
    "tags['tag']=tags['tag']+'|'"
   ]
  },
  {
   "cell_type": "code",
   "execution_count": 21,
   "id": "79126391-0a73-4f97-baa6-fc541847b8b0",
   "metadata": {
    "tags": []
   },
   "outputs": [],
   "source": [
    "tags = tags.groupby(['userId', 'movieId'], as_index=False).agg({'tag':'sum'})"
   ]
  },
  {
   "cell_type": "code",
   "execution_count": 23,
   "id": "54e5c59c-c24d-478d-a537-09741d20a7e6",
   "metadata": {
    "tags": []
   },
   "outputs": [
    {
     "data": {
      "text/html": [
       "<div>\n",
       "<style scoped>\n",
       "    .dataframe tbody tr th:only-of-type {\n",
       "        vertical-align: middle;\n",
       "    }\n",
       "\n",
       "    .dataframe tbody tr th {\n",
       "        vertical-align: top;\n",
       "    }\n",
       "\n",
       "    .dataframe thead th {\n",
       "        text-align: right;\n",
       "    }\n",
       "</style>\n",
       "<table border=\"1\" class=\"dataframe\">\n",
       "  <thead>\n",
       "    <tr style=\"text-align: right;\">\n",
       "      <th></th>\n",
       "      <th>userId</th>\n",
       "      <th>movieId</th>\n",
       "      <th>tag</th>\n",
       "    </tr>\n",
       "  </thead>\n",
       "  <tbody>\n",
       "    <tr>\n",
       "      <th>0</th>\n",
       "      <td>2</td>\n",
       "      <td>60756</td>\n",
       "      <td>funny|Highly quotable|will ferrell|</td>\n",
       "    </tr>\n",
       "    <tr>\n",
       "      <th>1</th>\n",
       "      <td>2</td>\n",
       "      <td>89774</td>\n",
       "      <td>Boxing story|MMA|Tom Hardy|</td>\n",
       "    </tr>\n",
       "    <tr>\n",
       "      <th>2</th>\n",
       "      <td>2</td>\n",
       "      <td>106782</td>\n",
       "      <td>drugs|Leonardo DiCaprio|Martin Scorsese|</td>\n",
       "    </tr>\n",
       "    <tr>\n",
       "      <th>3</th>\n",
       "      <td>7</td>\n",
       "      <td>48516</td>\n",
       "      <td>way too long|</td>\n",
       "    </tr>\n",
       "    <tr>\n",
       "      <th>4</th>\n",
       "      <td>18</td>\n",
       "      <td>431</td>\n",
       "      <td>Al Pacino|gangster|mafia|</td>\n",
       "    </tr>\n",
       "  </tbody>\n",
       "</table>\n",
       "</div>"
      ],
      "text/plain": [
       "   userId  movieId                                       tag\n",
       "0       2    60756       funny|Highly quotable|will ferrell|\n",
       "1       2    89774               Boxing story|MMA|Tom Hardy|\n",
       "2       2   106782  drugs|Leonardo DiCaprio|Martin Scorsese|\n",
       "3       7    48516                             way too long|\n",
       "4      18      431                 Al Pacino|gangster|mafia|"
      ]
     },
     "execution_count": 23,
     "metadata": {},
     "output_type": "execute_result"
    }
   ],
   "source": [
    "tags.head()"
   ]
  },
  {
   "cell_type": "code",
   "execution_count": 25,
   "id": "3d4fe856-995f-4c7b-a850-6abbc6acb76e",
   "metadata": {
    "id": "9O9LpFiwQMMS",
    "tags": []
   },
   "outputs": [],
   "source": [
    "from sklearn.feature_extraction.text import TfidfVectorizer"
   ]
  },
  {
   "cell_type": "code",
   "execution_count": 27,
   "id": "7e283d92-ce87-498c-abb2-6994effabe09",
   "metadata": {
    "id": "QybVNKP9QMMZ",
    "tags": []
   },
   "outputs": [],
   "source": [
    "def change_string_tag(s):\n",
    "    return ' '.join(s.replace('-', '').split('|')).lower()"
   ]
  },
  {
   "cell_type": "code",
   "execution_count": 29,
   "id": "906d3b34-b4d2-4e58-abe8-d68b197a68b5",
   "metadata": {
    "colab": {
     "base_uri": "https://localhost:8080/"
    },
    "id": "IhC74ybpQMMb",
    "outputId": "198f5fd3-288f-4195-e871-0adcd7bf2437",
    "tags": []
   },
   "outputs": [],
   "source": [
    "tags_tags = [change_string_tag(g) for g in tags.tag.values]"
   ]
  },
  {
   "cell_type": "code",
   "execution_count": 31,
   "id": "d5cd8a5c-bb8b-4639-9e44-6041974e1a9e",
   "metadata": {
    "tags": []
   },
   "outputs": [
    {
     "data": {
      "text/plain": [
       "<1775x1748 sparse matrix of type '<class 'numpy.float64'>'\n",
       "\twith 5350 stored elements in Compressed Sparse Row format>"
      ]
     },
     "execution_count": 31,
     "metadata": {},
     "output_type": "execute_result"
    }
   ],
   "source": [
    "tfidf = TfidfVectorizer()\n",
    "X_train_tfidf = tfidf.fit_transform(tags_tags)\n",
    "X_train_tfidf"
   ]
  },
  {
   "cell_type": "code",
   "execution_count": 33,
   "id": "559b488b-942b-4b8a-be74-0a9a93911c1f",
   "metadata": {
    "tags": []
   },
   "outputs": [],
   "source": [
    "tags_tfidf = pd.DataFrame(X_train_tfidf.toarray(), columns=tfidf.get_feature_names_out())"
   ]
  },
  {
   "cell_type": "code",
   "execution_count": 35,
   "id": "b71ab747-7633-44f1-b964-acdead9dfeff",
   "metadata": {
    "tags": []
   },
   "outputs": [],
   "source": [
    "tags_tfidf[['userId','movieId']]=tags[['userId','movieId']]"
   ]
  },
  {
   "cell_type": "code",
   "execution_count": 37,
   "id": "5160daa9-f4a5-4bd0-b147-e775a1e192b4",
   "metadata": {
    "tags": []
   },
   "outputs": [
    {
     "data": {
      "text/html": [
       "<div>\n",
       "<style scoped>\n",
       "    .dataframe tbody tr th:only-of-type {\n",
       "        vertical-align: middle;\n",
       "    }\n",
       "\n",
       "    .dataframe tbody tr th {\n",
       "        vertical-align: top;\n",
       "    }\n",
       "\n",
       "    .dataframe thead th {\n",
       "        text-align: right;\n",
       "    }\n",
       "</style>\n",
       "<table border=\"1\" class=\"dataframe\">\n",
       "  <thead>\n",
       "    <tr style=\"text-align: right;\">\n",
       "      <th></th>\n",
       "      <th>06</th>\n",
       "      <th>1900s</th>\n",
       "      <th>1920s</th>\n",
       "      <th>1950s</th>\n",
       "      <th>1960s</th>\n",
       "      <th>1970s</th>\n",
       "      <th>1980s</th>\n",
       "      <th>1990s</th>\n",
       "      <th>2001like</th>\n",
       "      <th>250</th>\n",
       "      <th>...</th>\n",
       "      <th>younger</th>\n",
       "      <th>your</th>\n",
       "      <th>zellweger</th>\n",
       "      <th>zither</th>\n",
       "      <th>zoe</th>\n",
       "      <th>zombie</th>\n",
       "      <th>zombies</th>\n",
       "      <th>zooey</th>\n",
       "      <th>userId</th>\n",
       "      <th>movieId</th>\n",
       "    </tr>\n",
       "  </thead>\n",
       "  <tbody>\n",
       "    <tr>\n",
       "      <th>0</th>\n",
       "      <td>0.0</td>\n",
       "      <td>0.0</td>\n",
       "      <td>0.0</td>\n",
       "      <td>0.0</td>\n",
       "      <td>0.0</td>\n",
       "      <td>0.0</td>\n",
       "      <td>0.0</td>\n",
       "      <td>0.0</td>\n",
       "      <td>0.0</td>\n",
       "      <td>0.0</td>\n",
       "      <td>...</td>\n",
       "      <td>0.0</td>\n",
       "      <td>0.0</td>\n",
       "      <td>0.0</td>\n",
       "      <td>0.0</td>\n",
       "      <td>0.0</td>\n",
       "      <td>0.0</td>\n",
       "      <td>0.0</td>\n",
       "      <td>0.0</td>\n",
       "      <td>2</td>\n",
       "      <td>60756</td>\n",
       "    </tr>\n",
       "    <tr>\n",
       "      <th>1</th>\n",
       "      <td>0.0</td>\n",
       "      <td>0.0</td>\n",
       "      <td>0.0</td>\n",
       "      <td>0.0</td>\n",
       "      <td>0.0</td>\n",
       "      <td>0.0</td>\n",
       "      <td>0.0</td>\n",
       "      <td>0.0</td>\n",
       "      <td>0.0</td>\n",
       "      <td>0.0</td>\n",
       "      <td>...</td>\n",
       "      <td>0.0</td>\n",
       "      <td>0.0</td>\n",
       "      <td>0.0</td>\n",
       "      <td>0.0</td>\n",
       "      <td>0.0</td>\n",
       "      <td>0.0</td>\n",
       "      <td>0.0</td>\n",
       "      <td>0.0</td>\n",
       "      <td>2</td>\n",
       "      <td>89774</td>\n",
       "    </tr>\n",
       "    <tr>\n",
       "      <th>2</th>\n",
       "      <td>0.0</td>\n",
       "      <td>0.0</td>\n",
       "      <td>0.0</td>\n",
       "      <td>0.0</td>\n",
       "      <td>0.0</td>\n",
       "      <td>0.0</td>\n",
       "      <td>0.0</td>\n",
       "      <td>0.0</td>\n",
       "      <td>0.0</td>\n",
       "      <td>0.0</td>\n",
       "      <td>...</td>\n",
       "      <td>0.0</td>\n",
       "      <td>0.0</td>\n",
       "      <td>0.0</td>\n",
       "      <td>0.0</td>\n",
       "      <td>0.0</td>\n",
       "      <td>0.0</td>\n",
       "      <td>0.0</td>\n",
       "      <td>0.0</td>\n",
       "      <td>2</td>\n",
       "      <td>106782</td>\n",
       "    </tr>\n",
       "    <tr>\n",
       "      <th>3</th>\n",
       "      <td>0.0</td>\n",
       "      <td>0.0</td>\n",
       "      <td>0.0</td>\n",
       "      <td>0.0</td>\n",
       "      <td>0.0</td>\n",
       "      <td>0.0</td>\n",
       "      <td>0.0</td>\n",
       "      <td>0.0</td>\n",
       "      <td>0.0</td>\n",
       "      <td>0.0</td>\n",
       "      <td>...</td>\n",
       "      <td>0.0</td>\n",
       "      <td>0.0</td>\n",
       "      <td>0.0</td>\n",
       "      <td>0.0</td>\n",
       "      <td>0.0</td>\n",
       "      <td>0.0</td>\n",
       "      <td>0.0</td>\n",
       "      <td>0.0</td>\n",
       "      <td>7</td>\n",
       "      <td>48516</td>\n",
       "    </tr>\n",
       "    <tr>\n",
       "      <th>4</th>\n",
       "      <td>0.0</td>\n",
       "      <td>0.0</td>\n",
       "      <td>0.0</td>\n",
       "      <td>0.0</td>\n",
       "      <td>0.0</td>\n",
       "      <td>0.0</td>\n",
       "      <td>0.0</td>\n",
       "      <td>0.0</td>\n",
       "      <td>0.0</td>\n",
       "      <td>0.0</td>\n",
       "      <td>...</td>\n",
       "      <td>0.0</td>\n",
       "      <td>0.0</td>\n",
       "      <td>0.0</td>\n",
       "      <td>0.0</td>\n",
       "      <td>0.0</td>\n",
       "      <td>0.0</td>\n",
       "      <td>0.0</td>\n",
       "      <td>0.0</td>\n",
       "      <td>18</td>\n",
       "      <td>431</td>\n",
       "    </tr>\n",
       "  </tbody>\n",
       "</table>\n",
       "<p>5 rows × 1750 columns</p>\n",
       "</div>"
      ],
      "text/plain": [
       "    06  1900s  1920s  1950s  1960s  1970s  1980s  1990s  2001like  250  ...  \\\n",
       "0  0.0    0.0    0.0    0.0    0.0    0.0    0.0    0.0       0.0  0.0  ...   \n",
       "1  0.0    0.0    0.0    0.0    0.0    0.0    0.0    0.0       0.0  0.0  ...   \n",
       "2  0.0    0.0    0.0    0.0    0.0    0.0    0.0    0.0       0.0  0.0  ...   \n",
       "3  0.0    0.0    0.0    0.0    0.0    0.0    0.0    0.0       0.0  0.0  ...   \n",
       "4  0.0    0.0    0.0    0.0    0.0    0.0    0.0    0.0       0.0  0.0  ...   \n",
       "\n",
       "   younger  your  zellweger  zither  zoe  zombie  zombies  zooey  userId  \\\n",
       "0      0.0   0.0        0.0     0.0  0.0     0.0      0.0    0.0       2   \n",
       "1      0.0   0.0        0.0     0.0  0.0     0.0      0.0    0.0       2   \n",
       "2      0.0   0.0        0.0     0.0  0.0     0.0      0.0    0.0       2   \n",
       "3      0.0   0.0        0.0     0.0  0.0     0.0      0.0    0.0       7   \n",
       "4      0.0   0.0        0.0     0.0  0.0     0.0      0.0    0.0      18   \n",
       "\n",
       "   movieId  \n",
       "0    60756  \n",
       "1    89774  \n",
       "2   106782  \n",
       "3    48516  \n",
       "4      431  \n",
       "\n",
       "[5 rows x 1750 columns]"
      ]
     },
     "execution_count": 37,
     "metadata": {},
     "output_type": "execute_result"
    }
   ],
   "source": [
    "tags_tfidf.head()"
   ]
  },
  {
   "cell_type": "code",
   "execution_count": 39,
   "id": "f7787126-d78b-4a40-ad7e-630d7b49a370",
   "metadata": {
    "tags": []
   },
   "outputs": [],
   "source": [
    "ratings = ratings.merge(tags_tfidf, on = ['userId', 'movieId'], how = 'left')"
   ]
  },
  {
   "cell_type": "code",
   "execution_count": 41,
   "id": "9189d233-0df6-4cbc-8307-68b4c005caa9",
   "metadata": {
    "tags": []
   },
   "outputs": [
    {
     "data": {
      "text/html": [
       "<div>\n",
       "<style scoped>\n",
       "    .dataframe tbody tr th:only-of-type {\n",
       "        vertical-align: middle;\n",
       "    }\n",
       "\n",
       "    .dataframe tbody tr th {\n",
       "        vertical-align: top;\n",
       "    }\n",
       "\n",
       "    .dataframe thead th {\n",
       "        text-align: right;\n",
       "    }\n",
       "</style>\n",
       "<table border=\"1\" class=\"dataframe\">\n",
       "  <thead>\n",
       "    <tr style=\"text-align: right;\">\n",
       "      <th></th>\n",
       "      <th>userId</th>\n",
       "      <th>movieId</th>\n",
       "      <th>rating</th>\n",
       "      <th>month</th>\n",
       "      <th>year</th>\n",
       "      <th>rating_user_median</th>\n",
       "      <th>rating_movie_median</th>\n",
       "      <th>rating_user_mean</th>\n",
       "      <th>rating_movie_mean</th>\n",
       "      <th>06</th>\n",
       "      <th>...</th>\n",
       "      <th>york</th>\n",
       "      <th>you</th>\n",
       "      <th>younger</th>\n",
       "      <th>your</th>\n",
       "      <th>zellweger</th>\n",
       "      <th>zither</th>\n",
       "      <th>zoe</th>\n",
       "      <th>zombie</th>\n",
       "      <th>zombies</th>\n",
       "      <th>zooey</th>\n",
       "    </tr>\n",
       "  </thead>\n",
       "  <tbody>\n",
       "    <tr>\n",
       "      <th>0</th>\n",
       "      <td>1</td>\n",
       "      <td>1</td>\n",
       "      <td>4.0</td>\n",
       "      <td>7</td>\n",
       "      <td>2000</td>\n",
       "      <td>5.0</td>\n",
       "      <td>4.0</td>\n",
       "      <td>4.366379</td>\n",
       "      <td>3.920930</td>\n",
       "      <td>NaN</td>\n",
       "      <td>...</td>\n",
       "      <td>NaN</td>\n",
       "      <td>NaN</td>\n",
       "      <td>NaN</td>\n",
       "      <td>NaN</td>\n",
       "      <td>NaN</td>\n",
       "      <td>NaN</td>\n",
       "      <td>NaN</td>\n",
       "      <td>NaN</td>\n",
       "      <td>NaN</td>\n",
       "      <td>NaN</td>\n",
       "    </tr>\n",
       "    <tr>\n",
       "      <th>1</th>\n",
       "      <td>1</td>\n",
       "      <td>3</td>\n",
       "      <td>4.0</td>\n",
       "      <td>7</td>\n",
       "      <td>2000</td>\n",
       "      <td>5.0</td>\n",
       "      <td>3.0</td>\n",
       "      <td>4.366379</td>\n",
       "      <td>3.259615</td>\n",
       "      <td>NaN</td>\n",
       "      <td>...</td>\n",
       "      <td>NaN</td>\n",
       "      <td>NaN</td>\n",
       "      <td>NaN</td>\n",
       "      <td>NaN</td>\n",
       "      <td>NaN</td>\n",
       "      <td>NaN</td>\n",
       "      <td>NaN</td>\n",
       "      <td>NaN</td>\n",
       "      <td>NaN</td>\n",
       "      <td>NaN</td>\n",
       "    </tr>\n",
       "    <tr>\n",
       "      <th>2</th>\n",
       "      <td>1</td>\n",
       "      <td>6</td>\n",
       "      <td>4.0</td>\n",
       "      <td>7</td>\n",
       "      <td>2000</td>\n",
       "      <td>5.0</td>\n",
       "      <td>4.0</td>\n",
       "      <td>4.366379</td>\n",
       "      <td>3.946078</td>\n",
       "      <td>NaN</td>\n",
       "      <td>...</td>\n",
       "      <td>NaN</td>\n",
       "      <td>NaN</td>\n",
       "      <td>NaN</td>\n",
       "      <td>NaN</td>\n",
       "      <td>NaN</td>\n",
       "      <td>NaN</td>\n",
       "      <td>NaN</td>\n",
       "      <td>NaN</td>\n",
       "      <td>NaN</td>\n",
       "      <td>NaN</td>\n",
       "    </tr>\n",
       "    <tr>\n",
       "      <th>3</th>\n",
       "      <td>1</td>\n",
       "      <td>47</td>\n",
       "      <td>5.0</td>\n",
       "      <td>7</td>\n",
       "      <td>2000</td>\n",
       "      <td>5.0</td>\n",
       "      <td>4.0</td>\n",
       "      <td>4.366379</td>\n",
       "      <td>3.975369</td>\n",
       "      <td>NaN</td>\n",
       "      <td>...</td>\n",
       "      <td>NaN</td>\n",
       "      <td>NaN</td>\n",
       "      <td>NaN</td>\n",
       "      <td>NaN</td>\n",
       "      <td>NaN</td>\n",
       "      <td>NaN</td>\n",
       "      <td>NaN</td>\n",
       "      <td>NaN</td>\n",
       "      <td>NaN</td>\n",
       "      <td>NaN</td>\n",
       "    </tr>\n",
       "    <tr>\n",
       "      <th>4</th>\n",
       "      <td>1</td>\n",
       "      <td>50</td>\n",
       "      <td>5.0</td>\n",
       "      <td>7</td>\n",
       "      <td>2000</td>\n",
       "      <td>5.0</td>\n",
       "      <td>4.5</td>\n",
       "      <td>4.366379</td>\n",
       "      <td>4.237745</td>\n",
       "      <td>NaN</td>\n",
       "      <td>...</td>\n",
       "      <td>NaN</td>\n",
       "      <td>NaN</td>\n",
       "      <td>NaN</td>\n",
       "      <td>NaN</td>\n",
       "      <td>NaN</td>\n",
       "      <td>NaN</td>\n",
       "      <td>NaN</td>\n",
       "      <td>NaN</td>\n",
       "      <td>NaN</td>\n",
       "      <td>NaN</td>\n",
       "    </tr>\n",
       "    <tr>\n",
       "      <th>...</th>\n",
       "      <td>...</td>\n",
       "      <td>...</td>\n",
       "      <td>...</td>\n",
       "      <td>...</td>\n",
       "      <td>...</td>\n",
       "      <td>...</td>\n",
       "      <td>...</td>\n",
       "      <td>...</td>\n",
       "      <td>...</td>\n",
       "      <td>...</td>\n",
       "      <td>...</td>\n",
       "      <td>...</td>\n",
       "      <td>...</td>\n",
       "      <td>...</td>\n",
       "      <td>...</td>\n",
       "      <td>...</td>\n",
       "      <td>...</td>\n",
       "      <td>...</td>\n",
       "      <td>...</td>\n",
       "      <td>...</td>\n",
       "      <td>...</td>\n",
       "    </tr>\n",
       "    <tr>\n",
       "      <th>100831</th>\n",
       "      <td>610</td>\n",
       "      <td>166534</td>\n",
       "      <td>4.0</td>\n",
       "      <td>5</td>\n",
       "      <td>2017</td>\n",
       "      <td>3.5</td>\n",
       "      <td>4.0</td>\n",
       "      <td>3.688556</td>\n",
       "      <td>3.333333</td>\n",
       "      <td>NaN</td>\n",
       "      <td>...</td>\n",
       "      <td>NaN</td>\n",
       "      <td>NaN</td>\n",
       "      <td>NaN</td>\n",
       "      <td>NaN</td>\n",
       "      <td>NaN</td>\n",
       "      <td>NaN</td>\n",
       "      <td>NaN</td>\n",
       "      <td>NaN</td>\n",
       "      <td>NaN</td>\n",
       "      <td>NaN</td>\n",
       "    </tr>\n",
       "    <tr>\n",
       "      <th>100832</th>\n",
       "      <td>610</td>\n",
       "      <td>168248</td>\n",
       "      <td>5.0</td>\n",
       "      <td>5</td>\n",
       "      <td>2017</td>\n",
       "      <td>3.5</td>\n",
       "      <td>4.0</td>\n",
       "      <td>3.688556</td>\n",
       "      <td>4.142857</td>\n",
       "      <td>0.0</td>\n",
       "      <td>...</td>\n",
       "      <td>0.0</td>\n",
       "      <td>0.0</td>\n",
       "      <td>0.0</td>\n",
       "      <td>0.0</td>\n",
       "      <td>0.0</td>\n",
       "      <td>0.0</td>\n",
       "      <td>0.0</td>\n",
       "      <td>0.0</td>\n",
       "      <td>0.0</td>\n",
       "      <td>0.0</td>\n",
       "    </tr>\n",
       "    <tr>\n",
       "      <th>100833</th>\n",
       "      <td>610</td>\n",
       "      <td>168250</td>\n",
       "      <td>5.0</td>\n",
       "      <td>5</td>\n",
       "      <td>2017</td>\n",
       "      <td>3.5</td>\n",
       "      <td>4.0</td>\n",
       "      <td>3.688556</td>\n",
       "      <td>3.633333</td>\n",
       "      <td>NaN</td>\n",
       "      <td>...</td>\n",
       "      <td>NaN</td>\n",
       "      <td>NaN</td>\n",
       "      <td>NaN</td>\n",
       "      <td>NaN</td>\n",
       "      <td>NaN</td>\n",
       "      <td>NaN</td>\n",
       "      <td>NaN</td>\n",
       "      <td>NaN</td>\n",
       "      <td>NaN</td>\n",
       "      <td>NaN</td>\n",
       "    </tr>\n",
       "    <tr>\n",
       "      <th>100834</th>\n",
       "      <td>610</td>\n",
       "      <td>168252</td>\n",
       "      <td>5.0</td>\n",
       "      <td>5</td>\n",
       "      <td>2017</td>\n",
       "      <td>3.5</td>\n",
       "      <td>4.5</td>\n",
       "      <td>3.688556</td>\n",
       "      <td>4.280000</td>\n",
       "      <td>NaN</td>\n",
       "      <td>...</td>\n",
       "      <td>NaN</td>\n",
       "      <td>NaN</td>\n",
       "      <td>NaN</td>\n",
       "      <td>NaN</td>\n",
       "      <td>NaN</td>\n",
       "      <td>NaN</td>\n",
       "      <td>NaN</td>\n",
       "      <td>NaN</td>\n",
       "      <td>NaN</td>\n",
       "      <td>NaN</td>\n",
       "    </tr>\n",
       "    <tr>\n",
       "      <th>100835</th>\n",
       "      <td>610</td>\n",
       "      <td>170875</td>\n",
       "      <td>3.0</td>\n",
       "      <td>5</td>\n",
       "      <td>2017</td>\n",
       "      <td>3.5</td>\n",
       "      <td>3.0</td>\n",
       "      <td>3.688556</td>\n",
       "      <td>2.333333</td>\n",
       "      <td>NaN</td>\n",
       "      <td>...</td>\n",
       "      <td>NaN</td>\n",
       "      <td>NaN</td>\n",
       "      <td>NaN</td>\n",
       "      <td>NaN</td>\n",
       "      <td>NaN</td>\n",
       "      <td>NaN</td>\n",
       "      <td>NaN</td>\n",
       "      <td>NaN</td>\n",
       "      <td>NaN</td>\n",
       "      <td>NaN</td>\n",
       "    </tr>\n",
       "  </tbody>\n",
       "</table>\n",
       "<p>100836 rows × 1757 columns</p>\n",
       "</div>"
      ],
      "text/plain": [
       "        userId  movieId  rating  month  year  rating_user_median  \\\n",
       "0            1        1     4.0      7  2000                 5.0   \n",
       "1            1        3     4.0      7  2000                 5.0   \n",
       "2            1        6     4.0      7  2000                 5.0   \n",
       "3            1       47     5.0      7  2000                 5.0   \n",
       "4            1       50     5.0      7  2000                 5.0   \n",
       "...        ...      ...     ...    ...   ...                 ...   \n",
       "100831     610   166534     4.0      5  2017                 3.5   \n",
       "100832     610   168248     5.0      5  2017                 3.5   \n",
       "100833     610   168250     5.0      5  2017                 3.5   \n",
       "100834     610   168252     5.0      5  2017                 3.5   \n",
       "100835     610   170875     3.0      5  2017                 3.5   \n",
       "\n",
       "        rating_movie_median  rating_user_mean  rating_movie_mean   06  ...  \\\n",
       "0                       4.0          4.366379           3.920930  NaN  ...   \n",
       "1                       3.0          4.366379           3.259615  NaN  ...   \n",
       "2                       4.0          4.366379           3.946078  NaN  ...   \n",
       "3                       4.0          4.366379           3.975369  NaN  ...   \n",
       "4                       4.5          4.366379           4.237745  NaN  ...   \n",
       "...                     ...               ...                ...  ...  ...   \n",
       "100831                  4.0          3.688556           3.333333  NaN  ...   \n",
       "100832                  4.0          3.688556           4.142857  0.0  ...   \n",
       "100833                  4.0          3.688556           3.633333  NaN  ...   \n",
       "100834                  4.5          3.688556           4.280000  NaN  ...   \n",
       "100835                  3.0          3.688556           2.333333  NaN  ...   \n",
       "\n",
       "        york  you  younger  your  zellweger  zither  zoe  zombie  zombies  \\\n",
       "0        NaN  NaN      NaN   NaN        NaN     NaN  NaN     NaN      NaN   \n",
       "1        NaN  NaN      NaN   NaN        NaN     NaN  NaN     NaN      NaN   \n",
       "2        NaN  NaN      NaN   NaN        NaN     NaN  NaN     NaN      NaN   \n",
       "3        NaN  NaN      NaN   NaN        NaN     NaN  NaN     NaN      NaN   \n",
       "4        NaN  NaN      NaN   NaN        NaN     NaN  NaN     NaN      NaN   \n",
       "...      ...  ...      ...   ...        ...     ...  ...     ...      ...   \n",
       "100831   NaN  NaN      NaN   NaN        NaN     NaN  NaN     NaN      NaN   \n",
       "100832   0.0  0.0      0.0   0.0        0.0     0.0  0.0     0.0      0.0   \n",
       "100833   NaN  NaN      NaN   NaN        NaN     NaN  NaN     NaN      NaN   \n",
       "100834   NaN  NaN      NaN   NaN        NaN     NaN  NaN     NaN      NaN   \n",
       "100835   NaN  NaN      NaN   NaN        NaN     NaN  NaN     NaN      NaN   \n",
       "\n",
       "        zooey  \n",
       "0         NaN  \n",
       "1         NaN  \n",
       "2         NaN  \n",
       "3         NaN  \n",
       "4         NaN  \n",
       "...       ...  \n",
       "100831    NaN  \n",
       "100832    0.0  \n",
       "100833    NaN  \n",
       "100834    NaN  \n",
       "100835    NaN  \n",
       "\n",
       "[100836 rows x 1757 columns]"
      ]
     },
     "execution_count": 41,
     "metadata": {},
     "output_type": "execute_result"
    }
   ],
   "source": [
    "ratings"
   ]
  },
  {
   "cell_type": "code",
   "execution_count": 43,
   "id": "bbeb908d-4308-4a9a-9732-a8837e35bdbb",
   "metadata": {
    "tags": []
   },
   "outputs": [],
   "source": [
    "ratings = ratings.fillna(0)"
   ]
  },
  {
   "cell_type": "code",
   "execution_count": 16,
   "id": "19cf771e-fb83-4c2c-b50c-2da22956d376",
   "metadata": {
    "tags": []
   },
   "outputs": [],
   "source": [
    "#ratings.drop_duplicates(['userId','movieId'], inplace=True)"
   ]
  },
  {
   "cell_type": "code",
   "execution_count": 45,
   "id": "7f173e0e-fac9-430f-b90d-40ab87e48234",
   "metadata": {
    "tags": []
   },
   "outputs": [
    {
     "data": {
      "text/html": [
       "<div>\n",
       "<style scoped>\n",
       "    .dataframe tbody tr th:only-of-type {\n",
       "        vertical-align: middle;\n",
       "    }\n",
       "\n",
       "    .dataframe tbody tr th {\n",
       "        vertical-align: top;\n",
       "    }\n",
       "\n",
       "    .dataframe thead th {\n",
       "        text-align: right;\n",
       "    }\n",
       "</style>\n",
       "<table border=\"1\" class=\"dataframe\">\n",
       "  <thead>\n",
       "    <tr style=\"text-align: right;\">\n",
       "      <th></th>\n",
       "      <th>movieId</th>\n",
       "      <th>title</th>\n",
       "      <th>genres</th>\n",
       "    </tr>\n",
       "  </thead>\n",
       "  <tbody>\n",
       "    <tr>\n",
       "      <th>0</th>\n",
       "      <td>1</td>\n",
       "      <td>Toy Story (1995)</td>\n",
       "      <td>Adventure|Animation|Children|Comedy|Fantasy</td>\n",
       "    </tr>\n",
       "    <tr>\n",
       "      <th>1</th>\n",
       "      <td>2</td>\n",
       "      <td>Jumanji (1995)</td>\n",
       "      <td>Adventure|Children|Fantasy</td>\n",
       "    </tr>\n",
       "    <tr>\n",
       "      <th>2</th>\n",
       "      <td>3</td>\n",
       "      <td>Grumpier Old Men (1995)</td>\n",
       "      <td>Comedy|Romance</td>\n",
       "    </tr>\n",
       "    <tr>\n",
       "      <th>3</th>\n",
       "      <td>4</td>\n",
       "      <td>Waiting to Exhale (1995)</td>\n",
       "      <td>Comedy|Drama|Romance</td>\n",
       "    </tr>\n",
       "    <tr>\n",
       "      <th>4</th>\n",
       "      <td>5</td>\n",
       "      <td>Father of the Bride Part II (1995)</td>\n",
       "      <td>Comedy</td>\n",
       "    </tr>\n",
       "  </tbody>\n",
       "</table>\n",
       "</div>"
      ],
      "text/plain": [
       "   movieId                               title  \\\n",
       "0        1                    Toy Story (1995)   \n",
       "1        2                      Jumanji (1995)   \n",
       "2        3             Grumpier Old Men (1995)   \n",
       "3        4            Waiting to Exhale (1995)   \n",
       "4        5  Father of the Bride Part II (1995)   \n",
       "\n",
       "                                        genres  \n",
       "0  Adventure|Animation|Children|Comedy|Fantasy  \n",
       "1                   Adventure|Children|Fantasy  \n",
       "2                               Comedy|Romance  \n",
       "3                         Comedy|Drama|Romance  \n",
       "4                                       Comedy  "
      ]
     },
     "execution_count": 45,
     "metadata": {},
     "output_type": "execute_result"
    }
   ],
   "source": [
    "movies.head()"
   ]
  },
  {
   "cell_type": "code",
   "execution_count": 47,
   "id": "94b81a44-96ab-4517-ad8b-17c5ca89b228",
   "metadata": {
    "tags": []
   },
   "outputs": [
    {
     "name": "stdout",
     "output_type": "stream",
     "text": [
      "<class 'pandas.core.frame.DataFrame'>\n",
      "RangeIndex: 9742 entries, 0 to 9741\n",
      "Data columns (total 3 columns):\n",
      " #   Column   Non-Null Count  Dtype \n",
      "---  ------   --------------  ----- \n",
      " 0   movieId  9742 non-null   int64 \n",
      " 1   title    9742 non-null   object\n",
      " 2   genres   9742 non-null   object\n",
      "dtypes: int64(1), object(2)\n",
      "memory usage: 228.5+ KB\n"
     ]
    }
   ],
   "source": [
    "movies.info()"
   ]
  },
  {
   "cell_type": "code",
   "execution_count": 49,
   "id": "7584297a-3867-45f6-a4e0-6dd92b608a36",
   "metadata": {
    "id": "QybVNKP9QMMZ",
    "tags": []
   },
   "outputs": [],
   "source": [
    "def change_string(s):\n",
    "    return ' '.join(s.replace(' ', '').replace('-', '').split('|')).lower()"
   ]
  },
  {
   "cell_type": "code",
   "execution_count": 51,
   "id": "f58678cf-fc5f-4c5c-b950-a2eccd9c1066",
   "metadata": {
    "colab": {
     "base_uri": "https://localhost:8080/"
    },
    "id": "IhC74ybpQMMb",
    "outputId": "198f5fd3-288f-4195-e871-0adcd7bf2437",
    "tags": []
   },
   "outputs": [],
   "source": [
    "movie_genres = [change_string(g) for g in movies.genres.values]\n",
    "#movie_genres[:5]"
   ]
  },
  {
   "cell_type": "code",
   "execution_count": 53,
   "id": "2caa7748-86d1-4eda-ac01-0e8700620910",
   "metadata": {
    "colab": {
     "base_uri": "https://localhost:8080/"
    },
    "id": "KWoWj7leQMMe",
    "outputId": "755b9954-751e-4c45-b762-228cc09395cb",
    "tags": []
   },
   "outputs": [
    {
     "data": {
      "text/plain": [
       "<9742x20 sparse matrix of type '<class 'numpy.float64'>'\n",
       "\twith 22084 stored elements in Compressed Sparse Row format>"
      ]
     },
     "execution_count": 53,
     "metadata": {},
     "output_type": "execute_result"
    }
   ],
   "source": [
    "tfidf = TfidfVectorizer()\n",
    "X_train_tfidf = tfidf.fit_transform(movie_genres)\n",
    "X_train_tfidf"
   ]
  },
  {
   "cell_type": "code",
   "execution_count": 55,
   "id": "12d65cc4-d7ee-4d7b-ae39-822a47ad447b",
   "metadata": {
    "colab": {
     "base_uri": "https://localhost:8080/",
     "height": 488
    },
    "id": "gJTMhrZWRVwU",
    "outputId": "8215e576-ecea-413f-b980-081318c83a0f",
    "tags": []
   },
   "outputs": [],
   "source": [
    "movie_tfidf = pd.DataFrame(X_train_tfidf.toarray(), columns=tfidf.get_feature_names_out())"
   ]
  },
  {
   "cell_type": "code",
   "execution_count": 57,
   "id": "834240a3-78d2-402a-a7a7-966fb75d24a3",
   "metadata": {
    "tags": []
   },
   "outputs": [],
   "source": [
    "movie_tfidf['movieId']=movies['movieId']"
   ]
  },
  {
   "cell_type": "code",
   "execution_count": 59,
   "id": "0878c78e-6cc4-4c9c-beb1-d95aa59b306e",
   "metadata": {
    "tags": []
   },
   "outputs": [],
   "source": [
    "ratings = ratings.merge(movie_tfidf, on='movieId', how='left')"
   ]
  },
  {
   "cell_type": "code",
   "execution_count": 31,
   "id": "39d1dc6f-a2ed-4cef-81fa-b8aece96e966",
   "metadata": {
    "tags": []
   },
   "outputs": [],
   "source": [
    "#ratings['tag'] = ratings['tag'].fillna('')"
   ]
  },
  {
   "cell_type": "code",
   "execution_count": 67,
   "id": "6ced5f45-f030-43e6-9c6f-60c16f5fd1bf",
   "metadata": {
    "tags": []
   },
   "outputs": [],
   "source": [
    "df = ratings #pd.concat([ratings, tags_tfidf], axis =1)"
   ]
  },
  {
   "cell_type": "code",
   "execution_count": 142,
   "id": "64d303ca-da1b-4377-a199-d41d3eda2084",
   "metadata": {
    "tags": []
   },
   "outputs": [],
   "source": [
    "#del df['tag']"
   ]
  },
  {
   "cell_type": "code",
   "execution_count": 71,
   "id": "6f4df94d-9c16-42ef-9416-aecb62c8834c",
   "metadata": {
    "tags": []
   },
   "outputs": [
    {
     "data": {
      "text/html": [
       "<div>\n",
       "<style scoped>\n",
       "    .dataframe tbody tr th:only-of-type {\n",
       "        vertical-align: middle;\n",
       "    }\n",
       "\n",
       "    .dataframe tbody tr th {\n",
       "        vertical-align: top;\n",
       "    }\n",
       "\n",
       "    .dataframe thead th {\n",
       "        text-align: right;\n",
       "    }\n",
       "</style>\n",
       "<table border=\"1\" class=\"dataframe\">\n",
       "  <thead>\n",
       "    <tr style=\"text-align: right;\">\n",
       "      <th></th>\n",
       "      <th>userId</th>\n",
       "      <th>movieId</th>\n",
       "      <th>rating</th>\n",
       "      <th>month</th>\n",
       "      <th>year</th>\n",
       "      <th>rating_user_median</th>\n",
       "      <th>rating_movie_median</th>\n",
       "      <th>rating_user_mean</th>\n",
       "      <th>rating_movie_mean</th>\n",
       "      <th>06</th>\n",
       "      <th>...</th>\n",
       "      <th>horror_y</th>\n",
       "      <th>imax</th>\n",
       "      <th>musical</th>\n",
       "      <th>mystery_y</th>\n",
       "      <th>nogenreslisted</th>\n",
       "      <th>romance_y</th>\n",
       "      <th>scifi_y</th>\n",
       "      <th>thriller_y</th>\n",
       "      <th>war_y</th>\n",
       "      <th>western_y</th>\n",
       "    </tr>\n",
       "  </thead>\n",
       "  <tbody>\n",
       "    <tr>\n",
       "      <th>0</th>\n",
       "      <td>1</td>\n",
       "      <td>1</td>\n",
       "      <td>4.0</td>\n",
       "      <td>7</td>\n",
       "      <td>2000</td>\n",
       "      <td>5.0</td>\n",
       "      <td>4.0</td>\n",
       "      <td>4.366379</td>\n",
       "      <td>3.920930</td>\n",
       "      <td>0.0</td>\n",
       "      <td>...</td>\n",
       "      <td>0.0</td>\n",
       "      <td>0.0</td>\n",
       "      <td>0.0</td>\n",
       "      <td>0.000000</td>\n",
       "      <td>0.0</td>\n",
       "      <td>0.000000</td>\n",
       "      <td>0.0</td>\n",
       "      <td>0.000000</td>\n",
       "      <td>0.0</td>\n",
       "      <td>0.0</td>\n",
       "    </tr>\n",
       "    <tr>\n",
       "      <th>1</th>\n",
       "      <td>1</td>\n",
       "      <td>3</td>\n",
       "      <td>4.0</td>\n",
       "      <td>7</td>\n",
       "      <td>2000</td>\n",
       "      <td>5.0</td>\n",
       "      <td>3.0</td>\n",
       "      <td>4.366379</td>\n",
       "      <td>3.259615</td>\n",
       "      <td>0.0</td>\n",
       "      <td>...</td>\n",
       "      <td>0.0</td>\n",
       "      <td>0.0</td>\n",
       "      <td>0.0</td>\n",
       "      <td>0.000000</td>\n",
       "      <td>0.0</td>\n",
       "      <td>0.821009</td>\n",
       "      <td>0.0</td>\n",
       "      <td>0.000000</td>\n",
       "      <td>0.0</td>\n",
       "      <td>0.0</td>\n",
       "    </tr>\n",
       "    <tr>\n",
       "      <th>2</th>\n",
       "      <td>1</td>\n",
       "      <td>6</td>\n",
       "      <td>4.0</td>\n",
       "      <td>7</td>\n",
       "      <td>2000</td>\n",
       "      <td>5.0</td>\n",
       "      <td>4.0</td>\n",
       "      <td>4.366379</td>\n",
       "      <td>3.946078</td>\n",
       "      <td>0.0</td>\n",
       "      <td>...</td>\n",
       "      <td>0.0</td>\n",
       "      <td>0.0</td>\n",
       "      <td>0.0</td>\n",
       "      <td>0.000000</td>\n",
       "      <td>0.0</td>\n",
       "      <td>0.000000</td>\n",
       "      <td>0.0</td>\n",
       "      <td>0.542042</td>\n",
       "      <td>0.0</td>\n",
       "      <td>0.0</td>\n",
       "    </tr>\n",
       "    <tr>\n",
       "      <th>3</th>\n",
       "      <td>1</td>\n",
       "      <td>47</td>\n",
       "      <td>5.0</td>\n",
       "      <td>7</td>\n",
       "      <td>2000</td>\n",
       "      <td>5.0</td>\n",
       "      <td>4.0</td>\n",
       "      <td>4.366379</td>\n",
       "      <td>3.975369</td>\n",
       "      <td>0.0</td>\n",
       "      <td>...</td>\n",
       "      <td>0.0</td>\n",
       "      <td>0.0</td>\n",
       "      <td>0.0</td>\n",
       "      <td>0.823735</td>\n",
       "      <td>0.0</td>\n",
       "      <td>0.000000</td>\n",
       "      <td>0.0</td>\n",
       "      <td>0.566975</td>\n",
       "      <td>0.0</td>\n",
       "      <td>0.0</td>\n",
       "    </tr>\n",
       "    <tr>\n",
       "      <th>4</th>\n",
       "      <td>1</td>\n",
       "      <td>50</td>\n",
       "      <td>5.0</td>\n",
       "      <td>7</td>\n",
       "      <td>2000</td>\n",
       "      <td>5.0</td>\n",
       "      <td>4.5</td>\n",
       "      <td>4.366379</td>\n",
       "      <td>4.237745</td>\n",
       "      <td>0.0</td>\n",
       "      <td>...</td>\n",
       "      <td>0.0</td>\n",
       "      <td>0.0</td>\n",
       "      <td>0.0</td>\n",
       "      <td>0.685854</td>\n",
       "      <td>0.0</td>\n",
       "      <td>0.000000</td>\n",
       "      <td>0.0</td>\n",
       "      <td>0.472071</td>\n",
       "      <td>0.0</td>\n",
       "      <td>0.0</td>\n",
       "    </tr>\n",
       "  </tbody>\n",
       "</table>\n",
       "<p>5 rows × 1777 columns</p>\n",
       "</div>"
      ],
      "text/plain": [
       "   userId  movieId  rating  month  year  rating_user_median  \\\n",
       "0       1        1     4.0      7  2000                 5.0   \n",
       "1       1        3     4.0      7  2000                 5.0   \n",
       "2       1        6     4.0      7  2000                 5.0   \n",
       "3       1       47     5.0      7  2000                 5.0   \n",
       "4       1       50     5.0      7  2000                 5.0   \n",
       "\n",
       "   rating_movie_median  rating_user_mean  rating_movie_mean   06  ...  \\\n",
       "0                  4.0          4.366379           3.920930  0.0  ...   \n",
       "1                  3.0          4.366379           3.259615  0.0  ...   \n",
       "2                  4.0          4.366379           3.946078  0.0  ...   \n",
       "3                  4.0          4.366379           3.975369  0.0  ...   \n",
       "4                  4.5          4.366379           4.237745  0.0  ...   \n",
       "\n",
       "   horror_y  imax  musical  mystery_y  nogenreslisted  romance_y  scifi_y  \\\n",
       "0       0.0   0.0      0.0   0.000000             0.0   0.000000      0.0   \n",
       "1       0.0   0.0      0.0   0.000000             0.0   0.821009      0.0   \n",
       "2       0.0   0.0      0.0   0.000000             0.0   0.000000      0.0   \n",
       "3       0.0   0.0      0.0   0.823735             0.0   0.000000      0.0   \n",
       "4       0.0   0.0      0.0   0.685854             0.0   0.000000      0.0   \n",
       "\n",
       "   thriller_y  war_y  western_y  \n",
       "0    0.000000    0.0        0.0  \n",
       "1    0.000000    0.0        0.0  \n",
       "2    0.542042    0.0        0.0  \n",
       "3    0.566975    0.0        0.0  \n",
       "4    0.472071    0.0        0.0  \n",
       "\n",
       "[5 rows x 1777 columns]"
      ]
     },
     "execution_count": 71,
     "metadata": {},
     "output_type": "execute_result"
    }
   ],
   "source": [
    "df.head()"
   ]
  },
  {
   "cell_type": "code",
   "execution_count": 73,
   "id": "a3ccd274-28f5-4a19-abc2-934d98d500d1",
   "metadata": {
    "tags": []
   },
   "outputs": [],
   "source": [
    "from sklearn.linear_model import LinearRegression\n",
    "from sklearn.model_selection import train_test_split\n",
    "from sklearn.metrics import mean_squared_error"
   ]
  },
  {
   "cell_type": "code",
   "execution_count": 75,
   "id": "fe3f6329-29a6-48c5-81ea-245810e1fbe6",
   "metadata": {
    "tags": []
   },
   "outputs": [],
   "source": [
    "y = pd.Series(df.rating)"
   ]
  },
  {
   "cell_type": "code",
   "execution_count": 77,
   "id": "69d178f3-f6af-4496-af13-51fe2e5ebe3b",
   "metadata": {
    "tags": []
   },
   "outputs": [],
   "source": [
    "del df['rating']"
   ]
  },
  {
   "cell_type": "code",
   "execution_count": 79,
   "id": "6cd3fc7d-0672-4a45-a743-6b541db94be4",
   "metadata": {
    "tags": []
   },
   "outputs": [],
   "source": [
    "x = df"
   ]
  },
  {
   "cell_type": "code",
   "execution_count": 81,
   "id": "0fc5108e-7765-4917-8923-d7675a32c340",
   "metadata": {
    "tags": []
   },
   "outputs": [],
   "source": [
    "X_train, X_test, y_train, y_test = train_test_split(x, y, test_size=0.2, random_state=30)"
   ]
  },
  {
   "cell_type": "code",
   "execution_count": 82,
   "id": "561fd3a4-7fc7-414e-9f7e-0a2962515477",
   "metadata": {
    "tags": []
   },
   "outputs": [],
   "source": [
    "model = LinearRegression()"
   ]
  },
  {
   "cell_type": "code",
   "execution_count": 85,
   "id": "58d4645e-d782-4986-b4f5-dcb818347e02",
   "metadata": {
    "tags": []
   },
   "outputs": [],
   "source": [
    "model.fit(X_train, y_train)\n",
    "predictions = model.predict(X_test)"
   ]
  },
  {
   "cell_type": "code",
   "execution_count": 87,
   "id": "711f29de-58d8-4334-b663-19e503f176ff",
   "metadata": {
    "tags": []
   },
   "outputs": [
    {
     "data": {
      "text/plain": [
       "0.408740773685471"
      ]
     },
     "execution_count": 87,
     "metadata": {},
     "output_type": "execute_result"
    }
   ],
   "source": [
    "model.score(X_train, y_train)"
   ]
  },
  {
   "cell_type": "code",
   "execution_count": 89,
   "id": "11591b42-41cf-48ff-b893-4e7a0af64e77",
   "metadata": {
    "tags": []
   },
   "outputs": [
    {
     "data": {
      "text/plain": [
       "0.39801659664916667"
      ]
     },
     "execution_count": 89,
     "metadata": {},
     "output_type": "execute_result"
    }
   ],
   "source": [
    "model.score(X_test, y_test)"
   ]
  },
  {
   "cell_type": "code",
   "execution_count": 91,
   "id": "a7bef544-3d14-49d0-96f4-acdeed85c3c1",
   "metadata": {
    "tags": []
   },
   "outputs": [
    {
     "data": {
      "text/plain": [
       "0.653431457284272"
      ]
     },
     "execution_count": 91,
     "metadata": {},
     "output_type": "execute_result"
    }
   ],
   "source": [
    "mean_squared_error(y_test, predictions)"
   ]
  },
  {
   "cell_type": "code",
   "execution_count": null,
   "id": "0d1e1943-65fe-446a-9026-8c3d2fdcd664",
   "metadata": {},
   "outputs": [],
   "source": []
  }
 ],
 "metadata": {
  "kernelspec": {
   "display_name": "Python 3 (ipykernel)",
   "language": "python",
   "name": "python3"
  },
  "language_info": {
   "codemirror_mode": {
    "name": "ipython",
    "version": 3
   },
   "file_extension": ".py",
   "mimetype": "text/x-python",
   "name": "python",
   "nbconvert_exporter": "python",
   "pygments_lexer": "ipython3",
   "version": "3.11.7"
  }
 },
 "nbformat": 4,
 "nbformat_minor": 5
}
