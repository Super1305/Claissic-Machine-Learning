{
 "cells": [
  {
   "cell_type": "markdown",
   "id": "25533c8c-2777-4dd9-bbd2-617756ecd7c5",
   "metadata": {},
   "source": [
    "# Домашняя работа «Проблема качества данных»"
   ]
  },
  {
   "cell_type": "markdown",
   "id": "469721f3-aa60-49c1-9d46-41a8ce801b9e",
   "metadata": {},
   "source": [
    "### **Задание**\n",
    "\n",
    "#### **Цель:** применить на практике методы по оценке качества данных."
   ]
  },
  {
   "cell_type": "markdown",
   "id": "fc5730dd-19ea-4a75-8ea4-2831b9fed735",
   "metadata": {},
   "source": [
    "### Описание задания:\n",
    "В домашней работе необходимо провести очистку данных на примере датасета с информацией о пассажирах корабля Титаник. Данные можно скачать по ссылке или найти в материалах к уроку. На полученных данных обучите модель классификации, с целевым признаком Survived (1 – пассажир выжил, 0 – погиб). Обучите модель на необработанных данных и посчитайте метрику качества. Проведите очистку данных. Обучите модель на данных после обработки, посчитайте метрику качества. Сравнить полученные результаты. Значение метрики должно улучшиться."
   ]
  },
  {
   "cell_type": "markdown",
   "id": "fbc2dfc1-e676-47e7-a92b-79cb545f1452",
   "metadata": {},
   "source": [
    "**Этапы работы:**\n",
    "\n",
    "1. Получите и загрузите данные.\n",
    "2. Удалите все пропущенные значения и категориальные переменные. Обучите модель. Выберите и посчитайте метрику качества.\n",
    "3. Снова загрузите полные данные.\n",
    "4. Удалите признаки, которые логически не нужны для построения модели. Обоснуйте.\n",
    "5. Проверьте данные на наличие пропущенных значений.<br>\n",
    "a) Посчитайте, какой процент данных будет потерян, если просто удалить пропуски.<br>b) Заполните пропуски: средним значением; константой; классом, указывающим на то, что значение было пропущено; случайным числом. Для разных признаков используйте подходящий метод. Можно не использовать все перечисленные методы.\n",
    "6. Категориальные переменные переведите в цифровые значения. Можно использовать pd.get_dummies, preprocessing.LabelEncoder. Старайтесь не использовать для этой задачи циклы.\n",
    "7. Проверьте данные на наличие выбросов.<br>\n",
    "a) Удалите выбросы, если считаете это целесообразным. Обоснуйте.\n",
    "8. *Постройте 1-2 графика на выбор. Визуализация должна быть основана на исследуемых данных и быть полезной (из графика можно сделать вывод об особенностях датасета/класса/признака)\n",
    "9. *Попробуйте математически преобразовать признак Age.\n",
    "10. Обучите ту же модель, что в п. 2 на преобразованных данных. Посчитайте ту же, что в п. 2 метрику.\n",
    "11. Сформулируйте выводы по проделанной работе.<br>\n",
    "a) Кратко опишите какие преобразования были сделаны и почему.<br>\n",
    "b) Сравните метрики моделей из п. 2 и п. 10.<br>\n",
    "c) Напишите свое мнение о целесообразности работы с данными при построении моделей машинного обучения.<br> *Нужно ли аналогичным образов исследовать и дополнять действительно большие данные?\n",
    "\n",
    "Для получения зачета по этому домашнему заданию, минимально, должно быть построено две модели, выведена одна метрика для каждой. В данных должны быть обработаны пропуски и категориальные значения.\n",
    "\n",
    "**Результат:**\n",
    "1. Применены на практике основные методы разведочного анализа данных (exploratory data analysis, EDA). \n",
    "2. Проведена оценка качества данных."
   ]
  },
  {
   "cell_type": "code",
   "execution_count": 1,
   "id": "dab0fd72-c788-43cf-b74f-4ae28dc5138d",
   "metadata": {
    "tags": []
   },
   "outputs": [],
   "source": [
    "import numpy as np\n",
    "import pandas as pd\n",
    "import matplotlib.pyplot as plt \n",
    "import seaborn as sns\n",
    "%matplotlib inline"
   ]
  },
  {
   "cell_type": "code",
   "execution_count": 2,
   "id": "eee7bb2a-3063-4d95-8d00-040142848e26",
   "metadata": {
    "tags": []
   },
   "outputs": [],
   "source": [
    "from sklearn.linear_model import LogisticRegression\n",
    "from sklearn.pipeline import make_pipeline\n",
    "from sklearn.preprocessing import StandardScaler\n",
    "from sklearn.model_selection import train_test_split\n",
    "from sklearn.metrics import roc_curve, roc_auc_score, auc, precision_recall_curve, recall_score, precision_score, accuracy_score"
   ]
  },
  {
   "cell_type": "markdown",
   "id": "a996dd92-37e4-4ee8-b890-baf3783b13c7",
   "metadata": {},
   "source": [
    "#### 1. Получите и загрузите данные."
   ]
  },
  {
   "cell_type": "code",
   "execution_count": 3,
   "id": "4cc8334a-8125-4655-aad9-1c611bf9926c",
   "metadata": {
    "tags": []
   },
   "outputs": [],
   "source": [
    "data = pd.read_csv(\"train.csv\")"
   ]
  },
  {
   "cell_type": "code",
   "execution_count": 4,
   "id": "9eef2f47-1abf-4ae9-9f71-c53957d5be8c",
   "metadata": {
    "tags": []
   },
   "outputs": [
    {
     "data": {
      "text/html": [
       "<div>\n",
       "<style scoped>\n",
       "    .dataframe tbody tr th:only-of-type {\n",
       "        vertical-align: middle;\n",
       "    }\n",
       "\n",
       "    .dataframe tbody tr th {\n",
       "        vertical-align: top;\n",
       "    }\n",
       "\n",
       "    .dataframe thead th {\n",
       "        text-align: right;\n",
       "    }\n",
       "</style>\n",
       "<table border=\"1\" class=\"dataframe\">\n",
       "  <thead>\n",
       "    <tr style=\"text-align: right;\">\n",
       "      <th></th>\n",
       "      <th>PassengerId</th>\n",
       "      <th>Survived</th>\n",
       "      <th>Pclass</th>\n",
       "      <th>Name</th>\n",
       "      <th>Sex</th>\n",
       "      <th>Age</th>\n",
       "      <th>SibSp</th>\n",
       "      <th>Parch</th>\n",
       "      <th>Ticket</th>\n",
       "      <th>Fare</th>\n",
       "      <th>Cabin</th>\n",
       "      <th>Embarked</th>\n",
       "    </tr>\n",
       "  </thead>\n",
       "  <tbody>\n",
       "    <tr>\n",
       "      <th>0</th>\n",
       "      <td>1</td>\n",
       "      <td>0</td>\n",
       "      <td>3</td>\n",
       "      <td>Braund, Mr. Owen Harris</td>\n",
       "      <td>male</td>\n",
       "      <td>22.0</td>\n",
       "      <td>1</td>\n",
       "      <td>0</td>\n",
       "      <td>A/5 21171</td>\n",
       "      <td>7.2500</td>\n",
       "      <td>NaN</td>\n",
       "      <td>S</td>\n",
       "    </tr>\n",
       "    <tr>\n",
       "      <th>1</th>\n",
       "      <td>2</td>\n",
       "      <td>1</td>\n",
       "      <td>1</td>\n",
       "      <td>Cumings, Mrs. John Bradley (Florence Briggs Th...</td>\n",
       "      <td>female</td>\n",
       "      <td>38.0</td>\n",
       "      <td>1</td>\n",
       "      <td>0</td>\n",
       "      <td>PC 17599</td>\n",
       "      <td>71.2833</td>\n",
       "      <td>C85</td>\n",
       "      <td>C</td>\n",
       "    </tr>\n",
       "    <tr>\n",
       "      <th>2</th>\n",
       "      <td>3</td>\n",
       "      <td>1</td>\n",
       "      <td>3</td>\n",
       "      <td>Heikkinen, Miss. Laina</td>\n",
       "      <td>female</td>\n",
       "      <td>26.0</td>\n",
       "      <td>0</td>\n",
       "      <td>0</td>\n",
       "      <td>STON/O2. 3101282</td>\n",
       "      <td>7.9250</td>\n",
       "      <td>NaN</td>\n",
       "      <td>S</td>\n",
       "    </tr>\n",
       "    <tr>\n",
       "      <th>3</th>\n",
       "      <td>4</td>\n",
       "      <td>1</td>\n",
       "      <td>1</td>\n",
       "      <td>Futrelle, Mrs. Jacques Heath (Lily May Peel)</td>\n",
       "      <td>female</td>\n",
       "      <td>35.0</td>\n",
       "      <td>1</td>\n",
       "      <td>0</td>\n",
       "      <td>113803</td>\n",
       "      <td>53.1000</td>\n",
       "      <td>C123</td>\n",
       "      <td>S</td>\n",
       "    </tr>\n",
       "    <tr>\n",
       "      <th>4</th>\n",
       "      <td>5</td>\n",
       "      <td>0</td>\n",
       "      <td>3</td>\n",
       "      <td>Allen, Mr. William Henry</td>\n",
       "      <td>male</td>\n",
       "      <td>35.0</td>\n",
       "      <td>0</td>\n",
       "      <td>0</td>\n",
       "      <td>373450</td>\n",
       "      <td>8.0500</td>\n",
       "      <td>NaN</td>\n",
       "      <td>S</td>\n",
       "    </tr>\n",
       "  </tbody>\n",
       "</table>\n",
       "</div>"
      ],
      "text/plain": [
       "   PassengerId  Survived  Pclass  \\\n",
       "0            1         0       3   \n",
       "1            2         1       1   \n",
       "2            3         1       3   \n",
       "3            4         1       1   \n",
       "4            5         0       3   \n",
       "\n",
       "                                                Name     Sex   Age  SibSp  \\\n",
       "0                            Braund, Mr. Owen Harris    male  22.0      1   \n",
       "1  Cumings, Mrs. John Bradley (Florence Briggs Th...  female  38.0      1   \n",
       "2                             Heikkinen, Miss. Laina  female  26.0      0   \n",
       "3       Futrelle, Mrs. Jacques Heath (Lily May Peel)  female  35.0      1   \n",
       "4                           Allen, Mr. William Henry    male  35.0      0   \n",
       "\n",
       "   Parch            Ticket     Fare Cabin Embarked  \n",
       "0      0         A/5 21171   7.2500   NaN        S  \n",
       "1      0          PC 17599  71.2833   C85        C  \n",
       "2      0  STON/O2. 3101282   7.9250   NaN        S  \n",
       "3      0            113803  53.1000  C123        S  \n",
       "4      0            373450   8.0500   NaN        S  "
      ]
     },
     "execution_count": 4,
     "metadata": {},
     "output_type": "execute_result"
    }
   ],
   "source": [
    "data.head()"
   ]
  },
  {
   "cell_type": "code",
   "execution_count": 5,
   "id": "8b6c039c-633e-459b-b1cb-35ce4437fb21",
   "metadata": {},
   "outputs": [
    {
     "name": "stdout",
     "output_type": "stream",
     "text": [
      "<class 'pandas.core.frame.DataFrame'>\n",
      "RangeIndex: 891 entries, 0 to 890\n",
      "Data columns (total 12 columns):\n",
      " #   Column       Non-Null Count  Dtype  \n",
      "---  ------       --------------  -----  \n",
      " 0   PassengerId  891 non-null    int64  \n",
      " 1   Survived     891 non-null    int64  \n",
      " 2   Pclass       891 non-null    int64  \n",
      " 3   Name         891 non-null    object \n",
      " 4   Sex          891 non-null    object \n",
      " 5   Age          714 non-null    float64\n",
      " 6   SibSp        891 non-null    int64  \n",
      " 7   Parch        891 non-null    int64  \n",
      " 8   Ticket       891 non-null    object \n",
      " 9   Fare         891 non-null    float64\n",
      " 10  Cabin        204 non-null    object \n",
      " 11  Embarked     889 non-null    object \n",
      "dtypes: float64(2), int64(5), object(5)\n",
      "memory usage: 83.7+ KB\n"
     ]
    }
   ],
   "source": [
    "data.info()"
   ]
  },
  {
   "cell_type": "markdown",
   "id": "d12095f6-3bf6-4790-9268-7ea10cbd189d",
   "metadata": {},
   "source": [
    "#### 2. Удалите все пропущенные значения и категориальные переменные. Обучите модель. Выберите и посчитайте метрику качества.\n",
    "IG comments: Можно было бы удалить и порядковый номер, поскольку он уникальный/возрастающий и будет вносить лишнюю помеху, но следую строго заданию)."
   ]
  },
  {
   "cell_type": "code",
   "execution_count": 6,
   "id": "d13eff49-eccd-4d7a-83a6-1a344b73ad13",
   "metadata": {
    "tags": []
   },
   "outputs": [],
   "source": [
    "del data['Name'], data['Sex'], data['Ticket'], data['Cabin'], data['Embarked']"
   ]
  },
  {
   "cell_type": "code",
   "execution_count": 7,
   "id": "c165576e-f2ed-446a-9c0d-c3e192623530",
   "metadata": {
    "tags": []
   },
   "outputs": [
    {
     "name": "stdout",
     "output_type": "stream",
     "text": [
      "<class 'pandas.core.frame.DataFrame'>\n",
      "RangeIndex: 891 entries, 0 to 890\n",
      "Data columns (total 7 columns):\n",
      " #   Column       Non-Null Count  Dtype  \n",
      "---  ------       --------------  -----  \n",
      " 0   PassengerId  891 non-null    int64  \n",
      " 1   Survived     891 non-null    int64  \n",
      " 2   Pclass       891 non-null    int64  \n",
      " 3   Age          714 non-null    float64\n",
      " 4   SibSp        891 non-null    int64  \n",
      " 5   Parch        891 non-null    int64  \n",
      " 6   Fare         891 non-null    float64\n",
      "dtypes: float64(2), int64(5)\n",
      "memory usage: 48.9 KB\n"
     ]
    }
   ],
   "source": [
    "data.info()"
   ]
  },
  {
   "cell_type": "code",
   "execution_count": 8,
   "id": "6bf75d9b-2ae9-4346-9eaa-a3f79bf2b4e6",
   "metadata": {
    "tags": []
   },
   "outputs": [],
   "source": [
    "data = data[data.Age.notnull()]"
   ]
  },
  {
   "cell_type": "code",
   "execution_count": 9,
   "id": "c5168b07-f291-45dc-8b2a-53d771fab6bc",
   "metadata": {},
   "outputs": [],
   "source": [
    "y = pd.Series(data = data.Survived)"
   ]
  },
  {
   "cell_type": "code",
   "execution_count": 10,
   "id": "fb8e5781-e45a-4109-8aed-c3b9ec68465e",
   "metadata": {
    "tags": []
   },
   "outputs": [],
   "source": [
    "del data['Survived']"
   ]
  },
  {
   "cell_type": "code",
   "execution_count": 11,
   "id": "42ae93e9-a83b-471c-8919-73096f518269",
   "metadata": {
    "tags": []
   },
   "outputs": [],
   "source": [
    "X = data"
   ]
  },
  {
   "cell_type": "code",
   "execution_count": 12,
   "id": "a8f90ae9-5d56-4acd-b10f-6bbf5dd56eaa",
   "metadata": {
    "tags": []
   },
   "outputs": [],
   "source": [
    "model = make_pipeline(\n",
    "    StandardScaler(),\n",
    "    LogisticRegression(max_iter=10000)\n",
    ")"
   ]
  },
  {
   "cell_type": "code",
   "execution_count": 13,
   "id": "3f25a689-761a-44eb-bbef-3f5d83e425e0",
   "metadata": {
    "tags": []
   },
   "outputs": [],
   "source": [
    "X_train, X_test, y_train, y_test = train_test_split(X, y, test_size=0.2, random_state=30)"
   ]
  },
  {
   "cell_type": "code",
   "execution_count": 14,
   "id": "07287f7b-34cb-41e8-92cf-a256dbd3e72e",
   "metadata": {
    "tags": []
   },
   "outputs": [],
   "source": [
    "model.fit(X_train, y_train)\n",
    "predictions = model.predict(X_test)"
   ]
  },
  {
   "cell_type": "code",
   "execution_count": 15,
   "id": "15bd9df8-fa12-4d56-bb9a-c252159fd066",
   "metadata": {
    "tags": []
   },
   "outputs": [
    {
     "data": {
      "text/plain": [
       "array([[0.87602611, 0.12397389],\n",
       "       [0.62946732, 0.37053268],\n",
       "       [0.25839012, 0.74160988],\n",
       "       [0.87261239, 0.12738761],\n",
       "       [0.69864557, 0.30135443],\n",
       "       [0.40926354, 0.59073646],\n",
       "       [0.35643636, 0.64356364],\n",
       "       [0.95088101, 0.04911899],\n",
       "       [0.61023252, 0.38976748],\n",
       "       [0.27866615, 0.72133385]])"
      ]
     },
     "execution_count": 15,
     "metadata": {},
     "output_type": "execute_result"
    }
   ],
   "source": [
    "model.predict_proba(X_test)[:10]"
   ]
  },
  {
   "cell_type": "code",
   "execution_count": 16,
   "id": "98ee6278-1652-41aa-8646-fbb038712684",
   "metadata": {
    "tags": []
   },
   "outputs": [
    {
     "data": {
      "text/plain": [
       "0.7040280210157618"
      ]
     },
     "execution_count": 16,
     "metadata": {},
     "output_type": "execute_result"
    }
   ],
   "source": [
    "model.score(X_train, y_train)"
   ]
  },
  {
   "cell_type": "code",
   "execution_count": 17,
   "id": "47970dbe-7fdb-4b5b-87ff-021cb20f15d7",
   "metadata": {
    "tags": []
   },
   "outputs": [
    {
     "data": {
      "text/plain": [
       "0.6713286713286714"
      ]
     },
     "execution_count": 17,
     "metadata": {},
     "output_type": "execute_result"
    }
   ],
   "source": [
    "model.score(X_test, y_test)"
   ]
  },
  {
   "cell_type": "code",
   "execution_count": 18,
   "id": "54ec2812-45f0-48d5-a2e7-31ec3289db12",
   "metadata": {
    "tags": []
   },
   "outputs": [
    {
     "name": "stdout",
     "output_type": "stream",
     "text": [
      "Precision = 0.5849\n",
      "Recall = 0.5536\n"
     ]
    }
   ],
   "source": [
    "precision = precision_score(y_test, predictions)\n",
    "recall = recall_score(y_test, predictions)\n",
    "\n",
    "print(f\"Precision = {precision.round(4)}\")\n",
    "print(f\"Recall = {recall.round(4)}\")"
   ]
  },
  {
   "cell_type": "markdown",
   "id": "799284d6-7a35-4cab-a412-ad8a834898a1",
   "metadata": {},
   "source": [
    "#### Вывод: Хотя метрика точности сравнительно высокая, показатели precision and recall неудовлетворительные."
   ]
  },
  {
   "cell_type": "markdown",
   "id": "9037d44b-d0be-45ec-b372-a32f5a6d6a72",
   "metadata": {
    "tags": []
   },
   "source": [
    "#### 3. Снова загрузите полные данные."
   ]
  },
  {
   "cell_type": "code",
   "execution_count": 19,
   "id": "d3f6a743-783d-43be-88b1-288795b05e28",
   "metadata": {
    "tags": []
   },
   "outputs": [],
   "source": [
    "data = pd.read_csv(\"train.csv\")"
   ]
  },
  {
   "cell_type": "markdown",
   "id": "3c3dcf03-f1ec-408f-a9d6-ad8f113149fc",
   "metadata": {
    "tags": []
   },
   "source": [
    "#### 4. Удалите признаки, которые логически не нужны для построения модели. Обоснуйте."
   ]
  },
  {
   "cell_type": "code",
   "execution_count": 20,
   "id": "0ccf6a30-5a87-42c9-a3cd-a7b7c5260ac6",
   "metadata": {
    "tags": []
   },
   "outputs": [
    {
     "data": {
      "text/html": [
       "<div>\n",
       "<style scoped>\n",
       "    .dataframe tbody tr th:only-of-type {\n",
       "        vertical-align: middle;\n",
       "    }\n",
       "\n",
       "    .dataframe tbody tr th {\n",
       "        vertical-align: top;\n",
       "    }\n",
       "\n",
       "    .dataframe thead th {\n",
       "        text-align: right;\n",
       "    }\n",
       "</style>\n",
       "<table border=\"1\" class=\"dataframe\">\n",
       "  <thead>\n",
       "    <tr style=\"text-align: right;\">\n",
       "      <th></th>\n",
       "      <th>PassengerId</th>\n",
       "      <th>Survived</th>\n",
       "      <th>Pclass</th>\n",
       "      <th>Name</th>\n",
       "      <th>Sex</th>\n",
       "      <th>Age</th>\n",
       "      <th>SibSp</th>\n",
       "      <th>Parch</th>\n",
       "      <th>Ticket</th>\n",
       "      <th>Fare</th>\n",
       "      <th>Cabin</th>\n",
       "      <th>Embarked</th>\n",
       "    </tr>\n",
       "  </thead>\n",
       "  <tbody>\n",
       "    <tr>\n",
       "      <th>0</th>\n",
       "      <td>1</td>\n",
       "      <td>0</td>\n",
       "      <td>3</td>\n",
       "      <td>Braund, Mr. Owen Harris</td>\n",
       "      <td>male</td>\n",
       "      <td>22.0</td>\n",
       "      <td>1</td>\n",
       "      <td>0</td>\n",
       "      <td>A/5 21171</td>\n",
       "      <td>7.2500</td>\n",
       "      <td>NaN</td>\n",
       "      <td>S</td>\n",
       "    </tr>\n",
       "    <tr>\n",
       "      <th>1</th>\n",
       "      <td>2</td>\n",
       "      <td>1</td>\n",
       "      <td>1</td>\n",
       "      <td>Cumings, Mrs. John Bradley (Florence Briggs Th...</td>\n",
       "      <td>female</td>\n",
       "      <td>38.0</td>\n",
       "      <td>1</td>\n",
       "      <td>0</td>\n",
       "      <td>PC 17599</td>\n",
       "      <td>71.2833</td>\n",
       "      <td>C85</td>\n",
       "      <td>C</td>\n",
       "    </tr>\n",
       "    <tr>\n",
       "      <th>2</th>\n",
       "      <td>3</td>\n",
       "      <td>1</td>\n",
       "      <td>3</td>\n",
       "      <td>Heikkinen, Miss. Laina</td>\n",
       "      <td>female</td>\n",
       "      <td>26.0</td>\n",
       "      <td>0</td>\n",
       "      <td>0</td>\n",
       "      <td>STON/O2. 3101282</td>\n",
       "      <td>7.9250</td>\n",
       "      <td>NaN</td>\n",
       "      <td>S</td>\n",
       "    </tr>\n",
       "    <tr>\n",
       "      <th>3</th>\n",
       "      <td>4</td>\n",
       "      <td>1</td>\n",
       "      <td>1</td>\n",
       "      <td>Futrelle, Mrs. Jacques Heath (Lily May Peel)</td>\n",
       "      <td>female</td>\n",
       "      <td>35.0</td>\n",
       "      <td>1</td>\n",
       "      <td>0</td>\n",
       "      <td>113803</td>\n",
       "      <td>53.1000</td>\n",
       "      <td>C123</td>\n",
       "      <td>S</td>\n",
       "    </tr>\n",
       "    <tr>\n",
       "      <th>4</th>\n",
       "      <td>5</td>\n",
       "      <td>0</td>\n",
       "      <td>3</td>\n",
       "      <td>Allen, Mr. William Henry</td>\n",
       "      <td>male</td>\n",
       "      <td>35.0</td>\n",
       "      <td>0</td>\n",
       "      <td>0</td>\n",
       "      <td>373450</td>\n",
       "      <td>8.0500</td>\n",
       "      <td>NaN</td>\n",
       "      <td>S</td>\n",
       "    </tr>\n",
       "  </tbody>\n",
       "</table>\n",
       "</div>"
      ],
      "text/plain": [
       "   PassengerId  Survived  Pclass  \\\n",
       "0            1         0       3   \n",
       "1            2         1       1   \n",
       "2            3         1       3   \n",
       "3            4         1       1   \n",
       "4            5         0       3   \n",
       "\n",
       "                                                Name     Sex   Age  SibSp  \\\n",
       "0                            Braund, Mr. Owen Harris    male  22.0      1   \n",
       "1  Cumings, Mrs. John Bradley (Florence Briggs Th...  female  38.0      1   \n",
       "2                             Heikkinen, Miss. Laina  female  26.0      0   \n",
       "3       Futrelle, Mrs. Jacques Heath (Lily May Peel)  female  35.0      1   \n",
       "4                           Allen, Mr. William Henry    male  35.0      0   \n",
       "\n",
       "   Parch            Ticket     Fare Cabin Embarked  \n",
       "0      0         A/5 21171   7.2500   NaN        S  \n",
       "1      0          PC 17599  71.2833   C85        C  \n",
       "2      0  STON/O2. 3101282   7.9250   NaN        S  \n",
       "3      0            113803  53.1000  C123        S  \n",
       "4      0            373450   8.0500   NaN        S  "
      ]
     },
     "execution_count": 20,
     "metadata": {},
     "output_type": "execute_result"
    }
   ],
   "source": [
    "data.head()"
   ]
  },
  {
   "cell_type": "markdown",
   "id": "40ac14de-a69a-4cce-8885-63b2a9a6bf21",
   "metadata": {},
   "source": [
    "##### Удаляем признаки: \n",
    "1. PassengerID (уникальны в порядке возрастания).\n",
    "2. Name (все отличаются и вряд ли от имени зависит кто выжил, а кто нет).\n",
    "3. Embarked (можно предположить, что от порта посадки не зависит выживаемость).<br>\n",
    "Дополнительно (для уверенности) посмотрим на корреляцию между этими признаками, предварительно, преобразовав их в числа, где необходимо."
   ]
  },
  {
   "cell_type": "code",
   "execution_count": 21,
   "id": "291bdc00-728d-4f95-aecd-f7d4a3efe0df",
   "metadata": {
    "tags": []
   },
   "outputs": [
    {
     "data": {
      "text/plain": [
       "891"
      ]
     },
     "execution_count": 21,
     "metadata": {},
     "output_type": "execute_result"
    }
   ],
   "source": [
    "data.Name.nunique()"
   ]
  },
  {
   "cell_type": "code",
   "execution_count": 22,
   "id": "7beef5b5-cdb4-419d-a762-ef6e58bf04d4",
   "metadata": {
    "tags": []
   },
   "outputs": [
    {
     "data": {
      "text/html": [
       "<div>\n",
       "<style scoped>\n",
       "    .dataframe tbody tr th:only-of-type {\n",
       "        vertical-align: middle;\n",
       "    }\n",
       "\n",
       "    .dataframe tbody tr th {\n",
       "        vertical-align: top;\n",
       "    }\n",
       "\n",
       "    .dataframe thead th {\n",
       "        text-align: right;\n",
       "    }\n",
       "</style>\n",
       "<table border=\"1\" class=\"dataframe\">\n",
       "  <thead>\n",
       "    <tr style=\"text-align: right;\">\n",
       "      <th></th>\n",
       "      <th>Survived</th>\n",
       "      <th>PassengerId</th>\n",
       "    </tr>\n",
       "  </thead>\n",
       "  <tbody>\n",
       "    <tr>\n",
       "      <th>Survived</th>\n",
       "      <td>1.000000</td>\n",
       "      <td>-0.005007</td>\n",
       "    </tr>\n",
       "    <tr>\n",
       "      <th>PassengerId</th>\n",
       "      <td>-0.005007</td>\n",
       "      <td>1.000000</td>\n",
       "    </tr>\n",
       "  </tbody>\n",
       "</table>\n",
       "</div>"
      ],
      "text/plain": [
       "             Survived  PassengerId\n",
       "Survived     1.000000    -0.005007\n",
       "PassengerId -0.005007     1.000000"
      ]
     },
     "execution_count": 22,
     "metadata": {},
     "output_type": "execute_result"
    }
   ],
   "source": [
    "data[['Survived','PassengerId']].corr(method = 'pearson') # аналогичный результат будет для Name, если имена пронумеровать уникально"
   ]
  },
  {
   "cell_type": "markdown",
   "id": "530cb39e-0bc8-4a9e-8191-b96d1285e649",
   "metadata": {},
   "source": [
    "##### Для проверки на корреляцию заменим строковые значения на целочисленные"
   ]
  },
  {
   "cell_type": "code",
   "execution_count": 23,
   "id": "39b39fa8-b91d-4aa1-bf0e-bafb24ea7ccf",
   "metadata": {
    "tags": []
   },
   "outputs": [],
   "source": [
    "data.Embarked.replace({'S':1,'C':2,'Q':3}, inplace=True)\n",
    "data.Embarked.fillna(4, inplace=True)"
   ]
  },
  {
   "cell_type": "code",
   "execution_count": 24,
   "id": "a0c1aacc-1936-480f-9edd-bbbe89c9a2af",
   "metadata": {
    "tags": []
   },
   "outputs": [
    {
     "data": {
      "text/plain": [
       "array([1., 2., 3., 4.])"
      ]
     },
     "execution_count": 24,
     "metadata": {},
     "output_type": "execute_result"
    }
   ],
   "source": [
    "data.Embarked.unique()"
   ]
  },
  {
   "cell_type": "code",
   "execution_count": 25,
   "id": "211947bf-94cf-4780-bcd6-7392ca2e9bdc",
   "metadata": {
    "tags": []
   },
   "outputs": [
    {
     "data": {
      "text/html": [
       "<div>\n",
       "<style scoped>\n",
       "    .dataframe tbody tr th:only-of-type {\n",
       "        vertical-align: middle;\n",
       "    }\n",
       "\n",
       "    .dataframe tbody tr th {\n",
       "        vertical-align: top;\n",
       "    }\n",
       "\n",
       "    .dataframe thead th {\n",
       "        text-align: right;\n",
       "    }\n",
       "</style>\n",
       "<table border=\"1\" class=\"dataframe\">\n",
       "  <thead>\n",
       "    <tr style=\"text-align: right;\">\n",
       "      <th></th>\n",
       "      <th>Survived</th>\n",
       "      <th>Embarked</th>\n",
       "    </tr>\n",
       "  </thead>\n",
       "  <tbody>\n",
       "    <tr>\n",
       "      <th>Survived</th>\n",
       "      <td>1.000000</td>\n",
       "      <td>0.118026</td>\n",
       "    </tr>\n",
       "    <tr>\n",
       "      <th>Embarked</th>\n",
       "      <td>0.118026</td>\n",
       "      <td>1.000000</td>\n",
       "    </tr>\n",
       "  </tbody>\n",
       "</table>\n",
       "</div>"
      ],
      "text/plain": [
       "          Survived  Embarked\n",
       "Survived  1.000000  0.118026\n",
       "Embarked  0.118026  1.000000"
      ]
     },
     "execution_count": 25,
     "metadata": {},
     "output_type": "execute_result"
    }
   ],
   "source": [
    "data[['Survived','Embarked']].corr(method = 'pearson')"
   ]
  },
  {
   "cell_type": "markdown",
   "id": "99656598-81da-449a-8c8e-bff0d279dbfa",
   "metadata": {},
   "source": [
    "##### Как видим корреляция отсутствует или крайне незначительная, поэтому удаляем."
   ]
  },
  {
   "cell_type": "code",
   "execution_count": 26,
   "id": "6018ec1a-b2a9-4e6f-bd98-75144a8fc434",
   "metadata": {
    "tags": []
   },
   "outputs": [],
   "source": [
    "del data['PassengerId'], data['Name'], data['Embarked']"
   ]
  },
  {
   "cell_type": "markdown",
   "id": "b0d464b4-47a7-4eb5-aaf2-8761b85ddd46",
   "metadata": {},
   "source": [
    "#### 5. Проверьте данные на наличие пропущенных значений.\n",
    "a) Посчитайте, какой процент данных будет потерян, если просто удалить пропуски.<br>\n",
    "b) Заполните пропуски: средним значением; константой; классом, указывающим на то, что значение было пропущено; случайным числом. Для разных признаков используйте подходящий метод. Можно не использовать все перечисленные методы."
   ]
  },
  {
   "cell_type": "code",
   "execution_count": 27,
   "id": "43843abf-9b8a-4e19-b514-b102b4fad34d",
   "metadata": {},
   "outputs": [
    {
     "name": "stdout",
     "output_type": "stream",
     "text": [
      "<class 'pandas.core.frame.DataFrame'>\n",
      "RangeIndex: 891 entries, 0 to 890\n",
      "Data columns (total 9 columns):\n",
      " #   Column    Non-Null Count  Dtype  \n",
      "---  ------    --------------  -----  \n",
      " 0   Survived  891 non-null    int64  \n",
      " 1   Pclass    891 non-null    int64  \n",
      " 2   Sex       891 non-null    object \n",
      " 3   Age       714 non-null    float64\n",
      " 4   SibSp     891 non-null    int64  \n",
      " 5   Parch     891 non-null    int64  \n",
      " 6   Ticket    891 non-null    object \n",
      " 7   Fare      891 non-null    float64\n",
      " 8   Cabin     204 non-null    object \n",
      "dtypes: float64(2), int64(4), object(3)\n",
      "memory usage: 62.8+ KB\n"
     ]
    }
   ],
   "source": [
    "data.info()"
   ]
  },
  {
   "cell_type": "markdown",
   "id": "a0fde798-865c-4dc5-9a67-220e77ed687f",
   "metadata": {},
   "source": [
    "##### В целом, если удалить все строки, где есть нулевые значения, то останется всего 22.9% строк от всех данных, то есть нулевые значения присутствуют в 77.1% строк"
   ]
  },
  {
   "cell_type": "code",
   "execution_count": 28,
   "id": "8098b31e-fe80-46db-a8ce-8a59db40fec8",
   "metadata": {},
   "outputs": [
    {
     "name": "stdout",
     "output_type": "stream",
     "text": [
      "Data Loss % if rows with null values are removed = 77.1\n"
     ]
    }
   ],
   "source": [
    "data_test = data\n",
    "for i in ['Age','Cabin']:\n",
    "    data_test=data[~(data[i].isna())]\n",
    "print(f\"Data Loss % if rows with null values are removed = {round((1-data_test.shape[0]/data.shape[0])*100,1)}\")"
   ]
  },
  {
   "cell_type": "markdown",
   "id": "0e78e5e2-f27c-49ea-b5a5-97d68c55173f",
   "metadata": {},
   "source": [
    "##### Максимальное количество строк с нулевыми данными вносит признак Cabin, то его тоже удалим, поскольку число нулевых значений 687 против всех 891 и не ясно как заполнить пустые ячейки. В противном случае неправильное заполнение такого большого количества или удаление может сильно повлиять на конечный результат."
   ]
  },
  {
   "cell_type": "code",
   "execution_count": 29,
   "id": "59473fdc-cd80-4db0-8bc4-941e51feeded",
   "metadata": {},
   "outputs": [],
   "source": [
    "del data['Cabin']"
   ]
  },
  {
   "cell_type": "markdown",
   "id": "f35fd202-4643-4f52-a1d9-881a229eec42",
   "metadata": {},
   "source": [
    "##### Количество пропущенных значений для Age достаточно велико и равно почти 20% (177/891 = 0.1986...). В идеале стоит попробовать посмотреть на результат моделирования без Age и с Age с заполненными пустыми ячейками. В нашем случае выберем заполнение. Прежде чем принять решение относительно как заполнить пустые ячейки для возраста посмотрим распределение и разные статистические средние по возрасту."
   ]
  },
  {
   "cell_type": "code",
   "execution_count": 30,
   "id": "4fac836d-9281-4650-b4bd-bf642f7dcf98",
   "metadata": {},
   "outputs": [
    {
     "name": "stdout",
     "output_type": "stream",
     "text": [
      "Age Mean = 29.69911764705882,\n",
      "Age Mode = 0    24.0\n",
      "Name: Age, dtype: float64,\n",
      "Age Median = 28.0\n"
     ]
    }
   ],
   "source": [
    "print(f\"Age Mean = {data.Age.mean()},\\nAge Mode = {data.Age.mode()},\\nAge Median = {data.Age.median()}\")"
   ]
  },
  {
   "cell_type": "code",
   "execution_count": 31,
   "id": "48f9b766-a51e-437c-ba96-39d9923bece3",
   "metadata": {},
   "outputs": [
    {
     "data": {
      "image/png": "[encoded data removed]",
      "text/plain": [
       "<Figure size 640x480 with 1 Axes>"
      ]
     },
     "metadata": {},
     "output_type": "display_data"
    }
   ],
   "source": [
    "sns.histplot(data = data, x = 'Age', bins = 40)\n",
    "plt.show()"
   ]
  },
  {
   "cell_type": "markdown",
   "id": "eef62cb6-8e90-43e7-8dea-79bf1ad8ac95",
   "metadata": {},
   "source": [
    "##### Выбираем значение медианы для заполнения"
   ]
  },
  {
   "cell_type": "code",
   "execution_count": 32,
   "id": "a6b5f744-cd60-4d06-a279-fe40ecb36a8e",
   "metadata": {},
   "outputs": [],
   "source": [
    "data.Age.fillna(28, inplace=True)"
   ]
  },
  {
   "cell_type": "markdown",
   "id": "cacb2164-f536-4841-af3e-cb2fb1923870",
   "metadata": {},
   "source": [
    "##### И добавим ещё колонку с новым признаком, который принимает значения Child, Adult, Senior, поскольку в любой опасной ситуации старались спасать детей."
   ]
  },
  {
   "cell_type": "code",
   "execution_count": 33,
   "id": "47ffc442-ae1f-4414-847c-456e38b110d2",
   "metadata": {},
   "outputs": [],
   "source": [
    "def func_age(age):\n",
    "    if age<=14:\n",
    "        value='Child'\n",
    "    elif age<=45:\n",
    "        value='Adult'\n",
    "    else:\n",
    "        value='Senior'\n",
    "    return value"
   ]
  },
  {
   "cell_type": "code",
   "execution_count": 34,
   "id": "5103116d-5b07-4dc8-8154-251308ceb610",
   "metadata": {},
   "outputs": [],
   "source": [
    "data['Age_int'] = data.apply(lambda x: func_age(x['Age']), axis=1) # the column is added"
   ]
  },
  {
   "cell_type": "markdown",
   "id": "30efe14e-b5a9-44e3-8936-f9dcbaa09e20",
   "metadata": {},
   "source": [
    "##### Надо определиться, что делать с признаком Ticket"
   ]
  },
  {
   "cell_type": "code",
   "execution_count": 35,
   "id": "d20ce78c-c8af-4d3b-992d-d2f45342f86b",
   "metadata": {},
   "outputs": [
    {
     "data": {
      "text/plain": [
       "681"
      ]
     },
     "execution_count": 35,
     "metadata": {},
     "output_type": "execute_result"
    }
   ],
   "source": [
    "data.Ticket.nunique()"
   ]
  },
  {
   "cell_type": "markdown",
   "id": "4ab51207-0f1e-412d-9fd3-42979818f313",
   "metadata": {},
   "source": [
    "##### То есть присутствуют дублирующие билеты. Удалим эту колонку тоже, поскольку мы не знаем с чем это связано: ошибки при продаже или что-то другое."
   ]
  },
  {
   "cell_type": "code",
   "execution_count": 36,
   "id": "3db702b3-44eb-4b3d-90a1-ef22d159fedf",
   "metadata": {},
   "outputs": [],
   "source": [
    "del data['Ticket']"
   ]
  },
  {
   "cell_type": "code",
   "execution_count": 37,
   "id": "9f346a2a-7d83-4422-be09-20e1df2dba33",
   "metadata": {},
   "outputs": [
    {
     "data": {
      "text/html": [
       "<div>\n",
       "<style scoped>\n",
       "    .dataframe tbody tr th:only-of-type {\n",
       "        vertical-align: middle;\n",
       "    }\n",
       "\n",
       "    .dataframe tbody tr th {\n",
       "        vertical-align: top;\n",
       "    }\n",
       "\n",
       "    .dataframe thead th {\n",
       "        text-align: right;\n",
       "    }\n",
       "</style>\n",
       "<table border=\"1\" class=\"dataframe\">\n",
       "  <thead>\n",
       "    <tr style=\"text-align: right;\">\n",
       "      <th></th>\n",
       "      <th>Survived</th>\n",
       "      <th>Pclass</th>\n",
       "      <th>Sex</th>\n",
       "      <th>Age</th>\n",
       "      <th>SibSp</th>\n",
       "      <th>Parch</th>\n",
       "      <th>Fare</th>\n",
       "      <th>Age_int</th>\n",
       "    </tr>\n",
       "  </thead>\n",
       "  <tbody>\n",
       "    <tr>\n",
       "      <th>0</th>\n",
       "      <td>0</td>\n",
       "      <td>3</td>\n",
       "      <td>male</td>\n",
       "      <td>22.0</td>\n",
       "      <td>1</td>\n",
       "      <td>0</td>\n",
       "      <td>7.2500</td>\n",
       "      <td>Adult</td>\n",
       "    </tr>\n",
       "    <tr>\n",
       "      <th>1</th>\n",
       "      <td>1</td>\n",
       "      <td>1</td>\n",
       "      <td>female</td>\n",
       "      <td>38.0</td>\n",
       "      <td>1</td>\n",
       "      <td>0</td>\n",
       "      <td>71.2833</td>\n",
       "      <td>Adult</td>\n",
       "    </tr>\n",
       "    <tr>\n",
       "      <th>2</th>\n",
       "      <td>1</td>\n",
       "      <td>3</td>\n",
       "      <td>female</td>\n",
       "      <td>26.0</td>\n",
       "      <td>0</td>\n",
       "      <td>0</td>\n",
       "      <td>7.9250</td>\n",
       "      <td>Adult</td>\n",
       "    </tr>\n",
       "    <tr>\n",
       "      <th>3</th>\n",
       "      <td>1</td>\n",
       "      <td>1</td>\n",
       "      <td>female</td>\n",
       "      <td>35.0</td>\n",
       "      <td>1</td>\n",
       "      <td>0</td>\n",
       "      <td>53.1000</td>\n",
       "      <td>Adult</td>\n",
       "    </tr>\n",
       "    <tr>\n",
       "      <th>4</th>\n",
       "      <td>0</td>\n",
       "      <td>3</td>\n",
       "      <td>male</td>\n",
       "      <td>35.0</td>\n",
       "      <td>0</td>\n",
       "      <td>0</td>\n",
       "      <td>8.0500</td>\n",
       "      <td>Adult</td>\n",
       "    </tr>\n",
       "    <tr>\n",
       "      <th>5</th>\n",
       "      <td>0</td>\n",
       "      <td>3</td>\n",
       "      <td>male</td>\n",
       "      <td>28.0</td>\n",
       "      <td>0</td>\n",
       "      <td>0</td>\n",
       "      <td>8.4583</td>\n",
       "      <td>Adult</td>\n",
       "    </tr>\n",
       "    <tr>\n",
       "      <th>6</th>\n",
       "      <td>0</td>\n",
       "      <td>1</td>\n",
       "      <td>male</td>\n",
       "      <td>54.0</td>\n",
       "      <td>0</td>\n",
       "      <td>0</td>\n",
       "      <td>51.8625</td>\n",
       "      <td>Senior</td>\n",
       "    </tr>\n",
       "    <tr>\n",
       "      <th>7</th>\n",
       "      <td>0</td>\n",
       "      <td>3</td>\n",
       "      <td>male</td>\n",
       "      <td>2.0</td>\n",
       "      <td>3</td>\n",
       "      <td>1</td>\n",
       "      <td>21.0750</td>\n",
       "      <td>Child</td>\n",
       "    </tr>\n",
       "    <tr>\n",
       "      <th>8</th>\n",
       "      <td>1</td>\n",
       "      <td>3</td>\n",
       "      <td>female</td>\n",
       "      <td>27.0</td>\n",
       "      <td>0</td>\n",
       "      <td>2</td>\n",
       "      <td>11.1333</td>\n",
       "      <td>Adult</td>\n",
       "    </tr>\n",
       "    <tr>\n",
       "      <th>9</th>\n",
       "      <td>1</td>\n",
       "      <td>2</td>\n",
       "      <td>female</td>\n",
       "      <td>14.0</td>\n",
       "      <td>1</td>\n",
       "      <td>0</td>\n",
       "      <td>30.0708</td>\n",
       "      <td>Child</td>\n",
       "    </tr>\n",
       "  </tbody>\n",
       "</table>\n",
       "</div>"
      ],
      "text/plain": [
       "   Survived  Pclass     Sex   Age  SibSp  Parch     Fare Age_int\n",
       "0         0       3    male  22.0      1      0   7.2500   Adult\n",
       "1         1       1  female  38.0      1      0  71.2833   Adult\n",
       "2         1       3  female  26.0      0      0   7.9250   Adult\n",
       "3         1       1  female  35.0      1      0  53.1000   Adult\n",
       "4         0       3    male  35.0      0      0   8.0500   Adult\n",
       "5         0       3    male  28.0      0      0   8.4583   Adult\n",
       "6         0       1    male  54.0      0      0  51.8625  Senior\n",
       "7         0       3    male   2.0      3      1  21.0750   Child\n",
       "8         1       3  female  27.0      0      2  11.1333   Adult\n",
       "9         1       2  female  14.0      1      0  30.0708   Child"
      ]
     },
     "execution_count": 37,
     "metadata": {},
     "output_type": "execute_result"
    }
   ],
   "source": [
    "data.head(10)"
   ]
  },
  {
   "cell_type": "code",
   "execution_count": 38,
   "id": "7c1734ff-a753-4169-b554-925f296ebbc5",
   "metadata": {},
   "outputs": [
    {
     "name": "stdout",
     "output_type": "stream",
     "text": [
      "<class 'pandas.core.frame.DataFrame'>\n",
      "RangeIndex: 891 entries, 0 to 890\n",
      "Data columns (total 8 columns):\n",
      " #   Column    Non-Null Count  Dtype  \n",
      "---  ------    --------------  -----  \n",
      " 0   Survived  891 non-null    int64  \n",
      " 1   Pclass    891 non-null    int64  \n",
      " 2   Sex       891 non-null    object \n",
      " 3   Age       891 non-null    float64\n",
      " 4   SibSp     891 non-null    int64  \n",
      " 5   Parch     891 non-null    int64  \n",
      " 6   Fare      891 non-null    float64\n",
      " 7   Age_int   891 non-null    object \n",
      "dtypes: float64(2), int64(4), object(2)\n",
      "memory usage: 55.8+ KB\n"
     ]
    }
   ],
   "source": [
    "data.info()"
   ]
  },
  {
   "cell_type": "markdown",
   "id": "d4384901-9cd1-42e7-b785-0ede7f34686b",
   "metadata": {},
   "source": [
    "#### 6. Категориальные переменные переведите в цифровые значения. "
   ]
  },
  {
   "cell_type": "code",
   "execution_count": 39,
   "id": "f0982d11-d0e2-4a61-94f5-d5ed9325f1eb",
   "metadata": {},
   "outputs": [],
   "source": [
    "selected_columns = data[['Survived', 'Pclass', 'Sex', 'Age', 'SibSp', 'Parch', 'Fare','Age_int']]\n",
    "nominal_attributes = ['Sex', 'Age_int']\n",
    "X = pd.get_dummies(selected_columns, columns=nominal_attributes, drop_first=True, dtype = int)"
   ]
  },
  {
   "cell_type": "markdown",
   "id": "915b7df6-910a-401a-85af-8c2bc76224e8",
   "metadata": {},
   "source": [
    "#### 7. Проверьте данные на наличие выбросов.\n",
    "a) Удалите выбросы, если считаете это целесообразным. Обоснуйте."
   ]
  },
  {
   "cell_type": "code",
   "execution_count": 40,
   "id": "5ecb67a6-f025-4b3d-9b4b-151d8eafc93f",
   "metadata": {},
   "outputs": [
    {
     "data": {
      "text/plain": [
       "array([3, 1, 2], dtype=int64)"
      ]
     },
     "execution_count": 40,
     "metadata": {},
     "output_type": "execute_result"
    }
   ],
   "source": [
    "X.Pclass.unique()"
   ]
  },
  {
   "cell_type": "markdown",
   "id": "483983a5-75fd-4f48-b0c9-42af4dc397f5",
   "metadata": {},
   "source": [
    "##### Существенно отличаться могут только указанные на графике признаки, поскольку остальные принимают значения или 0 или 1 или ограниченное количество значений, как для Pclass"
   ]
  },
  {
   "cell_type": "code",
   "execution_count": 41,
   "id": "5e76952f-e8cf-4291-aad8-ee00c62106d4",
   "metadata": {},
   "outputs": [
    {
     "data": {
      "image/png": "[encoded data removed]",
      "text/plain": [
       "<Figure size 640x480 with 1 Axes>"
      ]
     },
     "metadata": {},
     "output_type": "display_data"
    }
   ],
   "source": [
    "sns.boxplot(X[['Age', 'SibSp','Parch','Fare']])\n",
    "plt.show()"
   ]
  },
  {
   "cell_type": "markdown",
   "id": "a30bd2cd-cc1e-47fc-94de-7e10e2592ad5",
   "metadata": {},
   "source": [
    "##### Хотя для Fare присутствуют значительные выбросы, осмелюсь ничего не удалять, поскольку на корабле могут быть очень дорогие каюты. Для Age тоже присутствуют выбросы, но это нормально, поскольку на корабле могут быть и очень пожилые пассажиры."
   ]
  },
  {
   "cell_type": "markdown",
   "id": "c844cac6-c6fb-4b08-8e02-5c595112b3d0",
   "metadata": {},
   "source": [
    "#### 8. *Постройте 1-2 графика на выбор. Визуализация должна быть основана на исследуемых данных и быть полезной (из графика можно сделать вывод об особенностях датасета/класса/признака)\n",
    "#### 9. *Попробуйте математически преобразовать признак Age."
   ]
  },
  {
   "cell_type": "markdown",
   "id": "c1380a8d-4912-40dd-bcb8-89a5753d14ea",
   "metadata": {},
   "source": [
    "##### Выше построены 2 графика и математически признак Age преобразован к Age_int."
   ]
  },
  {
   "cell_type": "code",
   "execution_count": 42,
   "id": "08a8f162-dbd8-4efd-b1a7-d8c05c5209f3",
   "metadata": {},
   "outputs": [
    {
     "data": {
      "text/html": [
       "<div>\n",
       "<style scoped>\n",
       "    .dataframe tbody tr th:only-of-type {\n",
       "        vertical-align: middle;\n",
       "    }\n",
       "\n",
       "    .dataframe tbody tr th {\n",
       "        vertical-align: top;\n",
       "    }\n",
       "\n",
       "    .dataframe thead th {\n",
       "        text-align: right;\n",
       "    }\n",
       "</style>\n",
       "<table border=\"1\" class=\"dataframe\">\n",
       "  <thead>\n",
       "    <tr style=\"text-align: right;\">\n",
       "      <th></th>\n",
       "      <th>Pclass</th>\n",
       "      <th>Sex</th>\n",
       "      <th>Age</th>\n",
       "      <th>SibSp</th>\n",
       "      <th>Parch</th>\n",
       "      <th>Fare</th>\n",
       "      <th>Age_int</th>\n",
       "    </tr>\n",
       "    <tr>\n",
       "      <th>Survived</th>\n",
       "      <th></th>\n",
       "      <th></th>\n",
       "      <th></th>\n",
       "      <th></th>\n",
       "      <th></th>\n",
       "      <th></th>\n",
       "      <th></th>\n",
       "    </tr>\n",
       "  </thead>\n",
       "  <tbody>\n",
       "    <tr>\n",
       "      <th>0</th>\n",
       "      <td>549</td>\n",
       "      <td>549</td>\n",
       "      <td>549</td>\n",
       "      <td>549</td>\n",
       "      <td>549</td>\n",
       "      <td>549</td>\n",
       "      <td>549</td>\n",
       "    </tr>\n",
       "    <tr>\n",
       "      <th>1</th>\n",
       "      <td>342</td>\n",
       "      <td>342</td>\n",
       "      <td>342</td>\n",
       "      <td>342</td>\n",
       "      <td>342</td>\n",
       "      <td>342</td>\n",
       "      <td>342</td>\n",
       "    </tr>\n",
       "  </tbody>\n",
       "</table>\n",
       "</div>"
      ],
      "text/plain": [
       "          Pclass  Sex  Age  SibSp  Parch  Fare  Age_int\n",
       "Survived                                               \n",
       "0            549  549  549    549    549   549      549\n",
       "1            342  342  342    342    342   342      342"
      ]
     },
     "execution_count": 42,
     "metadata": {},
     "output_type": "execute_result"
    }
   ],
   "source": [
    "data.groupby('Survived').count()"
   ]
  },
  {
   "cell_type": "code",
   "execution_count": 43,
   "id": "8c894849-7849-4a43-8583-91c6404fe081",
   "metadata": {
    "tags": []
   },
   "outputs": [],
   "source": [
    "y = pd.Series(data = X.Survived)"
   ]
  },
  {
   "cell_type": "code",
   "execution_count": 44,
   "id": "8f4d76c4-ffeb-455b-8b96-3cc718947338",
   "metadata": {},
   "outputs": [
    {
     "data": {
      "text/plain": [
       "891"
      ]
     },
     "execution_count": 44,
     "metadata": {},
     "output_type": "execute_result"
    }
   ],
   "source": [
    "len(y)"
   ]
  },
  {
   "cell_type": "code",
   "execution_count": 45,
   "id": "f18b5c7b-1ff8-4590-846d-72d3d6bd5d37",
   "metadata": {
    "tags": []
   },
   "outputs": [],
   "source": [
    "del X['Survived']"
   ]
  },
  {
   "cell_type": "code",
   "execution_count": 46,
   "id": "35cf65a7-708b-4bd6-8173-0961d55d409f",
   "metadata": {},
   "outputs": [
    {
     "data": {
      "text/plain": [
       "(891, 8)"
      ]
     },
     "execution_count": 46,
     "metadata": {},
     "output_type": "execute_result"
    }
   ],
   "source": [
    "X.shape"
   ]
  },
  {
   "cell_type": "code",
   "execution_count": 47,
   "id": "38823ae0-5b60-4f10-9e88-181285a8d952",
   "metadata": {
    "tags": []
   },
   "outputs": [],
   "source": [
    "model = make_pipeline(\n",
    "    StandardScaler(),\n",
    "    LogisticRegression(max_iter=10000)\n",
    ")"
   ]
  },
  {
   "cell_type": "code",
   "execution_count": 48,
   "id": "51f7417e-4bc3-40c7-b1d2-86b54db4da8d",
   "metadata": {
    "tags": []
   },
   "outputs": [],
   "source": [
    "X_train, X_test, y_train, y_test = train_test_split(X, y, test_size=0.2, random_state=30)"
   ]
  },
  {
   "cell_type": "code",
   "execution_count": 49,
   "id": "518c35d5-9021-4bd2-8458-b0f25e7fd021",
   "metadata": {
    "tags": []
   },
   "outputs": [],
   "source": [
    "model.fit(X_train, y_train)\n",
    "predictions = model.predict(X_test)"
   ]
  },
  {
   "cell_type": "code",
   "execution_count": 50,
   "id": "c0f85662-925f-4d4c-9038-8f26b8af8aff",
   "metadata": {
    "tags": []
   },
   "outputs": [
    {
     "data": {
      "text/plain": [
       "array([[0.20243416, 0.79756584],\n",
       "       [0.07180879, 0.92819121],\n",
       "       [0.90226988, 0.09773012],\n",
       "       [0.11223655, 0.88776345],\n",
       "       [0.91015223, 0.08984777],\n",
       "       [0.90601933, 0.09398067],\n",
       "       [0.44408888, 0.55591112],\n",
       "       [0.89456301, 0.10543699],\n",
       "       [0.90236037, 0.09763963],\n",
       "       [0.90235283, 0.09764717]])"
      ]
     },
     "execution_count": 50,
     "metadata": {},
     "output_type": "execute_result"
    }
   ],
   "source": [
    "model.predict_proba(X_test)[:10]"
   ]
  },
  {
   "cell_type": "code",
   "execution_count": 51,
   "id": "630c81ab-57b8-4b98-aa0e-42121248fbec",
   "metadata": {
    "tags": []
   },
   "outputs": [
    {
     "data": {
      "text/plain": [
       "0.8117977528089888"
      ]
     },
     "execution_count": 51,
     "metadata": {},
     "output_type": "execute_result"
    }
   ],
   "source": [
    "model.score(X_train, y_train)"
   ]
  },
  {
   "cell_type": "code",
   "execution_count": 52,
   "id": "b9c7f962-ca60-4439-adaf-65b09d5ce34f",
   "metadata": {
    "tags": []
   },
   "outputs": [
    {
     "data": {
      "text/plain": [
       "0.8100558659217877"
      ]
     },
     "execution_count": 52,
     "metadata": {},
     "output_type": "execute_result"
    }
   ],
   "source": [
    "model.score(X_test, y_test)"
   ]
  },
  {
   "cell_type": "code",
   "execution_count": 53,
   "id": "829f2b52-3145-4311-a7aa-8e03b9adcd5e",
   "metadata": {
    "tags": []
   },
   "outputs": [
    {
     "name": "stdout",
     "output_type": "stream",
     "text": [
      "Precision = 0.8136\n",
      "Recall = 0.6761\n"
     ]
    }
   ],
   "source": [
    "precision = precision_score(y_test, predictions)\n",
    "recall = recall_score(y_test, predictions)\n",
    "\n",
    "print(f\"Precision = {precision.round(4)}\")\n",
    "print(f\"Recall = {recall.round(4)}\")"
   ]
  },
  {
   "cell_type": "markdown",
   "id": "b52f4058-905e-4a19-a63a-1ec3d28adaf4",
   "metadata": {},
   "source": [
    "#### 10. Выводы:\n",
    "а) Результаты значительно улучшились. Значительно улучшилась метрика accuracy до 0.81 с 0.67 на тестовой выборке. Также значительно улушилась способность модели отличать определённый класс от других классов (матрика Precision) c 0.58 до 0.81. Recall также вырос до 0.6761.<br>\n",
    "б) Во время подготовки модели были удалены признаки: \n",
    "PassangerId, Embarked, Name, Ticket.<br>\n",
    "в) Отсутствующие значения для Age были заполнены значением медианы и добавлена колонка с новым признаком классов возрастов.<br>\n",
    "Предполагаю, что для действительно больших наборов данных тоже необходимо делать подобные преобразования, но, возможно, в меньшем размере, в зависимости от процента отсутствующих данных."
   ]
  },
  {
   "cell_type": "code",
   "execution_count": null,
   "id": "82487f14-eab5-4b3a-95d8-08a5ce1d0ed9",
   "metadata": {},
   "outputs": [],
   "source": []
  },
  {
   "cell_type": "code",
   "execution_count": null,
   "id": "2efee62f-3f5a-4626-b315-1da47de3923b",
   "metadata": {},
   "outputs": [],
   "source": []
  }
 ],
 "metadata": {
  "kernelspec": {
   "display_name": "Python 3 (ipykernel)",
   "language": "python",
   "name": "python3"
  },
  "language_info": {
   "codemirror_mode": {
    "name": "ipython",
    "version": 3
   },
   "file_extension": ".py",
   "mimetype": "text/x-python",
   "name": "python",
   "nbconvert_exporter": "python",
   "pygments_lexer": "ipython3",
   "version": "3.11.4"
  }
 },
 "nbformat": 4,
 "nbformat_minor": 5
}
