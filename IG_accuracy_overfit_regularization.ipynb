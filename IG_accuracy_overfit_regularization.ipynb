{
 "cells": [
  {
   "cell_type": "markdown",
   "id": "2750623e-f3d5-4a0f-9770-a8ead89cc712",
   "metadata": {},
   "source": [
    "# Домашняя работа «Оценка точности модели, переобучение, регуляризация» обновленное"
   ]
  },
  {
   "cell_type": "markdown",
   "id": "166626f1-a483-44b4-95a3-695da3c8dc53",
   "metadata": {},
   "source": [
    "### **Задание**\n",
    "\n",
    "#### **Цель:** закрепить знания о математическом смысле метрик TPR, FPR. Изучить построение ROC-кривой, графика Precision-Recall."
   ]
  },
  {
   "cell_type": "markdown",
   "id": "c951934a-a2fe-4359-a7d0-a3444ff262e1",
   "metadata": {},
   "source": [
    "### Описание задания:\n",
    "Решить задачу классификации при помощи обучения модели логистической регрессии. Качество модели оценивается путем подсчета метрик TPR, FPR и построения графиков ROC-кривой, Precision-Recall. Данные для обучения модели хранятся в файле athletes.csv, который можно найти в материалах к занятию."
   ]
  },
  {
   "cell_type": "markdown",
   "id": "c158b3e1-4e52-4427-bc18-3486e9523b08",
   "metadata": {},
   "source": [
    "**Этапы работы:**\n",
    "\n",
    "1. Преобразуйте данные:<br>\n",
    "a. проверьте наличие пропущенных значений. Преобразуйте/удалите пропуски по необходимости;<br>\n",
    "b. закодируйте категориальные переменные числовыми значениями по необходимости.\n",
    "2. Разделите выборку на обучающее (80% данных) и тестовое (20% данных) подмножества.\n",
    "3. Постройте ROC-кривую с помощью функции sklearn.metrics. roc_curve.\n",
    "4. Вычислите значение ROC-AUC метрики с помощью функции sklearn.metrics.roc_auc_score.\n",
    "5. Реализуйте подсчет метрик TPR, FPR «вручную», без использования готовых функций из библиотеки sklearn.\n",
    "6. Постройте ROC-кривую с помощью вычисленных в п. 5 метрик: объедините графики из п. 3 и п. 6 в один. Сравните, сделайте вывод.\n",
    "7. Постройте график Precision-Recall, используя метрики, посчитанные в п. 5.\n",
    "8. *Вычислите значение ROC-AUC метрики, используя метрики, посчитанные в п. 5.\n",
    "9. Сформулируйте выводы по проделанной работе:\n",
    "a. как по полученным графикам сделать вывод о качестве модели? Как вы оцениваете обученную модель исходя из подсчитанных метрик?\n",
    "b. *может ли ROC-кривая проходить ниже диагонали?\n",
    "\n",
    "**Результат:**\n",
    "1. проведена оценка качества модели классификации;\n",
    "2. реализован подсчет «вручную» основных метрик, проведено сравнение полученных результатов с готовыми функциями из библиотеки sklearn."
   ]
  },
  {
   "cell_type": "code",
   "execution_count": 1,
   "id": "3329f3ca-2542-41ce-9f9b-c82c05f445ef",
   "metadata": {
    "tags": []
   },
   "outputs": [],
   "source": [
    "import numpy as np\n",
    "import pandas as pd\n",
    "import scipy.stats\n",
    "import matplotlib.pyplot as plt \n",
    "import seaborn as sns\n",
    "%matplotlib inline"
   ]
  },
  {
   "cell_type": "code",
   "execution_count": 2,
   "id": "74a4de61-4f71-48d3-a884-82d1094e9a41",
   "metadata": {
    "tags": []
   },
   "outputs": [],
   "source": [
    "from sklearn.linear_model import LogisticRegression\n",
    "from sklearn.pipeline import make_pipeline\n",
    "from sklearn.preprocessing import StandardScaler\n",
    "from sklearn.model_selection import train_test_split\n",
    "from sklearn.metrics import roc_curve\n",
    "from sklearn.metrics import roc_auc_score\n",
    "from sklearn.metrics import auc\n",
    "from sklearn.metrics import precision_recall_curve\n",
    "from sklearn.metrics import recall_score, precision_score"
   ]
  },
  {
   "cell_type": "code",
   "execution_count": 3,
   "id": "3c959b9e-ca27-484a-bbd5-5baec382021b",
   "metadata": {
    "tags": []
   },
   "outputs": [],
   "source": [
    "sns.set_style(style = 'dark')\n",
    "sns.set(font_scale=0.5)\n",
    "sns.set(rc={'figure.figsize':(10,6)})"
   ]
  },
  {
   "cell_type": "code",
   "execution_count": 4,
   "id": "000c853c-fefb-4af7-9ba1-84126d12087e",
   "metadata": {
    "tags": []
   },
   "outputs": [],
   "source": [
    "data = pd.read_csv('C:\\\\Users\\\\grebe\\\\Documents\\\\EDUCATION\\\\Машинное обучение фундаментальные инструменты и практики\\\\Работа с \\\n",
    "признаками и построение моделей\\\\Оценка точности модели, переобучение, регуляризация\\\\Additional_materials\\\\athletes.csv')"
   ]
  },
  {
   "cell_type": "code",
   "execution_count": 5,
   "id": "21212d6e-1e31-4ba8-91c9-004ebcaea8c3",
   "metadata": {
    "tags": []
   },
   "outputs": [
    {
     "data": {
      "text/html": [
       "<div>\n",
       "<style scoped>\n",
       "    .dataframe tbody tr th:only-of-type {\n",
       "        vertical-align: middle;\n",
       "    }\n",
       "\n",
       "    .dataframe tbody tr th {\n",
       "        vertical-align: top;\n",
       "    }\n",
       "\n",
       "    .dataframe thead th {\n",
       "        text-align: right;\n",
       "    }\n",
       "</style>\n",
       "<table border=\"1\" class=\"dataframe\">\n",
       "  <thead>\n",
       "    <tr style=\"text-align: right;\">\n",
       "      <th></th>\n",
       "      <th>id</th>\n",
       "      <th>name</th>\n",
       "      <th>nationality</th>\n",
       "      <th>sex</th>\n",
       "      <th>dob</th>\n",
       "      <th>height</th>\n",
       "      <th>weight</th>\n",
       "      <th>sport</th>\n",
       "      <th>gold</th>\n",
       "      <th>silver</th>\n",
       "      <th>bronze</th>\n",
       "    </tr>\n",
       "  </thead>\n",
       "  <tbody>\n",
       "    <tr>\n",
       "      <th>0</th>\n",
       "      <td>736041664</td>\n",
       "      <td>A Jesus Garcia</td>\n",
       "      <td>ESP</td>\n",
       "      <td>male</td>\n",
       "      <td>10/17/69</td>\n",
       "      <td>1.72</td>\n",
       "      <td>64.0</td>\n",
       "      <td>athletics</td>\n",
       "      <td>0</td>\n",
       "      <td>0</td>\n",
       "      <td>0</td>\n",
       "    </tr>\n",
       "    <tr>\n",
       "      <th>1</th>\n",
       "      <td>532037425</td>\n",
       "      <td>A Lam Shin</td>\n",
       "      <td>KOR</td>\n",
       "      <td>female</td>\n",
       "      <td>9/23/86</td>\n",
       "      <td>1.68</td>\n",
       "      <td>56.0</td>\n",
       "      <td>fencing</td>\n",
       "      <td>0</td>\n",
       "      <td>0</td>\n",
       "      <td>0</td>\n",
       "    </tr>\n",
       "    <tr>\n",
       "      <th>2</th>\n",
       "      <td>435962603</td>\n",
       "      <td>Aaron Brown</td>\n",
       "      <td>CAN</td>\n",
       "      <td>male</td>\n",
       "      <td>5/27/92</td>\n",
       "      <td>1.98</td>\n",
       "      <td>79.0</td>\n",
       "      <td>athletics</td>\n",
       "      <td>0</td>\n",
       "      <td>0</td>\n",
       "      <td>1</td>\n",
       "    </tr>\n",
       "    <tr>\n",
       "      <th>3</th>\n",
       "      <td>521041435</td>\n",
       "      <td>Aaron Cook</td>\n",
       "      <td>MDA</td>\n",
       "      <td>male</td>\n",
       "      <td>1/2/91</td>\n",
       "      <td>1.83</td>\n",
       "      <td>80.0</td>\n",
       "      <td>taekwondo</td>\n",
       "      <td>0</td>\n",
       "      <td>0</td>\n",
       "      <td>0</td>\n",
       "    </tr>\n",
       "    <tr>\n",
       "      <th>4</th>\n",
       "      <td>33922579</td>\n",
       "      <td>Aaron Gate</td>\n",
       "      <td>NZL</td>\n",
       "      <td>male</td>\n",
       "      <td>11/26/90</td>\n",
       "      <td>1.81</td>\n",
       "      <td>71.0</td>\n",
       "      <td>cycling</td>\n",
       "      <td>0</td>\n",
       "      <td>0</td>\n",
       "      <td>0</td>\n",
       "    </tr>\n",
       "  </tbody>\n",
       "</table>\n",
       "</div>"
      ],
      "text/plain": [
       "          id            name nationality     sex       dob  height  weight  \\\n",
       "0  736041664  A Jesus Garcia         ESP    male  10/17/69    1.72    64.0   \n",
       "1  532037425      A Lam Shin         KOR  female   9/23/86    1.68    56.0   \n",
       "2  435962603     Aaron Brown         CAN    male   5/27/92    1.98    79.0   \n",
       "3  521041435      Aaron Cook         MDA    male    1/2/91    1.83    80.0   \n",
       "4   33922579      Aaron Gate         NZL    male  11/26/90    1.81    71.0   \n",
       "\n",
       "       sport  gold  silver  bronze  \n",
       "0  athletics     0       0       0  \n",
       "1    fencing     0       0       0  \n",
       "2  athletics     0       0       1  \n",
       "3  taekwondo     0       0       0  \n",
       "4    cycling     0       0       0  "
      ]
     },
     "execution_count": 5,
     "metadata": {},
     "output_type": "execute_result"
    }
   ],
   "source": [
    "data.head()"
   ]
  },
  {
   "cell_type": "code",
   "execution_count": 6,
   "id": "07d15b75-6ccc-417e-b08d-149273f1b134",
   "metadata": {
    "tags": []
   },
   "outputs": [
    {
     "name": "stdout",
     "output_type": "stream",
     "text": [
      "<class 'pandas.core.frame.DataFrame'>\n",
      "RangeIndex: 11538 entries, 0 to 11537\n",
      "Data columns (total 11 columns):\n",
      " #   Column       Non-Null Count  Dtype  \n",
      "---  ------       --------------  -----  \n",
      " 0   id           11538 non-null  int64  \n",
      " 1   name         11538 non-null  object \n",
      " 2   nationality  11538 non-null  object \n",
      " 3   sex          11538 non-null  object \n",
      " 4   dob          11537 non-null  object \n",
      " 5   height       11208 non-null  float64\n",
      " 6   weight       10879 non-null  float64\n",
      " 7   sport        11538 non-null  object \n",
      " 8   gold         11538 non-null  int64  \n",
      " 9   silver       11538 non-null  int64  \n",
      " 10  bronze       11538 non-null  int64  \n",
      "dtypes: float64(2), int64(4), object(5)\n",
      "memory usage: 991.7+ KB\n"
     ]
    }
   ],
   "source": [
    "data.info()"
   ]
  },
  {
   "cell_type": "code",
   "execution_count": 7,
   "id": "fbeec284-b32c-4225-a352-ed723704c0de",
   "metadata": {
    "tags": []
   },
   "outputs": [],
   "source": [
    "# удаляем строки с нулевыми значениями\n",
    "for i in ['dob','height','weight']:\n",
    "    data=data[~(data[i].isna())]"
   ]
  },
  {
   "cell_type": "code",
   "execution_count": 8,
   "id": "7e916082-34fe-4be9-94af-a8b7307e8d24",
   "metadata": {
    "tags": []
   },
   "outputs": [],
   "source": [
    "data = data.reset_index(drop=True)"
   ]
  },
  {
   "cell_type": "markdown",
   "id": "bfe72079-fb9a-43e1-9d9a-b405634ce5f3",
   "metadata": {},
   "source": [
    "Проверим категориальные переменные на наличие значений типа '?' и т.д."
   ]
  },
  {
   "cell_type": "code",
   "execution_count": 9,
   "id": "b6b4a53f-0cc2-46ed-8829-4b674bc49491",
   "metadata": {
    "tags": []
   },
   "outputs": [
    {
     "data": {
      "text/plain": [
       "array(['ESP', 'KOR', 'CAN', 'MDA', 'NZL', 'AUS', 'USA', 'ETH', 'BRN',\n",
       "       'GBR', 'UZB', 'RSA', 'EGY', 'MAR', 'QAT', 'SUD', 'ALG', 'DEN',\n",
       "       'NED', 'DJI', 'SEN', 'CMR', 'NIG', 'SWE', 'AFG', 'KSA', 'IOA',\n",
       "       'RUS', 'IND', 'HUN', 'BDI', 'ERI', 'POL', 'BRA', 'GEO', 'CZE',\n",
       "       'SEY', 'LTU', 'IRI', 'ROU', 'CUB', 'SLO', 'BAH', 'ITA', 'ARG',\n",
       "       'PUR', 'FRA', 'RWA', 'TOG', 'TUN', 'ISR', 'NGR', 'LAT', 'JOR',\n",
       "       'MAS', 'LIB', 'IRQ', 'TUR', 'VEN', 'JPN', 'TPE', 'KGZ', 'CHN',\n",
       "       'MEX', 'GRE', 'IRL', 'KAZ', 'JAM', 'SUI', 'BAR', 'HON', 'ANG',\n",
       "       'GER', 'COL', 'URU', 'AZE', 'MNE', 'SRB', 'BUL', 'FIN', 'UKR',\n",
       "       'BLR', 'SMR', 'COK', 'AUT', 'BEL', 'SVK', 'POR', 'KEN', 'ECU',\n",
       "       'LBA', 'UAE', 'NAM', 'GUY', 'EST', 'SKN', 'ARU', 'PAN', 'PER',\n",
       "       'FIJ', 'GUI', 'ARM', 'THA', 'SIN', 'TKM', 'CRO', 'BIH', 'TGA',\n",
       "       'MAW', 'DOM', 'GUA', 'MKD', 'TJK', 'CYP', 'CHI', 'MLT', 'ZIM',\n",
       "       'TTO', 'TAN', 'CRC', 'BOL', 'BUR', 'ISL', 'HAI', 'ROT', 'MGL',\n",
       "       'MAD', 'GAB', 'SRI', 'LAO', 'MRI', 'PAR', 'IVB', 'GBS', 'SYR',\n",
       "       'NOR', 'CHA', 'OMA', 'CIV', 'GEQ', 'GUM', 'ASA', 'BIZ', 'SAM',\n",
       "       'VIN', 'MON', 'ALB', 'STP', 'BER', 'HKG', 'CGO', 'ANT', 'BEN',\n",
       "       'LUX', 'CAF', 'PRK', 'GHA', 'LIE', 'MHL', 'NCA', 'KIR', 'INA',\n",
       "       'FSM', 'COM', 'PLW', 'MLI', 'ISV', 'NRU', 'CPV', 'ESA', 'PHI',\n",
       "       'AND', 'TUV', 'CAY', 'NEP', 'BOT', 'ZAM', 'PAK', 'SSD', 'MTN',\n",
       "       'VIE', 'MOZ', 'BRU', 'LCA', 'SOL', 'VAN', 'BHU', 'CAM', 'GRN',\n",
       "       'KOS', 'PNG', 'PLE', 'YEM', 'LES', 'MYA', 'SWZ', 'SUR', 'COD',\n",
       "       'BAN', 'DMA'], dtype=object)"
      ]
     },
     "execution_count": 9,
     "metadata": {},
     "output_type": "execute_result"
    }
   ],
   "source": [
    "data.nationality.unique()"
   ]
  },
  {
   "cell_type": "code",
   "execution_count": 10,
   "id": "72ccf6c1-3961-493c-9171-bd3566aba80d",
   "metadata": {
    "tags": []
   },
   "outputs": [
    {
     "data": {
      "text/plain": [
       "array(['male', 'female'], dtype=object)"
      ]
     },
     "execution_count": 10,
     "metadata": {},
     "output_type": "execute_result"
    }
   ],
   "source": [
    "data.sex.unique()"
   ]
  },
  {
   "cell_type": "code",
   "execution_count": 11,
   "id": "0f1ba48a-5919-4952-b7f2-51cddd96d505",
   "metadata": {
    "tags": []
   },
   "outputs": [
    {
     "data": {
      "text/plain": [
       "array(['athletics', 'fencing', 'taekwondo', 'cycling', 'triathlon',\n",
       "       'volleyball', 'aquatics', 'rugby sevens', 'wrestling', 'football',\n",
       "       'shooting', 'equestrian', 'rowing', 'judo', 'handball',\n",
       "       'badminton', 'hockey', 'modern pentathlon', 'table tennis',\n",
       "       'canoe', 'basketball', 'golf', 'archery', 'weightlifting',\n",
       "       'sailing', 'tennis', 'gymnastics'], dtype=object)"
      ]
     },
     "execution_count": 11,
     "metadata": {},
     "output_type": "execute_result"
    }
   ],
   "source": [
    "data.sport.unique()"
   ]
  },
  {
   "cell_type": "markdown",
   "id": "1386eb62-e305-49bb-86e3-f9d39ba2fa7b",
   "metadata": {},
   "source": [
    "### **Сформулируем задачу:**\n",
    "**Научить модель определять по всем признакам кроме *id, name* получил или получит ли атлет медаль.** <br>\n",
    "Колонку с датой рождения \n",
    "разобъём на несколько: месяц, день и год рождения. При этом год рождения может быть в 20 веке или в 21 веке, что учтём при \n",
    "выставлении финального года. Колонки с id и с name удалим из рассмотрения и добавим колонку с результатом 1, \n",
    "если была ли какая-либо медаль, и 0, если медали не было. "
   ]
  },
  {
   "cell_type": "markdown",
   "id": "78e7a940-3b85-448f-b0ce-ae0f48505d1b",
   "metadata": {},
   "source": [
    "Причина удаления колонок id, name: значения по ним или все уникальны (id) или более 99% (name) уникальны."
   ]
  },
  {
   "cell_type": "code",
   "execution_count": 12,
   "id": "76cf85ef-67cb-4809-8d09-5de4b1a5a1a4",
   "metadata": {
    "tags": []
   },
   "outputs": [
    {
     "data": {
      "text/plain": [
       "99.83422361392522"
      ]
     },
     "execution_count": 12,
     "metadata": {},
     "output_type": "execute_result"
    }
   ],
   "source": [
    "data.name.nunique()/data.shape[0]*100"
   ]
  },
  {
   "cell_type": "code",
   "execution_count": 13,
   "id": "2b5263d7-4dce-4cfe-99c6-ce177f06d18b",
   "metadata": {
    "tags": []
   },
   "outputs": [
    {
     "data": {
      "text/plain": [
       "100.0"
      ]
     },
     "execution_count": 13,
     "metadata": {},
     "output_type": "execute_result"
    }
   ],
   "source": [
    "data.id.nunique()/data.shape[0]*100"
   ]
  },
  {
   "cell_type": "code",
   "execution_count": 14,
   "id": "e2a3a4ae-6a54-47df-9fcd-636e3bc112c4",
   "metadata": {
    "tags": []
   },
   "outputs": [],
   "source": [
    "data = data.iloc[:,2:] # отсекли id, name columns"
   ]
  },
  {
   "cell_type": "code",
   "execution_count": 15,
   "id": "653d1fae-d02d-4cae-9a80-3e96fda09380",
   "metadata": {
    "tags": []
   },
   "outputs": [],
   "source": [
    "data['medal']=0"
   ]
  },
  {
   "cell_type": "code",
   "execution_count": 16,
   "id": "a68debb4-88bf-4f12-9e39-71ea55682c88",
   "metadata": {
    "tags": []
   },
   "outputs": [],
   "source": [
    "data.loc[data.gold+data.silver+data.bronze>0, 'medal']=1 # 1 is assigned if any medal was received"
   ]
  },
  {
   "cell_type": "code",
   "execution_count": 17,
   "id": "8922e99c-d29d-4cb7-8321-ea3bb3f5cfc8",
   "metadata": {
    "tags": []
   },
   "outputs": [],
   "source": [
    "# разбили dob на отдельные колонки и перевели в формат int\n",
    "data[['month', 'day', 'year']]=pd.DataFrame(data['dob'].str.split('/', expand=True).values.astype('int'),\n",
    "             columns=['month', 'day', 'year'])"
   ]
  },
  {
   "cell_type": "code",
   "execution_count": 18,
   "id": "5c6e6bde-4470-480a-88ca-bb4c6effeb12",
   "metadata": {
    "tags": []
   },
   "outputs": [],
   "source": [
    "# Установили корректные числа для колонки year\n",
    "data.year = data.year + 1900\n",
    "data.loc[data.year<1924, 'year']=data.year+100"
   ]
  },
  {
   "cell_type": "code",
   "execution_count": 19,
   "id": "1c03114e-e154-4b4c-9288-35bb12e5c602",
   "metadata": {
    "tags": []
   },
   "outputs": [],
   "source": [
    "# удаляем ненужные для модели столбцы\n",
    "del data['dob'], data['gold'],data['silver'],data['bronze']"
   ]
  },
  {
   "cell_type": "code",
   "execution_count": 20,
   "id": "b4773fab-cfc5-48c0-9a6b-ff9f846bd0d9",
   "metadata": {
    "tags": []
   },
   "outputs": [
    {
     "data": {
      "text/html": [
       "<div>\n",
       "<style scoped>\n",
       "    .dataframe tbody tr th:only-of-type {\n",
       "        vertical-align: middle;\n",
       "    }\n",
       "\n",
       "    .dataframe tbody tr th {\n",
       "        vertical-align: top;\n",
       "    }\n",
       "\n",
       "    .dataframe thead th {\n",
       "        text-align: right;\n",
       "    }\n",
       "</style>\n",
       "<table border=\"1\" class=\"dataframe\">\n",
       "  <thead>\n",
       "    <tr style=\"text-align: right;\">\n",
       "      <th></th>\n",
       "      <th>nationality</th>\n",
       "      <th>sex</th>\n",
       "      <th>height</th>\n",
       "      <th>weight</th>\n",
       "      <th>sport</th>\n",
       "      <th>medal</th>\n",
       "      <th>month</th>\n",
       "      <th>day</th>\n",
       "      <th>year</th>\n",
       "    </tr>\n",
       "  </thead>\n",
       "  <tbody>\n",
       "    <tr>\n",
       "      <th>0</th>\n",
       "      <td>ESP</td>\n",
       "      <td>male</td>\n",
       "      <td>1.72</td>\n",
       "      <td>64.0</td>\n",
       "      <td>athletics</td>\n",
       "      <td>0</td>\n",
       "      <td>10</td>\n",
       "      <td>17</td>\n",
       "      <td>1969</td>\n",
       "    </tr>\n",
       "    <tr>\n",
       "      <th>1</th>\n",
       "      <td>KOR</td>\n",
       "      <td>female</td>\n",
       "      <td>1.68</td>\n",
       "      <td>56.0</td>\n",
       "      <td>fencing</td>\n",
       "      <td>0</td>\n",
       "      <td>9</td>\n",
       "      <td>23</td>\n",
       "      <td>1986</td>\n",
       "    </tr>\n",
       "    <tr>\n",
       "      <th>2</th>\n",
       "      <td>CAN</td>\n",
       "      <td>male</td>\n",
       "      <td>1.98</td>\n",
       "      <td>79.0</td>\n",
       "      <td>athletics</td>\n",
       "      <td>1</td>\n",
       "      <td>5</td>\n",
       "      <td>27</td>\n",
       "      <td>1992</td>\n",
       "    </tr>\n",
       "    <tr>\n",
       "      <th>3</th>\n",
       "      <td>MDA</td>\n",
       "      <td>male</td>\n",
       "      <td>1.83</td>\n",
       "      <td>80.0</td>\n",
       "      <td>taekwondo</td>\n",
       "      <td>0</td>\n",
       "      <td>1</td>\n",
       "      <td>2</td>\n",
       "      <td>1991</td>\n",
       "    </tr>\n",
       "    <tr>\n",
       "      <th>4</th>\n",
       "      <td>NZL</td>\n",
       "      <td>male</td>\n",
       "      <td>1.81</td>\n",
       "      <td>71.0</td>\n",
       "      <td>cycling</td>\n",
       "      <td>0</td>\n",
       "      <td>11</td>\n",
       "      <td>26</td>\n",
       "      <td>1990</td>\n",
       "    </tr>\n",
       "  </tbody>\n",
       "</table>\n",
       "</div>"
      ],
      "text/plain": [
       "  nationality     sex  height  weight      sport  medal  month  day  year\n",
       "0         ESP    male    1.72    64.0  athletics      0     10   17  1969\n",
       "1         KOR  female    1.68    56.0    fencing      0      9   23  1986\n",
       "2         CAN    male    1.98    79.0  athletics      1      5   27  1992\n",
       "3         MDA    male    1.83    80.0  taekwondo      0      1    2  1991\n",
       "4         NZL    male    1.81    71.0    cycling      0     11   26  1990"
      ]
     },
     "execution_count": 20,
     "metadata": {},
     "output_type": "execute_result"
    }
   ],
   "source": [
    "data.head()"
   ]
  },
  {
   "cell_type": "markdown",
   "id": "2f67ebcc-1f43-4b93-8e59-8c01a20b851e",
   "metadata": {},
   "source": [
    "### Проанализируем данные:"
   ]
  },
  {
   "cell_type": "code",
   "execution_count": 21,
   "id": "ccadec91-f395-4d10-8f65-0582634af89d",
   "metadata": {
    "tags": []
   },
   "outputs": [
    {
     "data": {
      "text/plain": [
       "medal\n",
       "0    0.838552\n",
       "1    0.161448\n",
       "Name: proportion, dtype: float64"
      ]
     },
     "execution_count": 21,
     "metadata": {},
     "output_type": "execute_result"
    }
   ],
   "source": [
    "data.medal.value_counts(normalize=True) # проверка сбалансированности классов"
   ]
  },
  {
   "cell_type": "markdown",
   "id": "5cff80b7-d899-4de2-95bf-d09548a364f4",
   "metadata": {},
   "source": [
    "Вывод: классы несбалансированные"
   ]
  },
  {
   "cell_type": "code",
   "execution_count": 22,
   "id": "42b69b66-f866-4866-99c7-419d2bcc4e82",
   "metadata": {
    "tags": []
   },
   "outputs": [
    {
     "data": {
      "text/html": [
       "<div>\n",
       "<style scoped>\n",
       "    .dataframe tbody tr th:only-of-type {\n",
       "        vertical-align: middle;\n",
       "    }\n",
       "\n",
       "    .dataframe tbody tr th {\n",
       "        vertical-align: top;\n",
       "    }\n",
       "\n",
       "    .dataframe thead th {\n",
       "        text-align: right;\n",
       "    }\n",
       "</style>\n",
       "<table border=\"1\" class=\"dataframe\">\n",
       "  <thead>\n",
       "    <tr style=\"text-align: right;\">\n",
       "      <th></th>\n",
       "      <th>height</th>\n",
       "      <th>weight</th>\n",
       "      <th>year</th>\n",
       "    </tr>\n",
       "    <tr>\n",
       "      <th>medal</th>\n",
       "      <th></th>\n",
       "      <th></th>\n",
       "      <th></th>\n",
       "    </tr>\n",
       "  </thead>\n",
       "  <tbody>\n",
       "    <tr>\n",
       "      <th>0</th>\n",
       "      <td>1.763012</td>\n",
       "      <td>71.574300</td>\n",
       "      <td>1989.226579</td>\n",
       "    </tr>\n",
       "    <tr>\n",
       "      <th>1</th>\n",
       "      <td>1.787359</td>\n",
       "      <td>74.650314</td>\n",
       "      <td>1989.071877</td>\n",
       "    </tr>\n",
       "  </tbody>\n",
       "</table>\n",
       "</div>"
      ],
      "text/plain": [
       "         height     weight         year\n",
       "medal                                  \n",
       "0      1.763012  71.574300  1989.226579\n",
       "1      1.787359  74.650314  1989.071877"
      ]
     },
     "execution_count": 22,
     "metadata": {},
     "output_type": "execute_result"
    }
   ],
   "source": [
    "data.groupby('medal').agg({'height':'mean','weight':'mean','year':'mean'})"
   ]
  },
  {
   "cell_type": "markdown",
   "id": "e269f1d9-c64b-42ab-bebe-3b155399797a",
   "metadata": {},
   "source": [
    "Выводы:<br>\n",
    "    1. Медалисты чуть выше и массивнее.<br>\n",
    "    2. Год рождения примерно одинаковый как для медалистов, так и для не медалистов."
   ]
  },
  {
   "cell_type": "code",
   "execution_count": 23,
   "id": "f6cb087f-cc16-40bf-b2d6-d9c3b9ab219b",
   "metadata": {
    "tags": []
   },
   "outputs": [
    {
     "data": {
      "image/png": "[encoded data removed]",
      "text/plain": [
       "<Figure size 1000x600 with 1 Axes>"
      ]
     },
     "metadata": {},
     "output_type": "display_data"
    }
   ],
   "source": [
    "sns.countplot(x = data['sport'], hue=data.medal)\n",
    "plt.xticks(rotation=45, ha='right')\n",
    "plt.show()"
   ]
  },
  {
   "cell_type": "markdown",
   "id": "b89ed251-93c9-43a6-ab3b-f037ff9a7b5f",
   "metadata": {
    "tags": []
   },
   "source": [
    "#### Наблюдение: В 2 видах спорта особенно много спортсменов и полученных медалей (athletics, aquatics)"
   ]
  },
  {
   "cell_type": "code",
   "execution_count": 24,
   "id": "38c7f608-d300-4e00-8e19-2e7ba1dba58e",
   "metadata": {
    "tags": []
   },
   "outputs": [
    {
     "data": {
      "image/png": "[encoded data removed]",
      "text/plain": [
       "<Figure size 1000x600 with 1 Axes>"
      ]
     },
     "metadata": {},
     "output_type": "display_data"
    }
   ],
   "source": [
    "pd.crosstab(data.sex,data.medal).plot(kind='bar')\n",
    "plt.xticks(rotation=45, ha='right')\n",
    "plt.show()"
   ]
  },
  {
   "cell_type": "markdown",
   "id": "26cb48f7-6351-41dc-b32e-62aa0d4443f7",
   "metadata": {},
   "source": [
    "##### Мужчин было немного больше в выборке чем женщин как и заработанных ими медалей."
   ]
  },
  {
   "cell_type": "markdown",
   "id": "377d9f4d-ae59-40c6-9769-614feb408eed",
   "metadata": {},
   "source": [
    "#### Финальная подготовка данных:"
   ]
  },
  {
   "cell_type": "code",
   "execution_count": 25,
   "id": "5202ad07-9507-45fa-ad11-24ddb3d26387",
   "metadata": {
    "tags": []
   },
   "outputs": [],
   "source": [
    "y = pd.Series(data = data.medal) "
   ]
  },
  {
   "cell_type": "code",
   "execution_count": 26,
   "id": "1dbd8d27-8f6c-4908-9690-180a4b9dae17",
   "metadata": {
    "tags": []
   },
   "outputs": [],
   "source": [
    "selected_columns = data[['nationality', 'sex', 'height', 'weight', 'sport', 'month', 'day','year']]"
   ]
  },
  {
   "cell_type": "code",
   "execution_count": 27,
   "id": "7c7d8c01-6784-46e4-bed6-229b8b941c36",
   "metadata": {
    "tags": []
   },
   "outputs": [],
   "source": [
    "nominal_attributes = ['nationality', 'sex', 'sport']"
   ]
  },
  {
   "cell_type": "code",
   "execution_count": 28,
   "id": "5dba4078-6b41-409b-b221-b358b1b43c88",
   "metadata": {
    "tags": []
   },
   "outputs": [],
   "source": [
    "X = pd.get_dummies(selected_columns, columns=nominal_attributes, drop_first=True, dtype = int)"
   ]
  },
  {
   "cell_type": "code",
   "execution_count": 29,
   "id": "782499a3-328a-49c1-bc3d-d60457f40754",
   "metadata": {
    "tags": []
   },
   "outputs": [
    {
     "data": {
      "text/html": [
       "<div>\n",
       "<style scoped>\n",
       "    .dataframe tbody tr th:only-of-type {\n",
       "        vertical-align: middle;\n",
       "    }\n",
       "\n",
       "    .dataframe tbody tr th {\n",
       "        vertical-align: top;\n",
       "    }\n",
       "\n",
       "    .dataframe thead th {\n",
       "        text-align: right;\n",
       "    }\n",
       "</style>\n",
       "<table border=\"1\" class=\"dataframe\">\n",
       "  <thead>\n",
       "    <tr style=\"text-align: right;\">\n",
       "      <th></th>\n",
       "      <th>height</th>\n",
       "      <th>weight</th>\n",
       "      <th>month</th>\n",
       "      <th>day</th>\n",
       "      <th>year</th>\n",
       "      <th>nationality_ALB</th>\n",
       "      <th>nationality_ALG</th>\n",
       "      <th>nationality_AND</th>\n",
       "      <th>nationality_ANG</th>\n",
       "      <th>nationality_ANT</th>\n",
       "      <th>...</th>\n",
       "      <th>sport_rugby sevens</th>\n",
       "      <th>sport_sailing</th>\n",
       "      <th>sport_shooting</th>\n",
       "      <th>sport_table tennis</th>\n",
       "      <th>sport_taekwondo</th>\n",
       "      <th>sport_tennis</th>\n",
       "      <th>sport_triathlon</th>\n",
       "      <th>sport_volleyball</th>\n",
       "      <th>sport_weightlifting</th>\n",
       "      <th>sport_wrestling</th>\n",
       "    </tr>\n",
       "  </thead>\n",
       "  <tbody>\n",
       "    <tr>\n",
       "      <th>0</th>\n",
       "      <td>1.72</td>\n",
       "      <td>64.0</td>\n",
       "      <td>10</td>\n",
       "      <td>17</td>\n",
       "      <td>1969</td>\n",
       "      <td>0</td>\n",
       "      <td>0</td>\n",
       "      <td>0</td>\n",
       "      <td>0</td>\n",
       "      <td>0</td>\n",
       "      <td>...</td>\n",
       "      <td>0</td>\n",
       "      <td>0</td>\n",
       "      <td>0</td>\n",
       "      <td>0</td>\n",
       "      <td>0</td>\n",
       "      <td>0</td>\n",
       "      <td>0</td>\n",
       "      <td>0</td>\n",
       "      <td>0</td>\n",
       "      <td>0</td>\n",
       "    </tr>\n",
       "    <tr>\n",
       "      <th>1</th>\n",
       "      <td>1.68</td>\n",
       "      <td>56.0</td>\n",
       "      <td>9</td>\n",
       "      <td>23</td>\n",
       "      <td>1986</td>\n",
       "      <td>0</td>\n",
       "      <td>0</td>\n",
       "      <td>0</td>\n",
       "      <td>0</td>\n",
       "      <td>0</td>\n",
       "      <td>...</td>\n",
       "      <td>0</td>\n",
       "      <td>0</td>\n",
       "      <td>0</td>\n",
       "      <td>0</td>\n",
       "      <td>0</td>\n",
       "      <td>0</td>\n",
       "      <td>0</td>\n",
       "      <td>0</td>\n",
       "      <td>0</td>\n",
       "      <td>0</td>\n",
       "    </tr>\n",
       "    <tr>\n",
       "      <th>2</th>\n",
       "      <td>1.98</td>\n",
       "      <td>79.0</td>\n",
       "      <td>5</td>\n",
       "      <td>27</td>\n",
       "      <td>1992</td>\n",
       "      <td>0</td>\n",
       "      <td>0</td>\n",
       "      <td>0</td>\n",
       "      <td>0</td>\n",
       "      <td>0</td>\n",
       "      <td>...</td>\n",
       "      <td>0</td>\n",
       "      <td>0</td>\n",
       "      <td>0</td>\n",
       "      <td>0</td>\n",
       "      <td>0</td>\n",
       "      <td>0</td>\n",
       "      <td>0</td>\n",
       "      <td>0</td>\n",
       "      <td>0</td>\n",
       "      <td>0</td>\n",
       "    </tr>\n",
       "    <tr>\n",
       "      <th>3</th>\n",
       "      <td>1.83</td>\n",
       "      <td>80.0</td>\n",
       "      <td>1</td>\n",
       "      <td>2</td>\n",
       "      <td>1991</td>\n",
       "      <td>0</td>\n",
       "      <td>0</td>\n",
       "      <td>0</td>\n",
       "      <td>0</td>\n",
       "      <td>0</td>\n",
       "      <td>...</td>\n",
       "      <td>0</td>\n",
       "      <td>0</td>\n",
       "      <td>0</td>\n",
       "      <td>0</td>\n",
       "      <td>1</td>\n",
       "      <td>0</td>\n",
       "      <td>0</td>\n",
       "      <td>0</td>\n",
       "      <td>0</td>\n",
       "      <td>0</td>\n",
       "    </tr>\n",
       "    <tr>\n",
       "      <th>4</th>\n",
       "      <td>1.81</td>\n",
       "      <td>71.0</td>\n",
       "      <td>11</td>\n",
       "      <td>26</td>\n",
       "      <td>1990</td>\n",
       "      <td>0</td>\n",
       "      <td>0</td>\n",
       "      <td>0</td>\n",
       "      <td>0</td>\n",
       "      <td>0</td>\n",
       "      <td>...</td>\n",
       "      <td>0</td>\n",
       "      <td>0</td>\n",
       "      <td>0</td>\n",
       "      <td>0</td>\n",
       "      <td>0</td>\n",
       "      <td>0</td>\n",
       "      <td>0</td>\n",
       "      <td>0</td>\n",
       "      <td>0</td>\n",
       "      <td>0</td>\n",
       "    </tr>\n",
       "    <tr>\n",
       "      <th>...</th>\n",
       "      <td>...</td>\n",
       "      <td>...</td>\n",
       "      <td>...</td>\n",
       "      <td>...</td>\n",
       "      <td>...</td>\n",
       "      <td>...</td>\n",
       "      <td>...</td>\n",
       "      <td>...</td>\n",
       "      <td>...</td>\n",
       "      <td>...</td>\n",
       "      <td>...</td>\n",
       "      <td>...</td>\n",
       "      <td>...</td>\n",
       "      <td>...</td>\n",
       "      <td>...</td>\n",
       "      <td>...</td>\n",
       "      <td>...</td>\n",
       "      <td>...</td>\n",
       "      <td>...</td>\n",
       "      <td>...</td>\n",
       "      <td>...</td>\n",
       "    </tr>\n",
       "    <tr>\n",
       "      <th>10853</th>\n",
       "      <td>1.64</td>\n",
       "      <td>58.0</td>\n",
       "      <td>8</td>\n",
       "      <td>10</td>\n",
       "      <td>1995</td>\n",
       "      <td>0</td>\n",
       "      <td>0</td>\n",
       "      <td>0</td>\n",
       "      <td>0</td>\n",
       "      <td>0</td>\n",
       "      <td>...</td>\n",
       "      <td>0</td>\n",
       "      <td>0</td>\n",
       "      <td>0</td>\n",
       "      <td>0</td>\n",
       "      <td>0</td>\n",
       "      <td>0</td>\n",
       "      <td>0</td>\n",
       "      <td>0</td>\n",
       "      <td>0</td>\n",
       "      <td>0</td>\n",
       "    </tr>\n",
       "    <tr>\n",
       "      <th>10854</th>\n",
       "      <td>1.73</td>\n",
       "      <td>63.0</td>\n",
       "      <td>12</td>\n",
       "      <td>19</td>\n",
       "      <td>1986</td>\n",
       "      <td>0</td>\n",
       "      <td>0</td>\n",
       "      <td>0</td>\n",
       "      <td>0</td>\n",
       "      <td>0</td>\n",
       "      <td>...</td>\n",
       "      <td>0</td>\n",
       "      <td>0</td>\n",
       "      <td>0</td>\n",
       "      <td>0</td>\n",
       "      <td>0</td>\n",
       "      <td>0</td>\n",
       "      <td>0</td>\n",
       "      <td>0</td>\n",
       "      <td>0</td>\n",
       "      <td>0</td>\n",
       "    </tr>\n",
       "    <tr>\n",
       "      <th>10855</th>\n",
       "      <td>1.85</td>\n",
       "      <td>100.0</td>\n",
       "      <td>5</td>\n",
       "      <td>14</td>\n",
       "      <td>1991</td>\n",
       "      <td>0</td>\n",
       "      <td>0</td>\n",
       "      <td>0</td>\n",
       "      <td>0</td>\n",
       "      <td>0</td>\n",
       "      <td>...</td>\n",
       "      <td>0</td>\n",
       "      <td>0</td>\n",
       "      <td>0</td>\n",
       "      <td>0</td>\n",
       "      <td>0</td>\n",
       "      <td>0</td>\n",
       "      <td>0</td>\n",
       "      <td>0</td>\n",
       "      <td>0</td>\n",
       "      <td>1</td>\n",
       "    </tr>\n",
       "    <tr>\n",
       "      <th>10856</th>\n",
       "      <td>1.60</td>\n",
       "      <td>56.0</td>\n",
       "      <td>4</td>\n",
       "      <td>5</td>\n",
       "      <td>1989</td>\n",
       "      <td>0</td>\n",
       "      <td>0</td>\n",
       "      <td>0</td>\n",
       "      <td>0</td>\n",
       "      <td>0</td>\n",
       "      <td>...</td>\n",
       "      <td>0</td>\n",
       "      <td>0</td>\n",
       "      <td>0</td>\n",
       "      <td>0</td>\n",
       "      <td>0</td>\n",
       "      <td>0</td>\n",
       "      <td>0</td>\n",
       "      <td>0</td>\n",
       "      <td>1</td>\n",
       "      <td>0</td>\n",
       "    </tr>\n",
       "    <tr>\n",
       "      <th>10857</th>\n",
       "      <td>1.85</td>\n",
       "      <td>70.0</td>\n",
       "      <td>1</td>\n",
       "      <td>6</td>\n",
       "      <td>1992</td>\n",
       "      <td>0</td>\n",
       "      <td>0</td>\n",
       "      <td>0</td>\n",
       "      <td>0</td>\n",
       "      <td>0</td>\n",
       "      <td>...</td>\n",
       "      <td>0</td>\n",
       "      <td>0</td>\n",
       "      <td>0</td>\n",
       "      <td>0</td>\n",
       "      <td>0</td>\n",
       "      <td>0</td>\n",
       "      <td>0</td>\n",
       "      <td>0</td>\n",
       "      <td>0</td>\n",
       "      <td>0</td>\n",
       "    </tr>\n",
       "  </tbody>\n",
       "</table>\n",
       "<p>10858 rows × 231 columns</p>\n",
       "</div>"
      ],
      "text/plain": [
       "       height  weight  month  day  year  nationality_ALB  nationality_ALG  \\\n",
       "0        1.72    64.0     10   17  1969                0                0   \n",
       "1        1.68    56.0      9   23  1986                0                0   \n",
       "2        1.98    79.0      5   27  1992                0                0   \n",
       "3        1.83    80.0      1    2  1991                0                0   \n",
       "4        1.81    71.0     11   26  1990                0                0   \n",
       "...       ...     ...    ...  ...   ...              ...              ...   \n",
       "10853    1.64    58.0      8   10  1995                0                0   \n",
       "10854    1.73    63.0     12   19  1986                0                0   \n",
       "10855    1.85   100.0      5   14  1991                0                0   \n",
       "10856    1.60    56.0      4    5  1989                0                0   \n",
       "10857    1.85    70.0      1    6  1992                0                0   \n",
       "\n",
       "       nationality_AND  nationality_ANG  nationality_ANT  ...  \\\n",
       "0                    0                0                0  ...   \n",
       "1                    0                0                0  ...   \n",
       "2                    0                0                0  ...   \n",
       "3                    0                0                0  ...   \n",
       "4                    0                0                0  ...   \n",
       "...                ...              ...              ...  ...   \n",
       "10853                0                0                0  ...   \n",
       "10854                0                0                0  ...   \n",
       "10855                0                0                0  ...   \n",
       "10856                0                0                0  ...   \n",
       "10857                0                0                0  ...   \n",
       "\n",
       "       sport_rugby sevens  sport_sailing  sport_shooting  sport_table tennis  \\\n",
       "0                       0              0               0                   0   \n",
       "1                       0              0               0                   0   \n",
       "2                       0              0               0                   0   \n",
       "3                       0              0               0                   0   \n",
       "4                       0              0               0                   0   \n",
       "...                   ...            ...             ...                 ...   \n",
       "10853                   0              0               0                   0   \n",
       "10854                   0              0               0                   0   \n",
       "10855                   0              0               0                   0   \n",
       "10856                   0              0               0                   0   \n",
       "10857                   0              0               0                   0   \n",
       "\n",
       "       sport_taekwondo  sport_tennis  sport_triathlon  sport_volleyball  \\\n",
       "0                    0             0                0                 0   \n",
       "1                    0             0                0                 0   \n",
       "2                    0             0                0                 0   \n",
       "3                    1             0                0                 0   \n",
       "4                    0             0                0                 0   \n",
       "...                ...           ...              ...               ...   \n",
       "10853                0             0                0                 0   \n",
       "10854                0             0                0                 0   \n",
       "10855                0             0                0                 0   \n",
       "10856                0             0                0                 0   \n",
       "10857                0             0                0                 0   \n",
       "\n",
       "       sport_weightlifting  sport_wrestling  \n",
       "0                        0                0  \n",
       "1                        0                0  \n",
       "2                        0                0  \n",
       "3                        0                0  \n",
       "4                        0                0  \n",
       "...                    ...              ...  \n",
       "10853                    0                0  \n",
       "10854                    0                0  \n",
       "10855                    0                1  \n",
       "10856                    1                0  \n",
       "10857                    0                0  \n",
       "\n",
       "[10858 rows x 231 columns]"
      ]
     },
     "execution_count": 29,
     "metadata": {},
     "output_type": "execute_result"
    }
   ],
   "source": [
    "X"
   ]
  },
  {
   "cell_type": "markdown",
   "id": "4b53d1e3-2f2a-4c03-86bf-3f99f146621c",
   "metadata": {},
   "source": [
    "## Dataset is ready for applying logistic regression"
   ]
  },
  {
   "cell_type": "code",
   "execution_count": 30,
   "id": "b2f15952-4630-4253-9339-9d0f83253135",
   "metadata": {
    "tags": []
   },
   "outputs": [],
   "source": [
    "model = make_pipeline(\n",
    "    StandardScaler(),\n",
    "    LogisticRegression(max_iter=10000)\n",
    ")"
   ]
  },
  {
   "cell_type": "code",
   "execution_count": 31,
   "id": "9282426e-57a7-45f0-ad6a-35490ead10ec",
   "metadata": {
    "tags": []
   },
   "outputs": [
    {
     "data": {
      "text/plain": [
       "Index([5090, 8713, 4248,  805, 9207, 6460, 2691, 1708, 9114, 6825,\n",
       "       ...\n",
       "       2510, 3149, 9456, 1257, 8653, 8151, 5314,   98, 8240,  717],\n",
       "      dtype='int64', length=3258)"
      ]
     },
     "execution_count": 31,
     "metadata": {},
     "output_type": "execute_result"
    }
   ],
   "source": [
    "X_train, X_test, y_train, y_test = train_test_split(X, y, test_size=0.3, random_state=30)\n",
    "X_test.index"
   ]
  },
  {
   "cell_type": "code",
   "execution_count": 32,
   "id": "1451e9f5-95d5-47fc-be53-e53384b5b6d3",
   "metadata": {
    "tags": []
   },
   "outputs": [],
   "source": [
    "model.fit(X_train, y_train)\n",
    "predictions = model.predict(X_test)"
   ]
  },
  {
   "cell_type": "code",
   "execution_count": 33,
   "id": "f052b91c-835b-44f4-a25a-ee565e51282f",
   "metadata": {
    "tags": []
   },
   "outputs": [
    {
     "data": {
      "text/plain": [
       "array([0, 0, 0, 1, 0, 0, 0, 0, 0, 0], dtype=int64)"
      ]
     },
     "execution_count": 33,
     "metadata": {},
     "output_type": "execute_result"
    }
   ],
   "source": [
    "predictions[:10]"
   ]
  },
  {
   "cell_type": "code",
   "execution_count": 34,
   "id": "df543fb8-4fb4-400f-82cf-5af25acbc14c",
   "metadata": {
    "tags": []
   },
   "outputs": [
    {
     "data": {
      "text/plain": [
       "array([[9.99627915e-01, 3.72085458e-04],\n",
       "       [8.05053817e-01, 1.94946183e-01],\n",
       "       [9.98951557e-01, 1.04844279e-03],\n",
       "       ...,\n",
       "       [9.73434719e-01, 2.65652807e-02],\n",
       "       [9.80893831e-01, 1.91061688e-02],\n",
       "       [7.30745786e-01, 2.69254214e-01]])"
      ]
     },
     "execution_count": 34,
     "metadata": {},
     "output_type": "execute_result"
    }
   ],
   "source": [
    "model.predict_proba(X_test)"
   ]
  },
  {
   "cell_type": "code",
   "execution_count": 35,
   "id": "5e79749d-e115-43a3-aa69-8eb361419580",
   "metadata": {
    "tags": []
   },
   "outputs": [
    {
     "data": {
      "text/plain": [
       "0.8435526315789473"
      ]
     },
     "execution_count": 35,
     "metadata": {},
     "output_type": "execute_result"
    }
   ],
   "source": [
    "model.score(X_train, y_train)"
   ]
  },
  {
   "cell_type": "code",
   "execution_count": 36,
   "id": "48bf13b5-64df-4355-9022-51899526d700",
   "metadata": {
    "tags": []
   },
   "outputs": [
    {
     "data": {
      "text/plain": [
       "0.8400859422958871"
      ]
     },
     "execution_count": 36,
     "metadata": {},
     "output_type": "execute_result"
    }
   ],
   "source": [
    "model.score(X_test, y_test)"
   ]
  },
  {
   "cell_type": "code",
   "execution_count": 37,
   "id": "d5c8be95-ec19-40d2-bf47-78b2a5d27b02",
   "metadata": {
    "tags": []
   },
   "outputs": [],
   "source": [
    "predictions_prob = model.predict_proba(X_test)"
   ]
  },
  {
   "cell_type": "code",
   "execution_count": 38,
   "id": "ebd683e9-d991-4225-b7be-a5abf9b30bb3",
   "metadata": {
    "tags": []
   },
   "outputs": [],
   "source": [
    "# получаем значения false и true positive rate для различных значений порога\n",
    "fpr, tpr, thres = roc_curve(y_test, predictions_prob[:, 1])"
   ]
  },
  {
   "cell_type": "code",
   "execution_count": 39,
   "id": "6ebd4c0a-691e-4243-a5f0-1bafec205769",
   "metadata": {
    "tags": []
   },
   "outputs": [
    {
     "data": {
      "image/png": "[encoded data removed]",
      "text/plain": [
       "<Figure size 1000x600 with 1 Axes>"
      ]
     },
     "metadata": {},
     "output_type": "display_data"
    }
   ],
   "source": [
    "# Построение ROC-кривой с помощью функции sklearn.metrics. roc_curve\n",
    "plt.plot(fpr, tpr, label='library valculation')\n",
    "plt.grid(color='k', linestyle='--', linewidth=0.5)\n",
    "plt.plot([0, 1], [0, 1],'r--')\n",
    "plt.xlim([0.0, 1.05])\n",
    "plt.ylim([0.0, 1.05])\n",
    "plt.xlabel('False Positive Rate')\n",
    "plt.ylabel('True Positive Rate')\n",
    "plt.title('ROC curve')\n",
    "plt.legend(loc=0)\n",
    "plt.show()"
   ]
  },
  {
   "cell_type": "markdown",
   "id": "59fd3854-2861-45be-835f-ab1dc29418fd",
   "metadata": {
    "tags": []
   },
   "source": [
    "#### Подсчет метрик TPR, FPR «вручную», без использования готовых функций из библиотеки sklearn"
   ]
  },
  {
   "cell_type": "markdown",
   "id": "d6450906-9ebe-459b-aaf0-8f2aaf55d9eb",
   "metadata": {},
   "source": [
    "#### Для начала рассчитаем для threshold = 0.5 и сравним с результатами библиотечных функций "
   ]
  },
  {
   "cell_type": "code",
   "execution_count": 40,
   "id": "b6825694-466d-4065-87d4-a98d42c5e134",
   "metadata": {
    "tags": []
   },
   "outputs": [],
   "source": [
    "    tp = 0 # True positive\n",
    "    fp = 0 # False positive\n",
    "    fn = 0 # False negative\n",
    "    tn = 0 # True negative\n",
    "\n",
    "    #predictions = model.predict_proba(X_test)\n",
    "    for predicted_prob, actual in zip(predictions_prob[:, 1], y_test):\n",
    "        if predicted_prob >= 0.5:\n",
    "            predicted = 1\n",
    "        else:\n",
    "            predicted = 0\n",
    "\n",
    "        if predicted == 1:\n",
    "            if actual == 1:\n",
    "                tp += 1\n",
    "            else:\n",
    "                fp += 1\n",
    "\n",
    "        else:\n",
    "            if actual == 1:\n",
    "                fn += 1\n",
    "            else:\n",
    "                tn += 1"
   ]
  },
  {
   "cell_type": "code",
   "execution_count": 41,
   "id": "4b349e5a-9402-4c69-a123-c86c15b9dd50",
   "metadata": {
    "tags": []
   },
   "outputs": [
    {
     "data": {
      "text/plain": [
       "(36, 33, 488, 2701)"
      ]
     },
     "execution_count": 41,
     "metadata": {},
     "output_type": "execute_result"
    }
   ],
   "source": [
    "tp, fp, fn, tn"
   ]
  },
  {
   "cell_type": "code",
   "execution_count": 42,
   "id": "784ef1f7-4a53-46fe-a4bb-0f1661b01c98",
   "metadata": {
    "tags": []
   },
   "outputs": [
    {
     "data": {
      "text/plain": [
       "0.16083486801718846"
      ]
     },
     "execution_count": 42,
     "metadata": {},
     "output_type": "execute_result"
    }
   ],
   "source": [
    "# процент спортсменов в тестовой выборке с медалями\n",
    "y_test.sum()/len(y_test)"
   ]
  },
  {
   "cell_type": "code",
   "execution_count": 43,
   "id": "afb50fd0-5754-4c93-a4a4-9bc932c80176",
   "metadata": {
    "colab": {
     "base_uri": "https://localhost:8080/"
    },
    "id": "QKxFu656kjeQ",
    "outputId": "49f78210-0bd8-400b-967e-38ae4dedc736",
    "tags": []
   },
   "outputs": [
    {
     "data": {
      "text/plain": [
       "0.8400859422958871"
      ]
     },
     "execution_count": 43,
     "metadata": {},
     "output_type": "execute_result"
    }
   ],
   "source": [
    "# какая точность получилась?\n",
    "(tp + tn) / (tp + fp + fn + tn)"
   ]
  },
  {
   "cell_type": "code",
   "execution_count": 44,
   "id": "845a7ecd-5640-4624-aa45-da66e05995be",
   "metadata": {
    "colab": {
     "base_uri": "https://localhost:8080/"
    },
    "id": "dzR0520yg2X1",
    "outputId": "8f5b470f-3066-4198-c51e-ba67c238627b",
    "tags": []
   },
   "outputs": [
    {
     "data": {
      "text/plain": [
       "0.06870229007633588"
      ]
     },
     "execution_count": 44,
     "metadata": {},
     "output_type": "execute_result"
    }
   ],
   "source": [
    "recall = tp / (tp + fn)\n",
    "recall"
   ]
  },
  {
   "cell_type": "code",
   "execution_count": 45,
   "id": "04d0d799-125f-47ae-9037-7bba9a3522bd",
   "metadata": {
    "colab": {
     "base_uri": "https://localhost:8080/"
    },
    "id": "jKc29HiykjeQ",
    "outputId": "03ef8a9f-55fe-4e88-e3da-fcb2ab67e582",
    "tags": []
   },
   "outputs": [
    {
     "data": {
      "text/plain": [
       "0.5217391304347826"
      ]
     },
     "execution_count": 45,
     "metadata": {},
     "output_type": "execute_result"
    }
   ],
   "source": [
    "precision = tp / (tp + fp)\n",
    "precision"
   ]
  },
  {
   "cell_type": "code",
   "execution_count": 46,
   "id": "ac035106-8698-4cd6-9a1e-a8a1c6dd0358",
   "metadata": {
    "tags": []
   },
   "outputs": [],
   "source": [
    "pred = model.predict(X_test)"
   ]
  },
  {
   "cell_type": "code",
   "execution_count": 47,
   "id": "a853adfd-b70c-4b26-8e44-ec2c890bf85c",
   "metadata": {
    "tags": []
   },
   "outputs": [
    {
     "data": {
      "text/plain": [
       "0.06870229007633588"
      ]
     },
     "execution_count": 47,
     "metadata": {},
     "output_type": "execute_result"
    }
   ],
   "source": [
    "recall_score(y_test, pred)"
   ]
  },
  {
   "cell_type": "code",
   "execution_count": 48,
   "id": "e91c2146-4a70-45e1-9c56-d3638e21daf0",
   "metadata": {
    "tags": []
   },
   "outputs": [
    {
     "data": {
      "text/plain": [
       "0.5217391304347826"
      ]
     },
     "execution_count": 48,
     "metadata": {},
     "output_type": "execute_result"
    }
   ],
   "source": [
    "precision_score(y_test, pred)"
   ]
  },
  {
   "cell_type": "markdown",
   "id": "ff9b4124-ac45-413c-afdc-d5351926583a",
   "metadata": {},
   "source": [
    "#### Вывод: В целом, расчёты совпали."
   ]
  },
  {
   "cell_type": "code",
   "execution_count": null,
   "id": "2abefaff-3707-4bdc-bdad-84a05d0f67d8",
   "metadata": {},
   "outputs": [],
   "source": []
  },
  {
   "cell_type": "markdown",
   "id": "4c4ded52-8615-4710-8c15-1943639f02af",
   "metadata": {},
   "source": [
    "### Создадим функцию для последующих расчётов и построения графиков"
   ]
  },
  {
   "cell_type": "code",
   "execution_count": 49,
   "id": "c9cb2bed-f39e-41d4-a243-786ae10c4e9e",
   "metadata": {
    "tags": []
   },
   "outputs": [],
   "source": [
    "def lr_metrics(pred_prob, y_t, threshold):\n",
    "    tp = 0 # True positive\n",
    "    fp = 0 # False positive\n",
    "    fn = 0 # False negative\n",
    "    tn = 0 # True negative\n",
    "\n",
    "    #predictions = model.predict_proba(X_test)\n",
    "    for predicted_prob, actual in zip(pred_prob[:, 1], y_t):\n",
    "        if predicted_prob >= threshold:\n",
    "            predicted = 1\n",
    "        else:\n",
    "            predicted = 0\n",
    "\n",
    "        if predicted == 1:\n",
    "            if actual == 1:\n",
    "                tp += 1\n",
    "            else:\n",
    "                fp += 1\n",
    "\n",
    "        else:\n",
    "            if actual == 1:\n",
    "                fn += 1\n",
    "            else:\n",
    "                tn += 1\n",
    "    return tp, fp, fn, tn"
   ]
  },
  {
   "cell_type": "code",
   "execution_count": 50,
   "id": "0702ba10-b16d-4bd5-9554-73d6110b1580",
   "metadata": {
    "tags": []
   },
   "outputs": [
    {
     "data": {
      "text/plain": [
       "(36, 33, 488, 2701)"
      ]
     },
     "execution_count": 50,
     "metadata": {},
     "output_type": "execute_result"
    }
   ],
   "source": [
    "lr_metrics(predictions_prob, y_test, 0.5)"
   ]
  },
  {
   "cell_type": "markdown",
   "id": "cbf835ea-db92-4bc8-ad31-37f5f2baa4f2",
   "metadata": {},
   "source": [
    "#### Постройте ROC-кривую с помощью вычисленных в п. 5 метрик: объедините графики из п. 3 и п. 6 в один. Сравните, сделайте вывод."
   ]
  },
  {
   "cell_type": "code",
   "execution_count": 51,
   "id": "3d187ebd-2200-442a-84fb-ea82c7d1bd46",
   "metadata": {
    "tags": []
   },
   "outputs": [],
   "source": [
    "# Считаем метрики сами\n",
    "fpr_, tpr_, pre_, r =[],[],[], ()\n",
    "for i in np.linspace(0,1,num=50):\n",
    "    r = lr_metrics(predictions_prob, y_test, i)\n",
    "    fpr_m=r[1]/(r[1]+r[3]) # fp/(fp+tn)\n",
    "    tpr_m=r[0]/(r[0]+r[2]) # tp/(tp+fn) = recall\n",
    "    if (r[0]+r[1])==0:\n",
    "        pre_m=0\n",
    "    else:\n",
    "        pre_m=r[0]/(r[0]+r[1]) #precision = tp / (tp + fp)\n",
    "    pre_.append(pre_m)\n",
    "    fpr_.append(fpr_m)\n",
    "    tpr_.append(tpr_m)"
   ]
  },
  {
   "cell_type": "code",
   "execution_count": 52,
   "id": "537305b9-ce36-4319-aaea-9f28cc4b6c4a",
   "metadata": {
    "tags": []
   },
   "outputs": [
    {
     "data": {
      "image/png": "[encoded data removed]",
      "text/plain": [
       "<Figure size 1000x600 with 1 Axes>"
      ]
     },
     "metadata": {},
     "output_type": "display_data"
    }
   ],
   "source": [
    "plt.plot(fpr_, tpr_, 'k', label = 'own calculation')\n",
    "plt.grid(color='k', linestyle='--', linewidth=0.5)\n",
    "plt.plot([0, 1], [0, 1],'r--')\n",
    "plt.xlim([0.0, 1.05])\n",
    "plt.ylim([0.0, 1.05])\n",
    "plt.xlabel('False Positive Rate')\n",
    "plt.ylabel('True Positive Rate')\n",
    "plt.title('ROC curve')\n",
    "plt.legend(loc=0)\n",
    "plt.show()"
   ]
  },
  {
   "cell_type": "code",
   "execution_count": 53,
   "id": "c674d620-188d-41d8-93db-97a3155efe86",
   "metadata": {
    "tags": []
   },
   "outputs": [
    {
     "data": {
      "image/png": "[encoded data removed]",
      "text/plain": [
       "<Figure size 1000x600 with 1 Axes>"
      ]
     },
     "metadata": {},
     "output_type": "display_data"
    }
   ],
   "source": [
    "plt.plot(fpr_, tpr_, 'k', label ='own calculation')\n",
    "plt.plot(fpr, tpr, 'y-', label ='library calculation')\n",
    "plt.grid(color='k', linestyle='--', linewidth=0.5)\n",
    "plt.plot([0, 1], [0, 1],'r--')\n",
    "plt.xlim([0.0, 1.05])\n",
    "plt.ylim([0.0, 1.05])\n",
    "plt.xlabel('False Positive Rate')\n",
    "plt.ylabel('True Positive Rate')\n",
    "plt.title('ROC curves: library and our variants')\n",
    "plt.legend(loc=0)\n",
    "plt.show()"
   ]
  },
  {
   "cell_type": "markdown",
   "id": "3035aa2c-2b08-443c-970f-c65cf136e6ba",
   "metadata": {},
   "source": [
    "### График Precision-Recall, используя метрики, посчитанные в п. 5"
   ]
  },
  {
   "cell_type": "code",
   "execution_count": 54,
   "id": "ce907f1c-ae83-459b-9fdc-e57cc0b5703e",
   "metadata": {
    "tags": []
   },
   "outputs": [
    {
     "data": {
      "image/png": "[encoded data removed]",
      "text/plain": [
       "<Figure size 1000x600 with 1 Axes>"
      ]
     },
     "metadata": {},
     "output_type": "display_data"
    }
   ],
   "source": [
    "plt.plot(tpr_, pre_, label='own calculation')\n",
    "plt.grid(color='k', linestyle='--', linewidth=0.5)\n",
    "plt.xlim([0.0, 1.05])\n",
    "plt.ylim([0.0, 1.05])\n",
    "plt.xlabel('Recall')\n",
    "plt.ylabel('Precision')\n",
    "plt.title('Recall-Precision curve')\n",
    "plt.legend(loc=0)\n",
    "plt.show()"
   ]
  },
  {
   "cell_type": "markdown",
   "id": "9936058f-5ed6-4f0b-beae-acbdfa20fb2c",
   "metadata": {},
   "source": [
    "### *Вычислите значение ROC-AUC метрики, используя метрики, посчитанные в п. 5."
   ]
  },
  {
   "cell_type": "markdown",
   "id": "4e3d44e5-e9d1-4087-b8ef-406d3ca15f91",
   "metadata": {
    "tags": []
   },
   "source": [
    "##### То есть считаем площадь под ROC-кривой при помощи суммы площадей маленьких прямоугольников, образованных разбивкой на интервалы"
   ]
  },
  {
   "cell_type": "code",
   "execution_count": 55,
   "id": "bf6a32d5-9652-4ff8-a876-16ad1402648b",
   "metadata": {
    "tags": []
   },
   "outputs": [
    {
     "data": {
      "text/plain": [
       "0.780306795400861"
      ]
     },
     "execution_count": 55,
     "metadata": {},
     "output_type": "execute_result"
    }
   ],
   "source": [
    "sq=0\n",
    "for i in range(len(fpr_)-1):\n",
    "    sq+=tpr_[i]*(-fpr_[i+1]+fpr_[i]) # поскольку fpr_ начинается с 1 и уменьшается, то меняем знак\n",
    "sq"
   ]
  },
  {
   "cell_type": "code",
   "execution_count": 56,
   "id": "413f04db-0f26-4280-be8c-a4a0e8d1402e",
   "metadata": {
    "tags": []
   },
   "outputs": [
    {
     "data": {
      "text/plain": [
       "0.7629553208954807"
      ]
     },
     "execution_count": 56,
     "metadata": {},
     "output_type": "execute_result"
    }
   ],
   "source": [
    "# проверка\n",
    "roc_auc_score(y_test, predictions_prob[:, 1])"
   ]
  },
  {
   "cell_type": "markdown",
   "id": "46728c11-6e55-4c6a-bd7b-502256451132",
   "metadata": {},
   "source": [
    "##### Вывод: рассчитанная площадь с 50 интервалами примерно равна площади, рассчитанная программой из библиотеки"
   ]
  },
  {
   "cell_type": "markdown",
   "id": "70896f4d-1050-43bb-8118-5ec7595afcd0",
   "metadata": {},
   "source": [
    "### **Выводы по проделанной работе:** <br>\n",
    "a. как по полученным графикам сделать вывод о качестве модели? Как вы оцениваете обученную модель исходя из подсчитанных метрик?<br>\n",
    "b. *может ли ROC-кривая проходить ниже диагонали?<br>"
   ]
  },
  {
   "cell_type": "markdown",
   "id": "0ccc9bf0-a952-4849-87a9-267e508f4011",
   "metadata": {},
   "source": [
    "### **Выводы:**\n",
    "1. Несмотря на высокую accuracy модель в таком виде не является достаточно точной, что подтверждается величинами метрик precision, recall и графиками.<br>\n",
    "2. Причиной такого результата является несбалансированность выборки, где количество спортсменов с медалями значительно \n",
    "меньше чем количество спортсменов без медалей. Поэтому необходима регулиризация для окончательной проверки модели.\n",
    "<br>\n"
   ]
  },
  {
   "cell_type": "code",
   "execution_count": 57,
   "id": "902fb3a4-0b12-452c-a9d2-f2c818e719fd",
   "metadata": {
    "tags": []
   },
   "outputs": [],
   "source": [
    "model_2 = make_pipeline(\n",
    "    StandardScaler(),\n",
    "    LogisticRegression(solver='liblinear', class_weight='balanced', max_iter=10000)\n",
    ")"
   ]
  },
  {
   "cell_type": "code",
   "execution_count": 58,
   "id": "cc2665f7-5090-43c3-a87c-c0afa8106f55",
   "metadata": {
    "tags": []
   },
   "outputs": [
    {
     "data": {
      "text/html": [
       "<style>#sk-container-id-1 {color: black;}#sk-container-id-1 pre{padding: 0;}#sk-container-id-1 div.sk-toggleable {background-color: white;}#sk-container-id-1 label.sk-toggleable__label {cursor: pointer;display: block;width: 100%;margin-bottom: 0;padding: 0.3em;box-sizing: border-box;text-align: center;}#sk-container-id-1 label.sk-toggleable__label-arrow:before {content: \"▸\";float: left;margin-right: 0.25em;color: #696969;}#sk-container-id-1 label.sk-toggleable__label-arrow:hover:before {color: black;}#sk-container-id-1 div.sk-estimator:hover label.sk-toggleable__label-arrow:before {color: black;}#sk-container-id-1 div.sk-toggleable__content {max-height: 0;max-width: 0;overflow: hidden;text-align: left;background-color: #f0f8ff;}#sk-container-id-1 div.sk-toggleable__content pre {margin: 0.2em;color: black;border-radius: 0.25em;background-color: #f0f8ff;}#sk-container-id-1 input.sk-toggleable__control:checked~div.sk-toggleable__content {max-height: 200px;max-width: 100%;overflow: auto;}#sk-container-id-1 input.sk-toggleable__control:checked~label.sk-toggleable__label-arrow:before {content: \"▾\";}#sk-container-id-1 div.sk-estimator input.sk-toggleable__control:checked~label.sk-toggleable__label {background-color: #d4ebff;}#sk-container-id-1 div.sk-label input.sk-toggleable__control:checked~label.sk-toggleable__label {background-color: #d4ebff;}#sk-container-id-1 input.sk-hidden--visually {border: 0;clip: rect(1px 1px 1px 1px);clip: rect(1px, 1px, 1px, 1px);height: 1px;margin: -1px;overflow: hidden;padding: 0;position: absolute;width: 1px;}#sk-container-id-1 div.sk-estimator {font-family: monospace;background-color: #f0f8ff;border: 1px dotted black;border-radius: 0.25em;box-sizing: border-box;margin-bottom: 0.5em;}#sk-container-id-1 div.sk-estimator:hover {background-color: #d4ebff;}#sk-container-id-1 div.sk-parallel-item::after {content: \"\";width: 100%;border-bottom: 1px solid gray;flex-grow: 1;}#sk-container-id-1 div.sk-label:hover label.sk-toggleable__label {background-color: #d4ebff;}#sk-container-id-1 div.sk-serial::before {content: \"\";position: absolute;border-left: 1px solid gray;box-sizing: border-box;top: 0;bottom: 0;left: 50%;z-index: 0;}#sk-container-id-1 div.sk-serial {display: flex;flex-direction: column;align-items: center;background-color: white;padding-right: 0.2em;padding-left: 0.2em;position: relative;}#sk-container-id-1 div.sk-item {position: relative;z-index: 1;}#sk-container-id-1 div.sk-parallel {display: flex;align-items: stretch;justify-content: center;background-color: white;position: relative;}#sk-container-id-1 div.sk-item::before, #sk-container-id-1 div.sk-parallel-item::before {content: \"\";position: absolute;border-left: 1px solid gray;box-sizing: border-box;top: 0;bottom: 0;left: 50%;z-index: -1;}#sk-container-id-1 div.sk-parallel-item {display: flex;flex-direction: column;z-index: 1;position: relative;background-color: white;}#sk-container-id-1 div.sk-parallel-item:first-child::after {align-self: flex-end;width: 50%;}#sk-container-id-1 div.sk-parallel-item:last-child::after {align-self: flex-start;width: 50%;}#sk-container-id-1 div.sk-parallel-item:only-child::after {width: 0;}#sk-container-id-1 div.sk-dashed-wrapped {border: 1px dashed gray;margin: 0 0.4em 0.5em 0.4em;box-sizing: border-box;padding-bottom: 0.4em;background-color: white;}#sk-container-id-1 div.sk-label label {font-family: monospace;font-weight: bold;display: inline-block;line-height: 1.2em;}#sk-container-id-1 div.sk-label-container {text-align: center;}#sk-container-id-1 div.sk-container {/* jupyter's `normalize.less` sets `[hidden] { display: none; }` but bootstrap.min.css set `[hidden] { display: none !important; }` so we also need the `!important` here to be able to override the default hidden behavior on the sphinx rendered scikit-learn.org. See: https://github.com/scikit-learn/scikit-learn/issues/21755 */display: inline-block !important;position: relative;}#sk-container-id-1 div.sk-text-repr-fallback {display: none;}</style><div id=\"sk-container-id-1\" class=\"sk-top-container\"><div class=\"sk-text-repr-fallback\"><pre>Pipeline(steps=[(&#x27;standardscaler&#x27;, StandardScaler()),\n",
       "                (&#x27;logisticregression&#x27;,\n",
       "                 LogisticRegression(class_weight=&#x27;balanced&#x27;, max_iter=10000,\n",
       "                                    solver=&#x27;liblinear&#x27;))])</pre><b>In a Jupyter environment, please rerun this cell to show the HTML representation or trust the notebook. <br />On GitHub, the HTML representation is unable to render, please try loading this page with nbviewer.org.</b></div><div class=\"sk-container\" hidden><div class=\"sk-item sk-dashed-wrapped\"><div class=\"sk-label-container\"><div class=\"sk-label sk-toggleable\"><input class=\"sk-toggleable__control sk-hidden--visually\" id=\"sk-estimator-id-1\" type=\"checkbox\" ><label for=\"sk-estimator-id-1\" class=\"sk-toggleable__label sk-toggleable__label-arrow\">Pipeline</label><div class=\"sk-toggleable__content\"><pre>Pipeline(steps=[(&#x27;standardscaler&#x27;, StandardScaler()),\n",
       "                (&#x27;logisticregression&#x27;,\n",
       "                 LogisticRegression(class_weight=&#x27;balanced&#x27;, max_iter=10000,\n",
       "                                    solver=&#x27;liblinear&#x27;))])</pre></div></div></div><div class=\"sk-serial\"><div class=\"sk-item\"><div class=\"sk-estimator sk-toggleable\"><input class=\"sk-toggleable__control sk-hidden--visually\" id=\"sk-estimator-id-2\" type=\"checkbox\" ><label for=\"sk-estimator-id-2\" class=\"sk-toggleable__label sk-toggleable__label-arrow\">StandardScaler</label><div class=\"sk-toggleable__content\"><pre>StandardScaler()</pre></div></div></div><div class=\"sk-item\"><div class=\"sk-estimator sk-toggleable\"><input class=\"sk-toggleable__control sk-hidden--visually\" id=\"sk-estimator-id-3\" type=\"checkbox\" ><label for=\"sk-estimator-id-3\" class=\"sk-toggleable__label sk-toggleable__label-arrow\">LogisticRegression</label><div class=\"sk-toggleable__content\"><pre>LogisticRegression(class_weight=&#x27;balanced&#x27;, max_iter=10000, solver=&#x27;liblinear&#x27;)</pre></div></div></div></div></div></div></div>"
      ],
      "text/plain": [
       "Pipeline(steps=[('standardscaler', StandardScaler()),\n",
       "                ('logisticregression',\n",
       "                 LogisticRegression(class_weight='balanced', max_iter=10000,\n",
       "                                    solver='liblinear'))])"
      ]
     },
     "execution_count": 58,
     "metadata": {},
     "output_type": "execute_result"
    }
   ],
   "source": [
    "model_2.fit(X_train, y_train)"
   ]
  },
  {
   "cell_type": "code",
   "execution_count": 59,
   "id": "45447801-b399-478f-a312-ada57c32f5c2",
   "metadata": {
    "tags": []
   },
   "outputs": [],
   "source": [
    "model_2.fit(X_train, y_train)\n",
    "predictions_2 = model_2.predict(X_test)"
   ]
  },
  {
   "cell_type": "code",
   "execution_count": 60,
   "id": "a0834ebb-d60d-47d4-b3af-abcb0d6d6c69",
   "metadata": {
    "tags": []
   },
   "outputs": [],
   "source": [
    "from sklearn.metrics import accuracy_score"
   ]
  },
  {
   "cell_type": "code",
   "execution_count": 61,
   "id": "9a97664a-8ec3-4d50-b29c-16aa350fc335",
   "metadata": {
    "tags": []
   },
   "outputs": [
    {
     "name": "stdout",
     "output_type": "stream",
     "text": [
      "Accuracy_2 = 0.6639\n",
      "Precision_2 = 0.2915\n",
      "Recall_2 = 0.7615\n"
     ]
    }
   ],
   "source": [
    "accuracy_2 = accuracy_score(y_test, predictions_2)\n",
    "precision_2 = precision_score(y_test, predictions_2)\n",
    "recall_2 = recall_score(y_test, predictions_2)\n",
    "\n",
    "print(f\"Accuracy_2 = {accuracy_2.round(4)}\")\n",
    "print(f\"Precision_2 = {precision_2.round(4)}\")\n",
    "print(f\"Recall_2 = {recall_2.round(4)}\")"
   ]
  },
  {
   "cell_type": "code",
   "execution_count": 62,
   "id": "bba367ac-03fa-4b63-9df2-608c5e3d5417",
   "metadata": {
    "tags": []
   },
   "outputs": [
    {
     "data": {
      "text/plain": [
       "0.6690789473684211"
      ]
     },
     "execution_count": 62,
     "metadata": {},
     "output_type": "execute_result"
    }
   ],
   "source": [
    "model_2.score(X_train, y_train)"
   ]
  },
  {
   "cell_type": "markdown",
   "id": "89c849d5-a03f-4ff5-ae2d-991ffb78c7ca",
   "metadata": {},
   "source": [
    "### Окончательный вывод: Данных признаков недостаточно для надёжного выявления, что тот или иной спортсмен является медалистом."
   ]
  },
  {
   "cell_type": "code",
   "execution_count": null,
   "id": "6524946c-b961-4758-9a3a-d1b069f44881",
   "metadata": {},
   "outputs": [],
   "source": []
  }
 ],
 "metadata": {
  "kernelspec": {
   "display_name": "Python 3 (ipykernel)",
   "language": "python",
   "name": "python3"
  },
  "language_info": {
   "codemirror_mode": {
    "name": "ipython",
    "version": 3
   },
   "file_extension": ".py",
   "mimetype": "text/x-python",
   "name": "python",
   "nbconvert_exporter": "python",
   "pygments_lexer": "ipython3",
   "version": "3.11.4"
  }
 },
 "nbformat": 4,
 "nbformat_minor": 5
}
