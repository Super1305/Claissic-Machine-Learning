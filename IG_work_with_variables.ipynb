{
 "cells": [
  {
   "cell_type": "markdown",
   "id": "42e14078-0920-45cf-9226-02e09f4b84ba",
   "metadata": {},
   "source": [
    "# Домашнее задание по теме «Работа с переменными» обновленное"
   ]
  },
  {
   "cell_type": "markdown",
   "id": "8e731c6b-015f-4105-aba9-829224d70649",
   "metadata": {},
   "source": [
    "## Задание\n",
    "\n",
    "**Цель:** изучить применение методов разведочного анализа данных (EDA) для улучшения качества работы моделей машинного обучения.\n",
    "\n",
    "**Описание задания:**\n",
    "В домашнем задании нужно улучшить метрики RMSE, R2 модели линейной регрессии путем работы с данными, а именно проведения разведочного анализа данных. В качестве датасета необходимо загрузить данные о недвижимости Калифорнии из библиотеки [sklearn.datasets](https://scikit-learn.org/stable/modules/generated/sklearn.datasets.fetch_california_housing.html) . Целевая переменная – MedHouseVal. Прочитать информацию о признаках датасета можно, выполнив следующий код – print(fetch_california_housing().DESCR)."
   ]
  },
  {
   "cell_type": "markdown",
   "id": "18a23964-548f-44dc-a432-f09b254e150e",
   "metadata": {},
   "source": [
    "Для получения зачета по этому домашнему заданию, минимально, должно быть реализовано обучение трех моделей классификации:\n",
    "- на основе всех неизмененных признаков;\n",
    "- на основе признаков, отобранных по значениям корреляций;\n",
    "- на основе признаков, отобранных по значениям корреляций и с удалением выбросов в них.\n",
    "- Должны быть выведены метрики RMSE, R2 моделей.\n",
    "- Желательно добиться улучшения метрик."
   ]
  },
  {
   "cell_type": "markdown",
   "id": "7e9a44aa-79d8-4ed3-ab00-f4c8a70dce5c",
   "metadata": {},
   "source": [
    "## Этапы работы:"
   ]
  },
  {
   "cell_type": "code",
   "execution_count": 1,
   "id": "f86a77b9-1769-4402-ae3c-c97609a38715",
   "metadata": {},
   "outputs": [],
   "source": [
    "import numpy as np\n",
    "import pandas as pd\n",
    "import matplotlib.pyplot as plt \n",
    "import seaborn as sns\n",
    "%matplotlib inline"
   ]
  },
  {
   "cell_type": "code",
   "execution_count": 2,
   "id": "31c773ec-5130-418e-a278-0c3e3615349a",
   "metadata": {},
   "outputs": [],
   "source": [
    "from sklearn.linear_model import LogisticRegression\n",
    "from sklearn.pipeline import make_pipeline\n",
    "from sklearn.preprocessing import StandardScaler\n",
    "from sklearn.model_selection import train_test_split"
   ]
  },
  {
   "cell_type": "code",
   "execution_count": 3,
   "id": "f59530a1-acfb-41b3-83df-2c122aca4273",
   "metadata": {
    "id": "qlEjVLBEW1Lg"
   },
   "outputs": [],
   "source": [
    "from sklearn.linear_model import LinearRegression\n",
    "from sklearn.metrics import r2_score, mean_squared_error"
   ]
  },
  {
   "cell_type": "code",
   "execution_count": null,
   "id": "263d38fa-ac20-4ed3-b75a-a16b806870f7",
   "metadata": {},
   "outputs": [],
   "source": []
  },
  {
   "cell_type": "markdown",
   "id": "7a507ccd-1437-4144-a8af-8dffdab92cf5",
   "metadata": {},
   "source": [
    "### 1. Получите данные и загрузите их в рабочую среду. (Jupyter Notebook или другую)."
   ]
  },
  {
   "cell_type": "code",
   "execution_count": 4,
   "id": "f2b39b05-b9a9-4fb2-a38f-f8f71b429317",
   "metadata": {},
   "outputs": [],
   "source": [
    "from sklearn.datasets import fetch_california_housing"
   ]
  },
  {
   "cell_type": "code",
   "execution_count": 5,
   "id": "c12631db-94f4-4973-a3c4-46e8d71bc119",
   "metadata": {},
   "outputs": [],
   "source": [
    "X, y = fetch_california_housing(return_X_y=True, as_frame=True)"
   ]
  },
  {
   "cell_type": "markdown",
   "id": "8d1832db-e8c2-4b61-9e14-b780628a46f3",
   "metadata": {},
   "source": [
    "    :Attribute Information:\n",
    "        - MedInc        median income in block group\n",
    "        - HouseAge      median house age in block group\n",
    "        - AveRooms      average number of rooms per household\n",
    "        - AveBedrms     average number of bedrooms per household\n",
    "        - Population    block group population\n",
    "        - AveOccup      average number of household members\n",
    "        - Latitude      block group latitude\n",
    "        - Longitude     block group longitude\n",
    "\n",
    "    :Missing Attribute Values: None\n",
    "\n",
    "The target variable is the median house value for California districts,\n",
    "expressed in hundreds of thousands of dollars ($100,000).\n",
    "\n",
    "A household is a group of people residing within a home. Since the average\n",
    "number of rooms and bedrooms in this dataset are provided per household, these\n",
    "columns may take surprisingly large values for block groups with few households\n",
    "and many empty houses, such as vacation resorts."
   ]
  },
  {
   "cell_type": "markdown",
   "id": "bce62d71-db44-4942-bec1-9bfe8365b809",
   "metadata": {},
   "source": [
    "### 2. Проверьте данные на наличие пропусков. Удалите их в случае обнаружения."
   ]
  },
  {
   "cell_type": "markdown",
   "id": "74c69be2-de14-4fd0-9ce4-0db7ce42a8bb",
   "metadata": {},
   "source": [
    "### 3. Разделите выборку на обучающее и тестовое подмножества. 80% данных оставить на обучающее множество, 20% - на тестовое."
   ]
  },
  {
   "cell_type": "code",
   "execution_count": 6,
   "id": "4832325e-37fe-4ef6-9e7d-925cf8312a75",
   "metadata": {},
   "outputs": [
    {
     "data": {
      "text/plain": [
       "MedInc        0\n",
       "HouseAge      0\n",
       "AveRooms      0\n",
       "AveBedrms     0\n",
       "Population    0\n",
       "AveOccup      0\n",
       "Latitude      0\n",
       "Longitude     0\n",
       "dtype: int64"
      ]
     },
     "execution_count": 6,
     "metadata": {},
     "output_type": "execute_result"
    }
   ],
   "source": [
    "X.isna().sum()"
   ]
  },
  {
   "cell_type": "code",
   "execution_count": 7,
   "id": "e57de2ac-7c4b-43fe-a55f-5146f593b5b7",
   "metadata": {},
   "outputs": [
    {
     "data": {
      "text/plain": [
       "0"
      ]
     },
     "execution_count": 7,
     "metadata": {},
     "output_type": "execute_result"
    }
   ],
   "source": [
    "y.isna().sum()"
   ]
  },
  {
   "cell_type": "code",
   "execution_count": 8,
   "id": "73b6bf9f-ad4a-4ded-a1d5-0afce50e2be1",
   "metadata": {},
   "outputs": [
    {
     "data": {
      "text/html": [
       "<div>\n",
       "<style scoped>\n",
       "    .dataframe tbody tr th:only-of-type {\n",
       "        vertical-align: middle;\n",
       "    }\n",
       "\n",
       "    .dataframe tbody tr th {\n",
       "        vertical-align: top;\n",
       "    }\n",
       "\n",
       "    .dataframe thead th {\n",
       "        text-align: right;\n",
       "    }\n",
       "</style>\n",
       "<table border=\"1\" class=\"dataframe\">\n",
       "  <thead>\n",
       "    <tr style=\"text-align: right;\">\n",
       "      <th></th>\n",
       "      <th>MedInc</th>\n",
       "      <th>HouseAge</th>\n",
       "      <th>AveRooms</th>\n",
       "      <th>AveBedrms</th>\n",
       "      <th>Population</th>\n",
       "      <th>AveOccup</th>\n",
       "      <th>Latitude</th>\n",
       "      <th>Longitude</th>\n",
       "    </tr>\n",
       "  </thead>\n",
       "  <tbody>\n",
       "    <tr>\n",
       "      <th>0</th>\n",
       "      <td>8.3252</td>\n",
       "      <td>41.0</td>\n",
       "      <td>6.984127</td>\n",
       "      <td>1.023810</td>\n",
       "      <td>322.0</td>\n",
       "      <td>2.555556</td>\n",
       "      <td>37.88</td>\n",
       "      <td>-122.23</td>\n",
       "    </tr>\n",
       "    <tr>\n",
       "      <th>1</th>\n",
       "      <td>8.3014</td>\n",
       "      <td>21.0</td>\n",
       "      <td>6.238137</td>\n",
       "      <td>0.971880</td>\n",
       "      <td>2401.0</td>\n",
       "      <td>2.109842</td>\n",
       "      <td>37.86</td>\n",
       "      <td>-122.22</td>\n",
       "    </tr>\n",
       "    <tr>\n",
       "      <th>2</th>\n",
       "      <td>7.2574</td>\n",
       "      <td>52.0</td>\n",
       "      <td>8.288136</td>\n",
       "      <td>1.073446</td>\n",
       "      <td>496.0</td>\n",
       "      <td>2.802260</td>\n",
       "      <td>37.85</td>\n",
       "      <td>-122.24</td>\n",
       "    </tr>\n",
       "    <tr>\n",
       "      <th>3</th>\n",
       "      <td>5.6431</td>\n",
       "      <td>52.0</td>\n",
       "      <td>5.817352</td>\n",
       "      <td>1.073059</td>\n",
       "      <td>558.0</td>\n",
       "      <td>2.547945</td>\n",
       "      <td>37.85</td>\n",
       "      <td>-122.25</td>\n",
       "    </tr>\n",
       "    <tr>\n",
       "      <th>4</th>\n",
       "      <td>3.8462</td>\n",
       "      <td>52.0</td>\n",
       "      <td>6.281853</td>\n",
       "      <td>1.081081</td>\n",
       "      <td>565.0</td>\n",
       "      <td>2.181467</td>\n",
       "      <td>37.85</td>\n",
       "      <td>-122.25</td>\n",
       "    </tr>\n",
       "  </tbody>\n",
       "</table>\n",
       "</div>"
      ],
      "text/plain": [
       "   MedInc  HouseAge  AveRooms  AveBedrms  Population  AveOccup  Latitude  \\\n",
       "0  8.3252      41.0  6.984127   1.023810       322.0  2.555556     37.88   \n",
       "1  8.3014      21.0  6.238137   0.971880      2401.0  2.109842     37.86   \n",
       "2  7.2574      52.0  8.288136   1.073446       496.0  2.802260     37.85   \n",
       "3  5.6431      52.0  5.817352   1.073059       558.0  2.547945     37.85   \n",
       "4  3.8462      52.0  6.281853   1.081081       565.0  2.181467     37.85   \n",
       "\n",
       "   Longitude  \n",
       "0    -122.23  \n",
       "1    -122.22  \n",
       "2    -122.24  \n",
       "3    -122.25  \n",
       "4    -122.25  "
      ]
     },
     "execution_count": 8,
     "metadata": {},
     "output_type": "execute_result"
    }
   ],
   "source": [
    "X.head()"
   ]
  },
  {
   "cell_type": "code",
   "execution_count": 9,
   "id": "a5b4a3bb-9d90-4ee3-8b65-193d80a00ad9",
   "metadata": {
    "tags": []
   },
   "outputs": [],
   "source": [
    "X_train, X_test, y_train, y_test = train_test_split(X, y, test_size=0.2, random_state=30)"
   ]
  },
  {
   "cell_type": "code",
   "execution_count": null,
   "id": "73f236f8-7a88-45f0-96d2-6cb3f054f51b",
   "metadata": {},
   "outputs": [],
   "source": []
  },
  {
   "cell_type": "markdown",
   "id": "7d9e4bd5-67cb-4cd4-8d13-f0b48e3ea770",
   "metadata": {},
   "source": [
    "### 4. Постройте модель линейной регрессии. Вычислите метрики RMSE, R2 на обучающем и тестовом множестве."
   ]
  },
  {
   "cell_type": "code",
   "execution_count": 10,
   "id": "2780a1e5-cf04-4723-b0f2-e8230a7f539d",
   "metadata": {
    "tags": []
   },
   "outputs": [],
   "source": [
    "model= make_pipeline(\n",
    "    StandardScaler(),\n",
    "    LinearRegression()\n",
    ")"
   ]
  },
  {
   "cell_type": "code",
   "execution_count": 11,
   "id": "f2c8956c-afaf-4441-abd4-4e32da4b1e57",
   "metadata": {},
   "outputs": [],
   "source": [
    "model.fit(X_train, y_train)\n",
    "y_train_pred = model.predict(X_train)"
   ]
  },
  {
   "cell_type": "code",
   "execution_count": 12,
   "id": "88856c6d-94cc-43bf-b25f-92cf6a04807d",
   "metadata": {},
   "outputs": [
    {
     "data": {
      "text/plain": [
       "0.6107251613176828"
      ]
     },
     "execution_count": 12,
     "metadata": {},
     "output_type": "execute_result"
    }
   ],
   "source": [
    "r2_score(y_train, y_train_pred)"
   ]
  },
  {
   "cell_type": "code",
   "execution_count": 13,
   "id": "5a269869-5565-43f3-bf3b-ed273a2a8351",
   "metadata": {},
   "outputs": [
    {
     "data": {
      "text/plain": [
       "0.5882336691134313"
      ]
     },
     "execution_count": 13,
     "metadata": {},
     "output_type": "execute_result"
    }
   ],
   "source": [
    "y_test_pred = model.predict(X_test)\n",
    "r2_score(y_test, y_test_pred)"
   ]
  },
  {
   "cell_type": "code",
   "execution_count": 14,
   "id": "c3411b4c-17ed-4e06-9619-830221bd536a",
   "metadata": {},
   "outputs": [
    {
     "data": {
      "text/plain": [
       "0.7166977119179887"
      ]
     },
     "execution_count": 14,
     "metadata": {},
     "output_type": "execute_result"
    }
   ],
   "source": [
    "mean_squared_error(y_train, y_train_pred, squared=False)"
   ]
  },
  {
   "cell_type": "code",
   "execution_count": 15,
   "id": "1ad4c38f-e7e0-44a7-9250-4b6048d7edc5",
   "metadata": {},
   "outputs": [
    {
     "data": {
      "text/plain": [
       "0.7535823975283861"
      ]
     },
     "execution_count": 15,
     "metadata": {},
     "output_type": "execute_result"
    }
   ],
   "source": [
    "mean_squared_error(y_test, y_test_pred, squared=False)"
   ]
  },
  {
   "cell_type": "code",
   "execution_count": null,
   "id": "e1762a00-2631-4ac5-b9a1-f088de057d7c",
   "metadata": {},
   "outputs": [],
   "source": []
  },
  {
   "cell_type": "markdown",
   "id": "7129df70-6fa9-4365-9aaa-7033a4d15fdd",
   "metadata": {},
   "source": [
    "### 5. Постройте график распределения целевой переменной. Сделайте вывод. Присутствуют ли в этом признаке выбросы?"
   ]
  },
  {
   "cell_type": "code",
   "execution_count": 16,
   "id": "aacd26c7-9649-4377-9db5-fb47ddb3b6b8",
   "metadata": {},
   "outputs": [
    {
     "data": {
      "image/png": "[encoded data removed]",
      "text/plain": [
       "<Figure size 640x480 with 1 Axes>"
      ]
     },
     "metadata": {},
     "output_type": "display_data"
    }
   ],
   "source": [
    "sns.histplot(y)\n",
    "plt.show()"
   ]
  },
  {
   "cell_type": "code",
   "execution_count": 17,
   "id": "15904ac8-92fa-4a5c-ba60-77adf378d3de",
   "metadata": {},
   "outputs": [
    {
     "data": {
      "image/png": "[encoded data removed]",
      "text/plain": [
       "<Figure size 640x480 with 1 Axes>"
      ]
     },
     "metadata": {},
     "output_type": "display_data"
    }
   ],
   "source": [
    "sns.boxplot(x = y)\n",
    "plt.show()"
   ]
  },
  {
   "cell_type": "markdown",
   "id": "8a908866-e649-4d5c-906e-bcbfa193c26d",
   "metadata": {},
   "source": [
    "#### Выбросы присутствуют"
   ]
  },
  {
   "cell_type": "markdown",
   "id": "efe36ada-87a8-489d-b3b9-561c10d5f86b",
   "metadata": {},
   "source": [
    "### 6. Посчитайте и выведите корреляционную матрицу. Убедитесь, что ячейки матрицы поделены на цветные категории, в ячейках указано числовое значение корреляции.  \n",
    "a. Сделайте выводы.  \n",
    "b. Удалите признаки на основании полученных значений, выводов.  \n",
    "c. Повторите п. 3, п. 4 на измененных данных.  \n"
   ]
  },
  {
   "cell_type": "code",
   "execution_count": 18,
   "id": "f9b45fea-7652-4cff-9139-a7abf469f5f9",
   "metadata": {},
   "outputs": [
    {
     "data": {
      "image/png": "[encoded data removed]",
      "text/plain": [
       "<Figure size 640x480 with 2 Axes>"
      ]
     },
     "metadata": {},
     "output_type": "display_data"
    }
   ],
   "source": [
    "sns.heatmap(X.corr(), annot=True)\n",
    "plt.show()"
   ]
  },
  {
   "cell_type": "code",
   "execution_count": 19,
   "id": "4a0a5e6e-5f41-41a5-a403-430b1bde14a3",
   "metadata": {},
   "outputs": [
    {
     "data": {
      "image/png": "[encoded data removed]",
      "text/plain": [
       "<Figure size 640x320 with 1 Axes>"
      ]
     },
     "metadata": {},
     "output_type": "display_data"
    }
   ],
   "source": [
    "plt.figure(figsize=(8, 4), dpi=80)\n",
    "plt.scatter(X['Latitude'],X['Longitude'])\n",
    "plt.grid(color='k', linestyle='--', linewidth=0.5)\n",
    "plt.xlabel('Latitude')\n",
    "plt.ylabel('Longitude')\n",
    "plt.title('Longitude vs. Latitude')\n",
    "plt.show()"
   ]
  },
  {
   "cell_type": "markdown",
   "id": "ba1d4269-bb45-4639-b260-af32f0379d4f",
   "metadata": {},
   "source": [
    "### **Выводы:**\n",
    "1. Присутствует сильная положительная корреляция между количеством комнат и количеством спален, что логично, поэтому удаляем признак с количеством спален, чтобы избавиться от мультиколлинеарности..\n",
    "2. Присутствует сильная отрицательная корреляция между широтой и долготой, что говорит о том, что выборка блоков расположена по диагонали на карте, когда, например, долгота возрастает - широта уменьшается или наоборот. Выше подтверждающий график. Признак оставляем.\n",
    "3. Присутствует ниже средней положительная корреляция между медианным доходом в блоках со медианным возрастом домов, что, возможно, говорит о том, что люди, купив дом и проживая в нём какое-то время, также начинают получать более высокую зарплату со временем. Гипотеза требует дополнительной информации для подтверждения. Признак оставляем.\n",
    "4. Присутствует ниже средней отрицательная корреляция между медианным возрастом домов и населением блоков, что, возможно, связано с тем, что вырастают дети и уезжают в колледжи и университеты. Также признак оставляем."
   ]
  },
  {
   "cell_type": "code",
   "execution_count": 20,
   "id": "98f05b33-aa72-4dc8-9921-288b8350bc4b",
   "metadata": {},
   "outputs": [],
   "source": [
    "del X['AveBedrms']"
   ]
  },
  {
   "cell_type": "code",
   "execution_count": 21,
   "id": "83743aff-f5d5-4c5a-a049-cadc52c73429",
   "metadata": {
    "tags": []
   },
   "outputs": [],
   "source": [
    "X_train, X_test, y_train, y_test = train_test_split(X, y, test_size=0.2, random_state=30)"
   ]
  },
  {
   "cell_type": "code",
   "execution_count": 22,
   "id": "ab5d4d4a-a503-4db2-a384-8a1482ff691b",
   "metadata": {},
   "outputs": [],
   "source": [
    "model.fit(X_train, y_train)\n",
    "y_train_pred = model.predict(X_train)"
   ]
  },
  {
   "cell_type": "code",
   "execution_count": 23,
   "id": "89c30ff2-ffc3-4bbe-95c2-8668ea82e8c8",
   "metadata": {},
   "outputs": [
    {
     "data": {
      "text/plain": [
       "0.600356469429326"
      ]
     },
     "execution_count": 23,
     "metadata": {},
     "output_type": "execute_result"
    }
   ],
   "source": [
    "r2_score(y_train, y_train_pred)"
   ]
  },
  {
   "cell_type": "code",
   "execution_count": 24,
   "id": "1b046b1f-3baa-460d-a055-96c3ce3f62c0",
   "metadata": {},
   "outputs": [
    {
     "data": {
      "text/plain": [
       "0.5795604715012044"
      ]
     },
     "execution_count": 24,
     "metadata": {},
     "output_type": "execute_result"
    }
   ],
   "source": [
    "y_test_pred = model.predict(X_test)\n",
    "r2_score(y_test, y_test_pred)"
   ]
  },
  {
   "cell_type": "code",
   "execution_count": 25,
   "id": "55af7dcb-ed93-46eb-92a8-99e54e904acc",
   "metadata": {},
   "outputs": [
    {
     "data": {
      "text/plain": [
       "0.7261799349581379"
      ]
     },
     "execution_count": 25,
     "metadata": {},
     "output_type": "execute_result"
    }
   ],
   "source": [
    "mean_squared_error(y_train, y_train_pred, squared=False)"
   ]
  },
  {
   "cell_type": "code",
   "execution_count": 26,
   "id": "bdc94e98-4cd0-4897-8e39-ea75a331fe3d",
   "metadata": {},
   "outputs": [
    {
     "data": {
      "text/plain": [
       "0.7614775420644568"
      ]
     },
     "execution_count": 26,
     "metadata": {},
     "output_type": "execute_result"
    }
   ],
   "source": [
    "mean_squared_error(y_test, y_test_pred, squared=False)"
   ]
  },
  {
   "cell_type": "markdown",
   "id": "8983f54e-feec-4049-ac14-0db83be7eb47",
   "metadata": {},
   "source": [
    "##### Результаты чуть ухудшились."
   ]
  },
  {
   "cell_type": "markdown",
   "id": "ea53610d-1cd7-4073-a1e6-a8acfc4733d3",
   "metadata": {},
   "source": [
    "### 7. Исследуйте оставленные признаки на выбросы.  \n",
    "a. Удалите выбросы в случае обнаружения.  \n",
    "b. Повторите п. 3, п. 4 на измененных данных."
   ]
  },
  {
   "cell_type": "code",
   "execution_count": null,
   "id": "9b9f0173-68c5-4727-9744-a053f7ef9761",
   "metadata": {},
   "outputs": [],
   "source": []
  },
  {
   "cell_type": "code",
   "execution_count": 27,
   "id": "c4cb92a0-b898-47e2-96f3-0de25cc0dbf3",
   "metadata": {},
   "outputs": [],
   "source": [
    "sns.set(rc={'figure.figsize':(10,1)})\n",
    "sns.set_style(style = 'dark')\n",
    "sns.set(font_scale=1)"
   ]
  },
  {
   "cell_type": "code",
   "execution_count": 28,
   "id": "7ae23adf-bedd-4a2c-94a3-86e6310b973c",
   "metadata": {},
   "outputs": [
    {
     "data": {
      "image/png": "[encoded data removed]",
      "text/plain": [
       "<Figure size 1000x100 with 1 Axes>"
      ]
     },
     "metadata": {},
     "output_type": "display_data"
    },
    {
     "data": {
      "image/png": "[encoded data removed]",
      "text/plain": [
       "<Figure size 1000x100 with 1 Axes>"
      ]
     },
     "metadata": {},
     "output_type": "display_data"
    },
    {
     "data": {
      "image/png": "[encoded data removed]",
      "text/plain": [
       "<Figure size 1000x100 with 1 Axes>"
      ]
     },
     "metadata": {},
     "output_type": "display_data"
    },
    {
     "data": {
      "image/png": "[encoded data removed]",
      "text/plain": [
       "<Figure size 1000x100 with 1 Axes>"
      ]
     },
     "metadata": {},
     "output_type": "display_data"
    },
    {
     "data": {
      "image/png": "[encoded data removed]",
      "text/plain": [
       "<Figure size 1000x100 with 1 Axes>"
      ]
     },
     "metadata": {},
     "output_type": "display_data"
    },
    {
     "data": {
      "image/png": "[encoded data removed]",
      "text/plain": [
       "<Figure size 1000x100 with 1 Axes>"
      ]
     },
     "metadata": {},
     "output_type": "display_data"
    },
    {
     "data": {
      "image/png": "[encoded data removed]",
      "text/plain": [
       "<Figure size 1000x100 with 1 Axes>"
      ]
     },
     "metadata": {},
     "output_type": "display_data"
    }
   ],
   "source": [
    "for i in X.columns.to_list():\n",
    "    sns.boxplot(x = X[i])\n",
    "    plt.show()"
   ]
  },
  {
   "cell_type": "markdown",
   "id": "c1474747-4d7b-4312-8995-6bbdb491115a",
   "metadata": {},
   "source": [
    "##### Поскольку будем удалять строки с выбросами, то необходимо удалять соответствующие строки с целевой переменной, поэтому объединяем и далее для удобства работаем по всем признакам, хотя как видно выше по части признаков выбросов нет."
   ]
  },
  {
   "cell_type": "code",
   "execution_count": 29,
   "id": "a0fd5fbd-9b0c-4b93-ac01-100d1d67c78a",
   "metadata": {},
   "outputs": [],
   "source": [
    "data = pd.concat([X,y], axis=1) # for further manipulations"
   ]
  },
  {
   "cell_type": "code",
   "execution_count": 30,
   "id": "72735a6a-643d-4031-9258-989e1806fa85",
   "metadata": {},
   "outputs": [
    {
     "data": {
      "text/html": [
       "<div>\n",
       "<style scoped>\n",
       "    .dataframe tbody tr th:only-of-type {\n",
       "        vertical-align: middle;\n",
       "    }\n",
       "\n",
       "    .dataframe tbody tr th {\n",
       "        vertical-align: top;\n",
       "    }\n",
       "\n",
       "    .dataframe thead th {\n",
       "        text-align: right;\n",
       "    }\n",
       "</style>\n",
       "<table border=\"1\" class=\"dataframe\">\n",
       "  <thead>\n",
       "    <tr style=\"text-align: right;\">\n",
       "      <th></th>\n",
       "      <th>MedInc</th>\n",
       "      <th>HouseAge</th>\n",
       "      <th>AveRooms</th>\n",
       "      <th>Population</th>\n",
       "      <th>AveOccup</th>\n",
       "      <th>Latitude</th>\n",
       "      <th>Longitude</th>\n",
       "      <th>MedHouseVal</th>\n",
       "    </tr>\n",
       "  </thead>\n",
       "  <tbody>\n",
       "    <tr>\n",
       "      <th>count</th>\n",
       "      <td>20640.000000</td>\n",
       "      <td>20640.000000</td>\n",
       "      <td>20640.000000</td>\n",
       "      <td>20640.000000</td>\n",
       "      <td>20640.000000</td>\n",
       "      <td>20640.000000</td>\n",
       "      <td>20640.000000</td>\n",
       "      <td>20640.000000</td>\n",
       "    </tr>\n",
       "    <tr>\n",
       "      <th>mean</th>\n",
       "      <td>3.870671</td>\n",
       "      <td>28.639486</td>\n",
       "      <td>5.429000</td>\n",
       "      <td>1425.476744</td>\n",
       "      <td>3.070655</td>\n",
       "      <td>35.631861</td>\n",
       "      <td>-119.569704</td>\n",
       "      <td>2.068558</td>\n",
       "    </tr>\n",
       "    <tr>\n",
       "      <th>std</th>\n",
       "      <td>1.899822</td>\n",
       "      <td>12.585558</td>\n",
       "      <td>2.474173</td>\n",
       "      <td>1132.462122</td>\n",
       "      <td>10.386050</td>\n",
       "      <td>2.135952</td>\n",
       "      <td>2.003532</td>\n",
       "      <td>1.153956</td>\n",
       "    </tr>\n",
       "    <tr>\n",
       "      <th>min</th>\n",
       "      <td>0.499900</td>\n",
       "      <td>1.000000</td>\n",
       "      <td>0.846154</td>\n",
       "      <td>3.000000</td>\n",
       "      <td>0.692308</td>\n",
       "      <td>32.540000</td>\n",
       "      <td>-124.350000</td>\n",
       "      <td>0.149990</td>\n",
       "    </tr>\n",
       "    <tr>\n",
       "      <th>25%</th>\n",
       "      <td>2.563400</td>\n",
       "      <td>18.000000</td>\n",
       "      <td>4.440716</td>\n",
       "      <td>787.000000</td>\n",
       "      <td>2.429741</td>\n",
       "      <td>33.930000</td>\n",
       "      <td>-121.800000</td>\n",
       "      <td>1.196000</td>\n",
       "    </tr>\n",
       "    <tr>\n",
       "      <th>50%</th>\n",
       "      <td>3.534800</td>\n",
       "      <td>29.000000</td>\n",
       "      <td>5.229129</td>\n",
       "      <td>1166.000000</td>\n",
       "      <td>2.818116</td>\n",
       "      <td>34.260000</td>\n",
       "      <td>-118.490000</td>\n",
       "      <td>1.797000</td>\n",
       "    </tr>\n",
       "    <tr>\n",
       "      <th>75%</th>\n",
       "      <td>4.743250</td>\n",
       "      <td>37.000000</td>\n",
       "      <td>6.052381</td>\n",
       "      <td>1725.000000</td>\n",
       "      <td>3.282261</td>\n",
       "      <td>37.710000</td>\n",
       "      <td>-118.010000</td>\n",
       "      <td>2.647250</td>\n",
       "    </tr>\n",
       "    <tr>\n",
       "      <th>max</th>\n",
       "      <td>15.000100</td>\n",
       "      <td>52.000000</td>\n",
       "      <td>141.909091</td>\n",
       "      <td>35682.000000</td>\n",
       "      <td>1243.333333</td>\n",
       "      <td>41.950000</td>\n",
       "      <td>-114.310000</td>\n",
       "      <td>5.000010</td>\n",
       "    </tr>\n",
       "  </tbody>\n",
       "</table>\n",
       "</div>"
      ],
      "text/plain": [
       "             MedInc      HouseAge      AveRooms    Population      AveOccup  \\\n",
       "count  20640.000000  20640.000000  20640.000000  20640.000000  20640.000000   \n",
       "mean       3.870671     28.639486      5.429000   1425.476744      3.070655   \n",
       "std        1.899822     12.585558      2.474173   1132.462122     10.386050   \n",
       "min        0.499900      1.000000      0.846154      3.000000      0.692308   \n",
       "25%        2.563400     18.000000      4.440716    787.000000      2.429741   \n",
       "50%        3.534800     29.000000      5.229129   1166.000000      2.818116   \n",
       "75%        4.743250     37.000000      6.052381   1725.000000      3.282261   \n",
       "max       15.000100     52.000000    141.909091  35682.000000   1243.333333   \n",
       "\n",
       "           Latitude     Longitude   MedHouseVal  \n",
       "count  20640.000000  20640.000000  20640.000000  \n",
       "mean      35.631861   -119.569704      2.068558  \n",
       "std        2.135952      2.003532      1.153956  \n",
       "min       32.540000   -124.350000      0.149990  \n",
       "25%       33.930000   -121.800000      1.196000  \n",
       "50%       34.260000   -118.490000      1.797000  \n",
       "75%       37.710000   -118.010000      2.647250  \n",
       "max       41.950000   -114.310000      5.000010  "
      ]
     },
     "execution_count": 30,
     "metadata": {},
     "output_type": "execute_result"
    }
   ],
   "source": [
    "data.describe()"
   ]
  },
  {
   "cell_type": "code",
   "execution_count": 31,
   "id": "bd302a34-8676-4b8f-9a27-c43db39a2f00",
   "metadata": {},
   "outputs": [],
   "source": [
    "data_stat = data.describe()"
   ]
  },
  {
   "cell_type": "markdown",
   "id": "2f5a88cd-7357-4168-8729-1e99048fd6bd",
   "metadata": {},
   "source": [
    "#### **Далее:**\n",
    "1. Определяем верхние и нижние границы боксплотов по каждому признаку.\n",
    "2. Удалаем последовательно строки, там где по какому-то признаку есть выброс."
   ]
  },
  {
   "cell_type": "code",
   "execution_count": 32,
   "id": "9bffc3d0-cf2a-41cf-a8ee-581e944ddf91",
   "metadata": {},
   "outputs": [],
   "source": [
    "# Расчётные границы боксплотов без учёта максимальных и минимальных значений признаков\n",
    "max_range = data_stat.iloc[6]+1.5*(data_stat.iloc[6]-data_stat.iloc[4])\n",
    "min_range = data_stat.iloc[4]-1.5*(data_stat.iloc[6]-data_stat.iloc[4])"
   ]
  },
  {
   "cell_type": "code",
   "execution_count": 33,
   "id": "da30d136-5513-49e6-94ec-bdd7391d89e8",
   "metadata": {},
   "outputs": [],
   "source": [
    "# Реальные верхние и нижние границы боксплотов с учётом максимальных и минимальных значений признаков\n",
    "boxplot_max, boxplot_min = [],[]\n",
    "for i in range(len(max_range)):\n",
    "    boxplot_max.append(min(data_stat.iloc[7][i], max_range[i]))\n",
    "    boxplot_min.append(max(data_stat.iloc[3][i], min_range[i]))"
   ]
  },
  {
   "cell_type": "code",
   "execution_count": 34,
   "id": "0d060a3d-5abf-40fc-928d-e2020ac4b939",
   "metadata": {},
   "outputs": [
    {
     "data": {
      "text/plain": [
       "[8.013024999999999,\n",
       " 52.0,\n",
       " 8.469878027106942,\n",
       " 3132.0,\n",
       " 4.5610405893536905,\n",
       " 41.95,\n",
       " -114.31,\n",
       " 4.824124999999999]"
      ]
     },
     "execution_count": 34,
     "metadata": {},
     "output_type": "execute_result"
    }
   ],
   "source": [
    "boxplot_max"
   ]
  },
  {
   "cell_type": "code",
   "execution_count": 35,
   "id": "18685e2b-ea0f-4422-8e39-85b5f9ce8c84",
   "metadata": {},
   "outputs": [],
   "source": [
    "# Убираем выбросы. \n",
    "data = data.query('MedInc<=@boxplot_max[0] & MedInc>=@boxplot_min[0]')\n",
    "data = data.query('HouseAge<=@boxplot_max[1] & HouseAge>=@boxplot_min[1]')\n",
    "data = data.query('AveRooms<=@boxplot_max[2] & AveRooms>=@boxplot_min[2]')\n",
    "data = data.query('Population<=@boxplot_max[3] & Population>=@boxplot_min[3]')\n",
    "data = data.query('AveOccup<=@boxplot_max[4] & AveOccup>=@boxplot_min[4]')\n",
    "data = data.query('Latitude<=@boxplot_max[5] & Latitude>=@boxplot_min[5]')\n",
    "data = data.query('Longitude<=@boxplot_max[6] & Longitude>=@boxplot_min[6]')\n",
    "data = data.query('MedHouseVal<=@boxplot_max[7] & MedHouseVal>=@boxplot_min[7]')\n",
    "# НЕ ПРИДУМАЛ КАК ЭТО СДЕЛАТЬ БОЛЕЕ ЛАКОНИЧНО В PYTHON. МОЖЕТЕ ПОДСКАЗАТЬ?"
   ]
  },
  {
   "cell_type": "code",
   "execution_count": 36,
   "id": "c9574d83-2c9c-4719-86a2-a946cc8117cc",
   "metadata": {},
   "outputs": [],
   "source": [
    "data = data.reset_index(drop=True)"
   ]
  },
  {
   "cell_type": "code",
   "execution_count": 37,
   "id": "91c331bb-2b86-4e70-9798-b259af7e17e8",
   "metadata": {},
   "outputs": [
    {
     "name": "stdout",
     "output_type": "stream",
     "text": [
      "<class 'pandas.core.frame.DataFrame'>\n",
      "RangeIndex: 17249 entries, 0 to 17248\n",
      "Data columns (total 8 columns):\n",
      " #   Column       Non-Null Count  Dtype  \n",
      "---  ------       --------------  -----  \n",
      " 0   MedInc       17249 non-null  float64\n",
      " 1   HouseAge     17249 non-null  float64\n",
      " 2   AveRooms     17249 non-null  float64\n",
      " 3   Population   17249 non-null  float64\n",
      " 4   AveOccup     17249 non-null  float64\n",
      " 5   Latitude     17249 non-null  float64\n",
      " 6   Longitude    17249 non-null  float64\n",
      " 7   MedHouseVal  17249 non-null  float64\n",
      "dtypes: float64(8)\n",
      "memory usage: 1.1 MB\n"
     ]
    }
   ],
   "source": [
    "data.info() # удалилось около 3000 строк"
   ]
  },
  {
   "cell_type": "code",
   "execution_count": 38,
   "id": "76f97310-f3dd-4ebc-8c84-77caeabc38aa",
   "metadata": {},
   "outputs": [],
   "source": [
    "X = data.iloc[:,0:7]"
   ]
  },
  {
   "cell_type": "code",
   "execution_count": 39,
   "id": "a9790eb3-b180-4fc5-a80c-aaa0ac5162ea",
   "metadata": {},
   "outputs": [
    {
     "data": {
      "text/html": [
       "<div>\n",
       "<style scoped>\n",
       "    .dataframe tbody tr th:only-of-type {\n",
       "        vertical-align: middle;\n",
       "    }\n",
       "\n",
       "    .dataframe tbody tr th {\n",
       "        vertical-align: top;\n",
       "    }\n",
       "\n",
       "    .dataframe thead th {\n",
       "        text-align: right;\n",
       "    }\n",
       "</style>\n",
       "<table border=\"1\" class=\"dataframe\">\n",
       "  <thead>\n",
       "    <tr style=\"text-align: right;\">\n",
       "      <th></th>\n",
       "      <th>MedInc</th>\n",
       "      <th>HouseAge</th>\n",
       "      <th>AveRooms</th>\n",
       "      <th>Population</th>\n",
       "      <th>AveOccup</th>\n",
       "      <th>Latitude</th>\n",
       "      <th>Longitude</th>\n",
       "    </tr>\n",
       "  </thead>\n",
       "  <tbody>\n",
       "    <tr>\n",
       "      <th>0</th>\n",
       "      <td>7.2574</td>\n",
       "      <td>52.0</td>\n",
       "      <td>8.288136</td>\n",
       "      <td>496.0</td>\n",
       "      <td>2.802260</td>\n",
       "      <td>37.85</td>\n",
       "      <td>-122.24</td>\n",
       "    </tr>\n",
       "    <tr>\n",
       "      <th>1</th>\n",
       "      <td>5.6431</td>\n",
       "      <td>52.0</td>\n",
       "      <td>5.817352</td>\n",
       "      <td>558.0</td>\n",
       "      <td>2.547945</td>\n",
       "      <td>37.85</td>\n",
       "      <td>-122.25</td>\n",
       "    </tr>\n",
       "    <tr>\n",
       "      <th>2</th>\n",
       "      <td>3.8462</td>\n",
       "      <td>52.0</td>\n",
       "      <td>6.281853</td>\n",
       "      <td>565.0</td>\n",
       "      <td>2.181467</td>\n",
       "      <td>37.85</td>\n",
       "      <td>-122.25</td>\n",
       "    </tr>\n",
       "    <tr>\n",
       "      <th>3</th>\n",
       "      <td>4.0368</td>\n",
       "      <td>52.0</td>\n",
       "      <td>4.761658</td>\n",
       "      <td>413.0</td>\n",
       "      <td>2.139896</td>\n",
       "      <td>37.85</td>\n",
       "      <td>-122.25</td>\n",
       "    </tr>\n",
       "    <tr>\n",
       "      <th>4</th>\n",
       "      <td>3.6591</td>\n",
       "      <td>52.0</td>\n",
       "      <td>4.931907</td>\n",
       "      <td>1094.0</td>\n",
       "      <td>2.128405</td>\n",
       "      <td>37.84</td>\n",
       "      <td>-122.25</td>\n",
       "    </tr>\n",
       "  </tbody>\n",
       "</table>\n",
       "</div>"
      ],
      "text/plain": [
       "   MedInc  HouseAge  AveRooms  Population  AveOccup  Latitude  Longitude\n",
       "0  7.2574      52.0  8.288136       496.0  2.802260     37.85    -122.24\n",
       "1  5.6431      52.0  5.817352       558.0  2.547945     37.85    -122.25\n",
       "2  3.8462      52.0  6.281853       565.0  2.181467     37.85    -122.25\n",
       "3  4.0368      52.0  4.761658       413.0  2.139896     37.85    -122.25\n",
       "4  3.6591      52.0  4.931907      1094.0  2.128405     37.84    -122.25"
      ]
     },
     "execution_count": 39,
     "metadata": {},
     "output_type": "execute_result"
    }
   ],
   "source": [
    "X.head()"
   ]
  },
  {
   "cell_type": "code",
   "execution_count": 40,
   "id": "e5a07f00-ec86-4cf7-bbfe-578fa4714159",
   "metadata": {},
   "outputs": [],
   "source": [
    "y = data.iloc[:,7:8]"
   ]
  },
  {
   "cell_type": "code",
   "execution_count": 41,
   "id": "1cf3c74d-7075-4fe4-acc0-383b4d993b54",
   "metadata": {
    "tags": []
   },
   "outputs": [],
   "source": [
    "X_train, X_test, y_train, y_test = train_test_split(X, y, test_size=0.2, random_state=30)"
   ]
  },
  {
   "cell_type": "code",
   "execution_count": 42,
   "id": "f1df4d3f-d775-4a86-8966-05bda8773090",
   "metadata": {},
   "outputs": [],
   "source": [
    "model.fit(X_train, y_train)\n",
    "y_train_pred = model.predict(X_train)"
   ]
  },
  {
   "cell_type": "code",
   "execution_count": 43,
   "id": "2c1432da-d397-4515-bce5-d880ed19a783",
   "metadata": {},
   "outputs": [
    {
     "data": {
      "text/plain": [
       "0.6240376816770306"
      ]
     },
     "execution_count": 43,
     "metadata": {},
     "output_type": "execute_result"
    }
   ],
   "source": [
    "r2_score(y_train, y_train_pred)"
   ]
  },
  {
   "cell_type": "code",
   "execution_count": 44,
   "id": "87484b5a-bf9c-4e8d-bab6-ada03d660ec2",
   "metadata": {},
   "outputs": [
    {
     "data": {
      "text/plain": [
       "0.634668068147884"
      ]
     },
     "execution_count": 44,
     "metadata": {},
     "output_type": "execute_result"
    }
   ],
   "source": [
    "y_test_pred = model.predict(X_test)\n",
    "r2_score(y_test, y_test_pred)"
   ]
  },
  {
   "cell_type": "code",
   "execution_count": 45,
   "id": "4798c868-6c84-4634-b774-3c1949c48088",
   "metadata": {},
   "outputs": [
    {
     "data": {
      "text/plain": [
       "0.5829151305150103"
      ]
     },
     "execution_count": 45,
     "metadata": {},
     "output_type": "execute_result"
    }
   ],
   "source": [
    "mean_squared_error(y_train, y_train_pred, squared=False)"
   ]
  },
  {
   "cell_type": "code",
   "execution_count": 46,
   "id": "839c3482-3925-46f9-9480-531c12fe008e",
   "metadata": {},
   "outputs": [
    {
     "data": {
      "text/plain": [
       "0.5663900389008729"
      ]
     },
     "execution_count": 46,
     "metadata": {},
     "output_type": "execute_result"
    }
   ],
   "source": [
    "mean_squared_error(y_test, y_test_pred, squared=False)"
   ]
  },
  {
   "cell_type": "markdown",
   "id": "f6ac98b5-35fd-486e-8fc8-fde390fdbf67",
   "metadata": {},
   "source": [
    "### Результаты немного улучшились"
   ]
  },
  {
   "cell_type": "code",
   "execution_count": null,
   "id": "eaabe69b-1a38-4e9f-b25d-04ddfd485af8",
   "metadata": {},
   "outputs": [],
   "source": []
  },
  {
   "cell_type": "markdown",
   "id": "1648437e-6e42-47dc-a1e2-9ffd78288e03",
   "metadata": {},
   "source": [
    "### 8. Измените несколько признаков на выбор математически. Например, вычислите логарифм, возведите в квадрат, извлеките квадратный корень.\n",
    "a. Повторите п. 3, п. 4 на измененных данных."
   ]
  },
  {
   "cell_type": "markdown",
   "id": "08cdfbfe-616f-4c30-aed2-a8d34187c1bd",
   "metadata": {},
   "source": [
    "##### **Введём новые переменные:**\n",
    "1. Среднее количество комнат, делённое на количество людей, и от этих величин возьмём логарифм, поскольку значения будут очень маленькими.\n",
    "2. Произведение Дохода на Количество комнат.\n",
    "3. Квадрат от Дохода."
   ]
  },
  {
   "cell_type": "code",
   "execution_count": 47,
   "id": "c06a4797-4e33-4a11-914e-cd326fb8b3cc",
   "metadata": {},
   "outputs": [],
   "source": [
    "data['Rooms_per_Population'] = np.log(data['AveRooms']/data['Population'])"
   ]
  },
  {
   "cell_type": "code",
   "execution_count": 48,
   "id": "9ba108fa-e9ba-4585-a799-1b567edda8c1",
   "metadata": {},
   "outputs": [],
   "source": [
    "data['InxXRooms'] = data['MedInc']*data['AveRooms']"
   ]
  },
  {
   "cell_type": "code",
   "execution_count": 49,
   "id": "77bc12e0-7154-4fbf-955d-bc54361c2eaf",
   "metadata": {},
   "outputs": [],
   "source": [
    "data['2MedInc']=data['MedInc']**2"
   ]
  },
  {
   "cell_type": "code",
   "execution_count": 50,
   "id": "952da2aa-ff9f-4bde-a453-c36246b25ac4",
   "metadata": {},
   "outputs": [
    {
     "data": {
      "text/html": [
       "<div>\n",
       "<style scoped>\n",
       "    .dataframe tbody tr th:only-of-type {\n",
       "        vertical-align: middle;\n",
       "    }\n",
       "\n",
       "    .dataframe tbody tr th {\n",
       "        vertical-align: top;\n",
       "    }\n",
       "\n",
       "    .dataframe thead th {\n",
       "        text-align: right;\n",
       "    }\n",
       "</style>\n",
       "<table border=\"1\" class=\"dataframe\">\n",
       "  <thead>\n",
       "    <tr style=\"text-align: right;\">\n",
       "      <th></th>\n",
       "      <th>MedInc</th>\n",
       "      <th>HouseAge</th>\n",
       "      <th>AveRooms</th>\n",
       "      <th>Population</th>\n",
       "      <th>AveOccup</th>\n",
       "      <th>Latitude</th>\n",
       "      <th>Longitude</th>\n",
       "      <th>MedHouseVal</th>\n",
       "      <th>Rooms_per_Population</th>\n",
       "      <th>InxXRooms</th>\n",
       "      <th>2MedInc</th>\n",
       "    </tr>\n",
       "  </thead>\n",
       "  <tbody>\n",
       "    <tr>\n",
       "      <th>0</th>\n",
       "      <td>7.2574</td>\n",
       "      <td>52.0</td>\n",
       "      <td>8.288136</td>\n",
       "      <td>496.0</td>\n",
       "      <td>2.802260</td>\n",
       "      <td>37.85</td>\n",
       "      <td>-122.24</td>\n",
       "      <td>3.521</td>\n",
       "      <td>-4.091751</td>\n",
       "      <td>60.150315</td>\n",
       "      <td>52.669855</td>\n",
       "    </tr>\n",
       "    <tr>\n",
       "      <th>1</th>\n",
       "      <td>5.6431</td>\n",
       "      <td>52.0</td>\n",
       "      <td>5.817352</td>\n",
       "      <td>558.0</td>\n",
       "      <td>2.547945</td>\n",
       "      <td>37.85</td>\n",
       "      <td>-122.25</td>\n",
       "      <td>3.413</td>\n",
       "      <td>-4.563514</td>\n",
       "      <td>32.827897</td>\n",
       "      <td>31.844578</td>\n",
       "    </tr>\n",
       "    <tr>\n",
       "      <th>2</th>\n",
       "      <td>3.8462</td>\n",
       "      <td>52.0</td>\n",
       "      <td>6.281853</td>\n",
       "      <td>565.0</td>\n",
       "      <td>2.181467</td>\n",
       "      <td>37.85</td>\n",
       "      <td>-122.25</td>\n",
       "      <td>3.422</td>\n",
       "      <td>-4.499161</td>\n",
       "      <td>24.161264</td>\n",
       "      <td>14.793254</td>\n",
       "    </tr>\n",
       "    <tr>\n",
       "      <th>3</th>\n",
       "      <td>4.0368</td>\n",
       "      <td>52.0</td>\n",
       "      <td>4.761658</td>\n",
       "      <td>413.0</td>\n",
       "      <td>2.139896</td>\n",
       "      <td>37.85</td>\n",
       "      <td>-122.25</td>\n",
       "      <td>2.697</td>\n",
       "      <td>-4.462852</td>\n",
       "      <td>19.221861</td>\n",
       "      <td>16.295754</td>\n",
       "    </tr>\n",
       "    <tr>\n",
       "      <th>4</th>\n",
       "      <td>3.6591</td>\n",
       "      <td>52.0</td>\n",
       "      <td>4.931907</td>\n",
       "      <td>1094.0</td>\n",
       "      <td>2.128405</td>\n",
       "      <td>37.84</td>\n",
       "      <td>-122.25</td>\n",
       "      <td>2.992</td>\n",
       "      <td>-5.401870</td>\n",
       "      <td>18.046339</td>\n",
       "      <td>13.389013</td>\n",
       "    </tr>\n",
       "  </tbody>\n",
       "</table>\n",
       "</div>"
      ],
      "text/plain": [
       "   MedInc  HouseAge  AveRooms  Population  AveOccup  Latitude  Longitude  \\\n",
       "0  7.2574      52.0  8.288136       496.0  2.802260     37.85    -122.24   \n",
       "1  5.6431      52.0  5.817352       558.0  2.547945     37.85    -122.25   \n",
       "2  3.8462      52.0  6.281853       565.0  2.181467     37.85    -122.25   \n",
       "3  4.0368      52.0  4.761658       413.0  2.139896     37.85    -122.25   \n",
       "4  3.6591      52.0  4.931907      1094.0  2.128405     37.84    -122.25   \n",
       "\n",
       "   MedHouseVal  Rooms_per_Population  InxXRooms    2MedInc  \n",
       "0        3.521             -4.091751  60.150315  52.669855  \n",
       "1        3.413             -4.563514  32.827897  31.844578  \n",
       "2        3.422             -4.499161  24.161264  14.793254  \n",
       "3        2.697             -4.462852  19.221861  16.295754  \n",
       "4        2.992             -5.401870  18.046339  13.389013  "
      ]
     },
     "execution_count": 50,
     "metadata": {},
     "output_type": "execute_result"
    }
   ],
   "source": [
    "data.head()"
   ]
  },
  {
   "cell_type": "code",
   "execution_count": 51,
   "id": "a0676433-eb12-4d5f-bf87-5a5214788b0e",
   "metadata": {},
   "outputs": [],
   "source": [
    "X = data.iloc[:,[0,1,2,3,4,5,6,8,9,10]]"
   ]
  },
  {
   "cell_type": "code",
   "execution_count": 52,
   "id": "659d5b5a-522b-4f17-a7ac-53978387436b",
   "metadata": {},
   "outputs": [
    {
     "data": {
      "text/html": [
       "<div>\n",
       "<style scoped>\n",
       "    .dataframe tbody tr th:only-of-type {\n",
       "        vertical-align: middle;\n",
       "    }\n",
       "\n",
       "    .dataframe tbody tr th {\n",
       "        vertical-align: top;\n",
       "    }\n",
       "\n",
       "    .dataframe thead th {\n",
       "        text-align: right;\n",
       "    }\n",
       "</style>\n",
       "<table border=\"1\" class=\"dataframe\">\n",
       "  <thead>\n",
       "    <tr style=\"text-align: right;\">\n",
       "      <th></th>\n",
       "      <th>MedInc</th>\n",
       "      <th>HouseAge</th>\n",
       "      <th>AveRooms</th>\n",
       "      <th>Population</th>\n",
       "      <th>AveOccup</th>\n",
       "      <th>Latitude</th>\n",
       "      <th>Longitude</th>\n",
       "      <th>Rooms_per_Population</th>\n",
       "      <th>InxXRooms</th>\n",
       "      <th>2MedInc</th>\n",
       "    </tr>\n",
       "  </thead>\n",
       "  <tbody>\n",
       "    <tr>\n",
       "      <th>0</th>\n",
       "      <td>7.2574</td>\n",
       "      <td>52.0</td>\n",
       "      <td>8.288136</td>\n",
       "      <td>496.0</td>\n",
       "      <td>2.802260</td>\n",
       "      <td>37.85</td>\n",
       "      <td>-122.24</td>\n",
       "      <td>-4.091751</td>\n",
       "      <td>60.150315</td>\n",
       "      <td>52.669855</td>\n",
       "    </tr>\n",
       "    <tr>\n",
       "      <th>1</th>\n",
       "      <td>5.6431</td>\n",
       "      <td>52.0</td>\n",
       "      <td>5.817352</td>\n",
       "      <td>558.0</td>\n",
       "      <td>2.547945</td>\n",
       "      <td>37.85</td>\n",
       "      <td>-122.25</td>\n",
       "      <td>-4.563514</td>\n",
       "      <td>32.827897</td>\n",
       "      <td>31.844578</td>\n",
       "    </tr>\n",
       "    <tr>\n",
       "      <th>2</th>\n",
       "      <td>3.8462</td>\n",
       "      <td>52.0</td>\n",
       "      <td>6.281853</td>\n",
       "      <td>565.0</td>\n",
       "      <td>2.181467</td>\n",
       "      <td>37.85</td>\n",
       "      <td>-122.25</td>\n",
       "      <td>-4.499161</td>\n",
       "      <td>24.161264</td>\n",
       "      <td>14.793254</td>\n",
       "    </tr>\n",
       "    <tr>\n",
       "      <th>3</th>\n",
       "      <td>4.0368</td>\n",
       "      <td>52.0</td>\n",
       "      <td>4.761658</td>\n",
       "      <td>413.0</td>\n",
       "      <td>2.139896</td>\n",
       "      <td>37.85</td>\n",
       "      <td>-122.25</td>\n",
       "      <td>-4.462852</td>\n",
       "      <td>19.221861</td>\n",
       "      <td>16.295754</td>\n",
       "    </tr>\n",
       "    <tr>\n",
       "      <th>4</th>\n",
       "      <td>3.6591</td>\n",
       "      <td>52.0</td>\n",
       "      <td>4.931907</td>\n",
       "      <td>1094.0</td>\n",
       "      <td>2.128405</td>\n",
       "      <td>37.84</td>\n",
       "      <td>-122.25</td>\n",
       "      <td>-5.401870</td>\n",
       "      <td>18.046339</td>\n",
       "      <td>13.389013</td>\n",
       "    </tr>\n",
       "  </tbody>\n",
       "</table>\n",
       "</div>"
      ],
      "text/plain": [
       "   MedInc  HouseAge  AveRooms  Population  AveOccup  Latitude  Longitude  \\\n",
       "0  7.2574      52.0  8.288136       496.0  2.802260     37.85    -122.24   \n",
       "1  5.6431      52.0  5.817352       558.0  2.547945     37.85    -122.25   \n",
       "2  3.8462      52.0  6.281853       565.0  2.181467     37.85    -122.25   \n",
       "3  4.0368      52.0  4.761658       413.0  2.139896     37.85    -122.25   \n",
       "4  3.6591      52.0  4.931907      1094.0  2.128405     37.84    -122.25   \n",
       "\n",
       "   Rooms_per_Population  InxXRooms    2MedInc  \n",
       "0             -4.091751  60.150315  52.669855  \n",
       "1             -4.563514  32.827897  31.844578  \n",
       "2             -4.499161  24.161264  14.793254  \n",
       "3             -4.462852  19.221861  16.295754  \n",
       "4             -5.401870  18.046339  13.389013  "
      ]
     },
     "execution_count": 52,
     "metadata": {},
     "output_type": "execute_result"
    }
   ],
   "source": [
    "X.head()"
   ]
  },
  {
   "cell_type": "code",
   "execution_count": 53,
   "id": "c7c625be-75df-4879-8153-7c8a4c813b87",
   "metadata": {},
   "outputs": [],
   "source": [
    "y = data.iloc[:,7]"
   ]
  },
  {
   "cell_type": "code",
   "execution_count": 54,
   "id": "7a22bfd0-5779-4ec2-b3dc-7967d201015a",
   "metadata": {
    "tags": []
   },
   "outputs": [],
   "source": [
    "X_train, X_test, y_train, y_test = train_test_split(X, y, test_size=0.2, random_state=30)"
   ]
  },
  {
   "cell_type": "code",
   "execution_count": 55,
   "id": "0dfecf08-94c9-4494-92b0-315b96724605",
   "metadata": {},
   "outputs": [],
   "source": [
    "model.fit(X_train, y_train)\n",
    "y_train_pred = model.predict(X_train)"
   ]
  },
  {
   "cell_type": "code",
   "execution_count": 56,
   "id": "f45a2a00-06a6-4a6d-bbc6-cccefefc28e0",
   "metadata": {},
   "outputs": [
    {
     "data": {
      "text/plain": [
       "0.6294631795057144"
      ]
     },
     "execution_count": 56,
     "metadata": {},
     "output_type": "execute_result"
    }
   ],
   "source": [
    "r2_score(y_train, y_train_pred)"
   ]
  },
  {
   "cell_type": "code",
   "execution_count": 57,
   "id": "0653a5aa-0619-4a23-8650-73bc62407d4c",
   "metadata": {},
   "outputs": [
    {
     "data": {
      "text/plain": [
       "0.6369029539572107"
      ]
     },
     "execution_count": 57,
     "metadata": {},
     "output_type": "execute_result"
    }
   ],
   "source": [
    "y_test_pred = model.predict(X_test)\n",
    "r2_score(y_test, y_test_pred)"
   ]
  },
  {
   "cell_type": "code",
   "execution_count": 58,
   "id": "27bf1ed8-8802-478e-b93b-4283ba0be006",
   "metadata": {},
   "outputs": [
    {
     "data": {
      "text/plain": [
       "0.5786938328542159"
      ]
     },
     "execution_count": 58,
     "metadata": {},
     "output_type": "execute_result"
    }
   ],
   "source": [
    "mean_squared_error(y_train, y_train_pred, squared=False)"
   ]
  },
  {
   "cell_type": "code",
   "execution_count": 59,
   "id": "2b3d0844-bc46-427e-ad71-0960c30716cb",
   "metadata": {},
   "outputs": [
    {
     "data": {
      "text/plain": [
       "0.5646549607774168"
      ]
     },
     "execution_count": 59,
     "metadata": {},
     "output_type": "execute_result"
    }
   ],
   "source": [
    "mean_squared_error(y_test, y_test_pred, squared=False)"
   ]
  },
  {
   "cell_type": "markdown",
   "id": "c76d969b-b0fc-409d-b6f5-27683c3c3e77",
   "metadata": {},
   "source": [
    "##### В целом, есть совсем небольшое улучшение."
   ]
  },
  {
   "cell_type": "markdown",
   "id": "30ec40d1-a094-4087-a587-171b76044995",
   "metadata": {},
   "source": [
    "### 9. Сформулируйте выводы по проделанной работе.\n",
    "a. Кратко опишите какие преобразования были сделаны с данными.\\\n",
    "b. Сравните метрики всех моделей. Желательно оформление в виде таблицы вида |модель|RMSE|R2|признаки, на которых проводилось обучение с указанием их преобразований.\\\n",
    "c. Напишите свое мнение, в полной ли мере модели справились с поставленной задачей."
   ]
  },
  {
   "cell_type": "markdown",
   "id": "312e405e-3033-4531-ba0b-b8dcf3dc2cf9",
   "metadata": {},
   "source": [
    "##### **а. Было протестировано 4 модели:**\n",
    "1. Модель с датасетом как есть.\n",
    "2. Модель с датасетом с удалённой колонкой, где была сильная корреляция.\n",
    "3. Модель с удалённой колонкой и удалёнными выбросами за пределами боксплотов.\n",
    "4. Модель с удалённой колокной, удалёнными выбросами и добавленно искусственно 3 новыми признаками, сделанными из модели 3."
   ]
  },
  {
   "cell_type": "markdown",
   "id": "bfea5c7f-c6e2-4af9-ab6a-dddaaec8ce2a",
   "metadata": {
    "jp-MarkdownHeadingCollapsed": true
   },
   "source": [
    "##### **b. Было протестировано 4 модели:**\n",
    "|Model|R2_train|R2_test|RMSE_train|RMSE_test|Features|\n",
    "|:-----:|:----:|:--:|:--------:|:---:|:-------|\n",
    "|1|0.6107|0.5882|0.7167|0.7536|All features, no changes|\n",
    "|2|0.6004|0.5796|0.7262|0.7615|All features w/o AveBedrms|\n",
    "|3|0.6240|0.6347|0.5829|0.5664|As above w/o outliers|\n",
    "|4|0.6295|0.6369|0.5787|0.5647|As above with new 4 artificial variables|"
   ]
  },
  {
   "cell_type": "markdown",
   "id": "29ea9b2f-4701-497a-8968-4d18b372dadb",
   "metadata": {},
   "source": [
    "##### c. Несмотря на небольшое улучшение качества моделей после преобразований, в целом, даже лучшие модели не справились со своей задачей. Приемлемым показателем могло бы являться значение R**2 выше 0.8. \n",
    "**Вывод:** или влияние переменных должно быть проанализировано глубже или не хватает дополнительных переменных. \n",
    "\n",
    "Также, во время выборочного исследования долготы и широты, в частности, было обнаружено, что некоторые значения определяли местонахождение блоков в Тихом океане, что говорит также о низком качестве данных. Поскольку не было способа удалить программно такие значение, то пришлось работать со всеми данными."
   ]
  },
  {
   "cell_type": "code",
   "execution_count": null,
   "id": "889c853a-c4e7-4e9e-8dda-5229180eaee6",
   "metadata": {},
   "outputs": [],
   "source": []
  }
 ],
 "metadata": {
  "kernelspec": {
   "display_name": "Python 3 (ipykernel)",
   "language": "python",
   "name": "python3"
  },
  "language_info": {
   "codemirror_mode": {
    "name": "ipython",
    "version": 3
   },
   "file_extension": ".py",
   "mimetype": "text/x-python",
   "name": "python",
   "nbconvert_exporter": "python",
   "pygments_lexer": "ipython3",
   "version": "3.11.4"
  }
 },
 "nbformat": 4,
 "nbformat_minor": 5
}
