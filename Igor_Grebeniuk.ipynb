{
 "cells": [
  {
   "cell_type": "markdown",
   "id": "b3256aca-1544-492a-bb5a-58ffb4355592",
   "metadata": {},
   "source": [
    "# **Instructions:**\n",
    "There are no correct or wrong answers to this assignment.\n",
    "Please immerse yourself into the role of an Anti-Fraud Analyst (whatever it means for you), and demonstrate via the use of code and comments\n",
    "your abilities and approaches to data exploration, modeling, and investigation. You may write a summary of your findings at the end of your\n",
    "file submission, as well as proposals to any (if there are any) fraudulent patterns you are able to detect.\n",
    "In the event that you have any follow up questions or need for clarifications, feel free to contact the email address from which you have \n",
    "received this assignment."
   ]
  },
  {
   "cell_type": "markdown",
   "id": "a1da8968-691d-47a0-9bdc-8e0e11e16d22",
   "metadata": {},
   "source": [
    "Please find attached 2 csv files:\n",
    "AntiFraudAnalystTradeData.csv - contains all trades of a specific time period, from the point of the view of the user (i.e. positive pnl = user profit)\n",
    "AntiFraudAnalystUserDevices.csv - contains all available device ids of users who traded in this time period"
   ]
  },
  {
   "cell_type": "code",
   "execution_count": 1,
   "id": "189b20e5-a900-4460-b236-464a28463bb8",
   "metadata": {},
   "outputs": [],
   "source": [
    "import pandas as pd\n",
    "import numpy as np"
   ]
  },
  {
   "cell_type": "code",
   "execution_count": 2,
   "id": "4a06ac33-82bc-4b56-9e6a-127bb6742178",
   "metadata": {},
   "outputs": [],
   "source": [
    "import datetime\n",
    "from datetime import datetime"
   ]
  },
  {
   "cell_type": "code",
   "execution_count": 3,
   "id": "96ade4dc-1c01-4eda-98cb-8731ffa0ef96",
   "metadata": {},
   "outputs": [],
   "source": [
    "import matplotlib.pyplot as plt\n",
    "import seaborn as sns\n",
    "%matplotlib inline\n",
    "plt.rcParams['figure.figsize'] = (5, 3)"
   ]
  },
  {
   "cell_type": "code",
   "execution_count": 4,
   "id": "cf04a13a-1ec2-452e-a913-0a5081584bf3",
   "metadata": {},
   "outputs": [],
   "source": [
    "import warnings\n",
    "warnings.filterwarnings('ignore')"
   ]
  },
  {
   "cell_type": "code",
   "execution_count": 5,
   "id": "029887f0-4e04-4fcf-88ba-d7de3ff2f7cb",
   "metadata": {},
   "outputs": [],
   "source": [
    "df_trade = pd.read_csv('AntiFraudAnalystTradeData.csv')\n",
    "df_ids = pd.read_csv('AntiFraudAnalystUserDevices.csv')"
   ]
  },
  {
   "cell_type": "markdown",
   "id": "cf376b46-14e0-4be6-bff5-a787211173a9",
   "metadata": {},
   "source": [
    "#### **Columns:**  \n",
    "id - unique id of the trade  \n",
    "user_id - unique id of the user  \n",
    "registration_date - registration date of the user  \n",
    "fin_instrument - financial asset name of the underlying  \n",
    "instrument_type - type of option instrument  \n",
    "instrument_direction - put/call direction of the trade  \n",
    "create_at - time of trade open  \n",
    "close_at - time of trade close  \n",
    "instrument_expiration - maturity time of option product  \n",
    "close_reason - reason for closing the position  \n",
    "platform - type of device platform trade was executed on  \n",
    "open_quote - market quote at time of open  \n",
    "close_quote - market quote at time of close  \n",
    "instrument_strike - strike of the option instrument  \n",
    "initial_investment_enrolled - dollar amount of investment  \n",
    "pnl_total_enrolled - dollar amount of profit/loss  \n",
    "#------------------------------------------------------------  \n",
    "user_id - unique id of the user  \n",
    "device_id - unique id of the user's device"
   ]
  },
  {
   "cell_type": "markdown",
   "id": "05f11c68-f891-4e4d-a246-ce09a6d6296f",
   "metadata": {},
   "source": [
    "## **Plan to resolve the task:**  "
   ]
  },
  {
   "cell_type": "markdown",
   "id": "fb76b933-54da-4671-80f7-3107a5061d35",
   "metadata": {},
   "source": [
    "1. Run some analysis (EDA) for data.\n",
    "2. ML modeling: Re-format and fill in with new features the data with trades with the focus on following features which may be crucial to determine fraud:  \n",
    "   a) number of devices per user,  \n",
    "   b) accounts using same devices,  \n",
    "   c) number of trades by user,  \n",
    "   d) total pnl by user,  \n",
    "   e) count of calls and puts by user,  \n",
    "   f) count of option types (turbo, digital) by user,  \n",
    "   g) count of platforms used by a user,  \n",
    "   h) count of wins vs. losses by a user,  \n",
    "   i) total investment by a user,\n",
    "   j) number of trades at different time periods of trade activities.   \n",
    "3. Run Cluster analysis and make conclusions."
   ]
  },
  {
   "cell_type": "code",
   "execution_count": 6,
   "id": "5627bcb3-e449-411b-948b-5b6ccb06ee0e",
   "metadata": {},
   "outputs": [
    {
     "data": {
      "text/html": [
       "<div>\n",
       "<style scoped>\n",
       "    .dataframe tbody tr th:only-of-type {\n",
       "        vertical-align: middle;\n",
       "    }\n",
       "\n",
       "    .dataframe tbody tr th {\n",
       "        vertical-align: top;\n",
       "    }\n",
       "\n",
       "    .dataframe thead th {\n",
       "        text-align: right;\n",
       "    }\n",
       "</style>\n",
       "<table border=\"1\" class=\"dataframe\">\n",
       "  <thead>\n",
       "    <tr style=\"text-align: right;\">\n",
       "      <th></th>\n",
       "      <th>Unnamed: 0</th>\n",
       "      <th>id</th>\n",
       "      <th>user_id</th>\n",
       "      <th>registration_date</th>\n",
       "      <th>fin_instrument</th>\n",
       "      <th>instrument_type</th>\n",
       "      <th>instrument_direction</th>\n",
       "      <th>create_at</th>\n",
       "      <th>close_at</th>\n",
       "      <th>instrument_expiration</th>\n",
       "      <th>close_reason</th>\n",
       "      <th>platform</th>\n",
       "      <th>open_quote</th>\n",
       "      <th>close_quote</th>\n",
       "      <th>instrument_strike</th>\n",
       "      <th>initial_investment_enrolled</th>\n",
       "      <th>pnl_total_enrolled</th>\n",
       "    </tr>\n",
       "  </thead>\n",
       "  <tbody>\n",
       "    <tr>\n",
       "      <th>0</th>\n",
       "      <td>0</td>\n",
       "      <td>9653594472</td>\n",
       "      <td>585118157</td>\n",
       "      <td>2019-04-05 17:12:46.000000</td>\n",
       "      <td>XRPUSD</td>\n",
       "      <td>turbo-option</td>\n",
       "      <td>call</td>\n",
       "      <td>2022-06-17 19:41:03.216000+00:00</td>\n",
       "      <td>2022-06-17 19:42:00+00:00</td>\n",
       "      <td>2022-06-17 19:42:00+00:00</td>\n",
       "      <td>expired</td>\n",
       "      <td>Unknown platform</td>\n",
       "      <td>0.314705</td>\n",
       "      <td>0.314955</td>\n",
       "      <td>0.314705</td>\n",
       "      <td>22.61</td>\n",
       "      <td>19.21</td>\n",
       "    </tr>\n",
       "    <tr>\n",
       "      <th>1</th>\n",
       "      <td>1</td>\n",
       "      <td>9641975390</td>\n",
       "      <td>1456695825</td>\n",
       "      <td>2021-08-12 02:28:57.928101</td>\n",
       "      <td>XRPUSD</td>\n",
       "      <td>turbo-option</td>\n",
       "      <td>call</td>\n",
       "      <td>2022-06-14 00:23:15.137000+00:00</td>\n",
       "      <td>2022-06-14 00:24:00+00:00</td>\n",
       "      <td>2022-06-14 00:24:00+00:00</td>\n",
       "      <td>expired</td>\n",
       "      <td>WebGL</td>\n",
       "      <td>0.308125</td>\n",
       "      <td>0.307895</td>\n",
       "      <td>0.308125</td>\n",
       "      <td>0.39</td>\n",
       "      <td>-0.39</td>\n",
       "    </tr>\n",
       "  </tbody>\n",
       "</table>\n",
       "</div>"
      ],
      "text/plain": [
       "   Unnamed: 0          id     user_id           registration_date  \\\n",
       "0           0  9653594472   585118157  2019-04-05 17:12:46.000000   \n",
       "1           1  9641975390  1456695825  2021-08-12 02:28:57.928101   \n",
       "\n",
       "  fin_instrument instrument_type instrument_direction  \\\n",
       "0         XRPUSD    turbo-option                 call   \n",
       "1         XRPUSD    turbo-option                 call   \n",
       "\n",
       "                          create_at                   close_at  \\\n",
       "0  2022-06-17 19:41:03.216000+00:00  2022-06-17 19:42:00+00:00   \n",
       "1  2022-06-14 00:23:15.137000+00:00  2022-06-14 00:24:00+00:00   \n",
       "\n",
       "       instrument_expiration close_reason          platform  open_quote  \\\n",
       "0  2022-06-17 19:42:00+00:00      expired  Unknown platform    0.314705   \n",
       "1  2022-06-14 00:24:00+00:00      expired             WebGL    0.308125   \n",
       "\n",
       "   close_quote  instrument_strike  initial_investment_enrolled  \\\n",
       "0     0.314955           0.314705                        22.61   \n",
       "1     0.307895           0.308125                         0.39   \n",
       "\n",
       "   pnl_total_enrolled  \n",
       "0               19.21  \n",
       "1               -0.39  "
      ]
     },
     "execution_count": 6,
     "metadata": {},
     "output_type": "execute_result"
    }
   ],
   "source": [
    "df_trade.head(2)"
   ]
  },
  {
   "cell_type": "code",
   "execution_count": 7,
   "id": "c857917b-3604-42df-9a54-6f9746795703",
   "metadata": {},
   "outputs": [
    {
     "data": {
      "text/html": [
       "<div>\n",
       "<style scoped>\n",
       "    .dataframe tbody tr th:only-of-type {\n",
       "        vertical-align: middle;\n",
       "    }\n",
       "\n",
       "    .dataframe tbody tr th {\n",
       "        vertical-align: top;\n",
       "    }\n",
       "\n",
       "    .dataframe thead th {\n",
       "        text-align: right;\n",
       "    }\n",
       "</style>\n",
       "<table border=\"1\" class=\"dataframe\">\n",
       "  <thead>\n",
       "    <tr style=\"text-align: right;\">\n",
       "      <th></th>\n",
       "      <th>Unnamed: 0</th>\n",
       "      <th>user_id</th>\n",
       "      <th>device_id</th>\n",
       "    </tr>\n",
       "  </thead>\n",
       "  <tbody>\n",
       "    <tr>\n",
       "      <th>0</th>\n",
       "      <td>0</td>\n",
       "      <td>1185175017</td>\n",
       "      <td>a3037561a43a726fdbd4168b4e2e7df7</td>\n",
       "    </tr>\n",
       "    <tr>\n",
       "      <th>1</th>\n",
       "      <td>1</td>\n",
       "      <td>1245468614</td>\n",
       "      <td>92e5e634-9d56-4aa9-9dd3-9cca03da117e</td>\n",
       "    </tr>\n",
       "  </tbody>\n",
       "</table>\n",
       "</div>"
      ],
      "text/plain": [
       "   Unnamed: 0     user_id                             device_id\n",
       "0           0  1185175017      a3037561a43a726fdbd4168b4e2e7df7\n",
       "1           1  1245468614  92e5e634-9d56-4aa9-9dd3-9cca03da117e"
      ]
     },
     "execution_count": 7,
     "metadata": {},
     "output_type": "execute_result"
    }
   ],
   "source": [
    "df_ids.head(2)"
   ]
  },
  {
   "cell_type": "code",
   "execution_count": 8,
   "id": "0471a424-3c9e-420c-a28c-810ba93244a7",
   "metadata": {},
   "outputs": [
    {
     "name": "stdout",
     "output_type": "stream",
     "text": [
      "<class 'pandas.core.frame.DataFrame'>\n",
      "RangeIndex: 1764494 entries, 0 to 1764493\n",
      "Data columns (total 17 columns):\n",
      " #   Column                       Dtype  \n",
      "---  ------                       -----  \n",
      " 0   Unnamed: 0                   int64  \n",
      " 1   id                           int64  \n",
      " 2   user_id                      int64  \n",
      " 3   registration_date            object \n",
      " 4   fin_instrument               object \n",
      " 5   instrument_type              object \n",
      " 6   instrument_direction         object \n",
      " 7   create_at                    object \n",
      " 8   close_at                     object \n",
      " 9   instrument_expiration        object \n",
      " 10  close_reason                 object \n",
      " 11  platform                     object \n",
      " 12  open_quote                   float64\n",
      " 13  close_quote                  float64\n",
      " 14  instrument_strike            float64\n",
      " 15  initial_investment_enrolled  float64\n",
      " 16  pnl_total_enrolled           float64\n",
      "dtypes: float64(5), int64(3), object(9)\n",
      "memory usage: 228.9+ MB\n"
     ]
    }
   ],
   "source": [
    "df_trade.info()"
   ]
  },
  {
   "cell_type": "code",
   "execution_count": 9,
   "id": "1b42aab5-04b0-406d-9505-25de22d8f1be",
   "metadata": {},
   "outputs": [
    {
     "name": "stdout",
     "output_type": "stream",
     "text": [
      "<class 'pandas.core.frame.DataFrame'>\n",
      "RangeIndex: 6245842 entries, 0 to 6245841\n",
      "Data columns (total 3 columns):\n",
      " #   Column      Dtype \n",
      "---  ------      ----- \n",
      " 0   Unnamed: 0  int64 \n",
      " 1   user_id     int64 \n",
      " 2   device_id   object\n",
      "dtypes: int64(2), object(1)\n",
      "memory usage: 143.0+ MB\n"
     ]
    }
   ],
   "source": [
    "df_ids.info()"
   ]
  },
  {
   "cell_type": "code",
   "execution_count": 10,
   "id": "09d01e94-d030-490a-9fe1-b41d756566e5",
   "metadata": {},
   "outputs": [],
   "source": [
    "# as 'Unnamed: 0' columns just repeat indexes let's remove them \n",
    "df_trade.drop('Unnamed: 0', axis = 1, inplace = True)\n",
    "df_ids.drop('Unnamed: 0', axis = 1, inplace = True)"
   ]
  },
  {
   "cell_type": "code",
   "execution_count": 11,
   "id": "0f95135a-d6b8-453d-805c-dad5bf420eb5",
   "metadata": {},
   "outputs": [
    {
     "data": {
      "text/plain": [
       "id                             0\n",
       "user_id                        0\n",
       "registration_date              0\n",
       "fin_instrument                 0\n",
       "instrument_type                0\n",
       "instrument_direction           0\n",
       "create_at                      0\n",
       "close_at                       0\n",
       "instrument_expiration          0\n",
       "close_reason                   0\n",
       "platform                       0\n",
       "open_quote                     0\n",
       "close_quote                    0\n",
       "instrument_strike              0\n",
       "initial_investment_enrolled    0\n",
       "pnl_total_enrolled             0\n",
       "dtype: int64"
      ]
     },
     "execution_count": 11,
     "metadata": {},
     "output_type": "execute_result"
    }
   ],
   "source": [
    "df_trade.isna().sum()"
   ]
  },
  {
   "cell_type": "code",
   "execution_count": 12,
   "id": "574f667c-0953-40e1-9c74-e21c60067551",
   "metadata": {},
   "outputs": [
    {
     "data": {
      "text/plain": [
       "user_id      0\n",
       "device_id    0\n",
       "dtype: int64"
      ]
     },
     "execution_count": 12,
     "metadata": {},
     "output_type": "execute_result"
    }
   ],
   "source": [
    "df_ids.isna().sum()"
   ]
  },
  {
   "cell_type": "code",
   "execution_count": 13,
   "id": "afc7d429-e2ca-43d9-8b54-ef1385172931",
   "metadata": {},
   "outputs": [],
   "source": [
    "df_trade['registration_date'] = pd.to_datetime(df_trade['registration_date'])\n",
    "df_trade['close_at'] = pd.to_datetime(df_trade['close_at'], format='mixed')\n",
    "df_trade['create_at'] = pd.to_datetime(df_trade['create_at'], format='mixed')\n",
    "df_trade['instrument_expiration'] = pd.to_datetime(df_trade['instrument_expiration'])"
   ]
  },
  {
   "cell_type": "code",
   "execution_count": 14,
   "id": "b8307547-27bd-4efa-9eb0-c46fa70f36db",
   "metadata": {},
   "outputs": [
    {
     "name": "stdout",
     "output_type": "stream",
     "text": [
      "<class 'pandas.core.frame.DataFrame'>\n",
      "RangeIndex: 1764494 entries, 0 to 1764493\n",
      "Data columns (total 16 columns):\n",
      " #   Column                       Dtype              \n",
      "---  ------                       -----              \n",
      " 0   id                           int64              \n",
      " 1   user_id                      int64              \n",
      " 2   registration_date            datetime64[ns]     \n",
      " 3   fin_instrument               object             \n",
      " 4   instrument_type              object             \n",
      " 5   instrument_direction         object             \n",
      " 6   create_at                    datetime64[ns, UTC]\n",
      " 7   close_at                     datetime64[ns, UTC]\n",
      " 8   instrument_expiration        datetime64[ns, UTC]\n",
      " 9   close_reason                 object             \n",
      " 10  platform                     object             \n",
      " 11  open_quote                   float64            \n",
      " 12  close_quote                  float64            \n",
      " 13  instrument_strike            float64            \n",
      " 14  initial_investment_enrolled  float64            \n",
      " 15  pnl_total_enrolled           float64            \n",
      "dtypes: datetime64[ns, UTC](3), datetime64[ns](1), float64(5), int64(2), object(5)\n",
      "memory usage: 215.4+ MB\n"
     ]
    }
   ],
   "source": [
    "df_trade.info()"
   ]
  },
  {
   "cell_type": "markdown",
   "id": "7540fb0f-d2e6-4d65-a79d-71dce8900e55",
   "metadata": {},
   "source": [
    "Let's investigate the number of unique user_ids in both sets ..."
   ]
  },
  {
   "cell_type": "code",
   "execution_count": 15,
   "id": "fc96fac6-7ba5-4bdb-af9e-41284c13c632",
   "metadata": {},
   "outputs": [
    {
     "data": {
      "text/plain": [
       "81726"
      ]
     },
     "execution_count": 15,
     "metadata": {},
     "output_type": "execute_result"
    }
   ],
   "source": [
    "df_trade['user_id'].nunique()"
   ]
  },
  {
   "cell_type": "code",
   "execution_count": 16,
   "id": "f7330f50-fb8b-4708-b68a-6f5fa5a1eeab",
   "metadata": {},
   "outputs": [
    {
     "data": {
      "text/plain": [
       "81006"
      ]
     },
     "execution_count": 16,
     "metadata": {},
     "output_type": "execute_result"
    }
   ],
   "source": [
    "df_ids['user_id'].nunique()"
   ]
  },
  {
   "cell_type": "code",
   "execution_count": 17,
   "id": "f59a630f-6fc2-4044-8fb1-3498732aa886",
   "metadata": {},
   "outputs": [
    {
     "data": {
      "text/plain": [
       "720"
      ]
     },
     "execution_count": 17,
     "metadata": {},
     "output_type": "execute_result"
    }
   ],
   "source": [
    "len(list(set(list(df_trade['user_id'].unique()))-set(list(df_ids['user_id'].unique()))))"
   ]
  },
  {
   "cell_type": "code",
   "execution_count": 18,
   "id": "8e911160-2d29-4c51-94d4-cf3b5f66f0d3",
   "metadata": {},
   "outputs": [
    {
     "data": {
      "text/plain": [
       "0"
      ]
     },
     "execution_count": 18,
     "metadata": {},
     "output_type": "execute_result"
    }
   ],
   "source": [
    "len(list(set(list(df_ids['user_id'].unique()))-set(list(df_trade['user_id'].unique()))))"
   ]
  },
  {
   "cell_type": "code",
   "execution_count": 19,
   "id": "bb4146fb-cd23-4dd7-abcb-0d62c52c00a0",
   "metadata": {},
   "outputs": [
    {
     "data": {
      "text/plain": [
       "0.88"
      ]
     },
     "execution_count": 19,
     "metadata": {},
     "output_type": "execute_result"
    }
   ],
   "source": [
    "round(720/81726*100,2)"
   ]
  },
  {
   "cell_type": "markdown",
   "id": "282e4d67-331e-48c9-a1ac-fc29f1c6dba4",
   "metadata": {},
   "source": [
    "##### **Finding:**  \n",
    "in df_trade there are more unique user_ids and 720 users in df_trade will be without the total number of used devices as I plan to join two datasets. From another side, 720 is less than 1% of total number of users, so the records for the users may be deleted if no significant impact on overall results will happen. To stay with those users I will equalize number of devices to 0s for those 720 users id. Then, more investigation will be executed."
   ]
  },
  {
   "cell_type": "markdown",
   "id": "ea0413da-bf1a-4d86-b364-582dcf3a533d",
   "metadata": {},
   "source": [
    "### Let's investigate df_ids dataset."
   ]
  },
  {
   "cell_type": "code",
   "execution_count": 20,
   "id": "890dede0-e832-44bf-810a-1de24c73ed78",
   "metadata": {},
   "outputs": [],
   "source": [
    "# number of devices per a user\n",
    "n_devices_per_user = df_ids.groupby('user_id', as_index=False).count().sort_values(\n",
    "    'device_id', ascending=False).rename(columns = {'device_id':'n_devices'})\n",
    "n_devices_per_user.reset_index(drop = True, inplace = True)"
   ]
  },
  {
   "cell_type": "code",
   "execution_count": 21,
   "id": "6c8de29f-ed0a-47c9-9156-a485a072ff7e",
   "metadata": {},
   "outputs": [
    {
     "data": {
      "text/html": [
       "<div>\n",
       "<style scoped>\n",
       "    .dataframe tbody tr th:only-of-type {\n",
       "        vertical-align: middle;\n",
       "    }\n",
       "\n",
       "    .dataframe tbody tr th {\n",
       "        vertical-align: top;\n",
       "    }\n",
       "\n",
       "    .dataframe thead th {\n",
       "        text-align: right;\n",
       "    }\n",
       "</style>\n",
       "<table border=\"1\" class=\"dataframe\">\n",
       "  <thead>\n",
       "    <tr style=\"text-align: right;\">\n",
       "      <th></th>\n",
       "      <th>user_id</th>\n",
       "      <th>n_devices</th>\n",
       "    </tr>\n",
       "  </thead>\n",
       "  <tbody>\n",
       "    <tr>\n",
       "      <th>0</th>\n",
       "      <td>739862968</td>\n",
       "      <td>17359</td>\n",
       "    </tr>\n",
       "    <tr>\n",
       "      <th>1</th>\n",
       "      <td>1263693067</td>\n",
       "      <td>15279</td>\n",
       "    </tr>\n",
       "    <tr>\n",
       "      <th>2</th>\n",
       "      <td>583977446</td>\n",
       "      <td>14004</td>\n",
       "    </tr>\n",
       "  </tbody>\n",
       "</table>\n",
       "</div>"
      ],
      "text/plain": [
       "      user_id  n_devices\n",
       "0   739862968      17359\n",
       "1  1263693067      15279\n",
       "2   583977446      14004"
      ]
     },
     "execution_count": 21,
     "metadata": {},
     "output_type": "execute_result"
    }
   ],
   "source": [
    "n_devices_per_user.head(3)"
   ]
  },
  {
   "cell_type": "code",
   "execution_count": 22,
   "id": "44af9084-ff8c-4d47-8607-d4b6e7485619",
   "metadata": {},
   "outputs": [
    {
     "data": {
      "image/png": "[encoded data removed]",
      "text/plain": [
       "<Figure size 600x300 with 1 Axes>"
      ]
     },
     "metadata": {},
     "output_type": "display_data"
    }
   ],
   "source": [
    "# there are some outliers above 2500 n_devices  /user\n",
    "sns.lmplot(data = n_devices_per_user, x = 'user_id', y = 'n_devices', height = 3, aspect =2)\n",
    "plt.show()"
   ]
  },
  {
   "cell_type": "markdown",
   "id": "da31a708-61de-4601-9000-becd7922c608",
   "metadata": {},
   "source": [
    "#### Visually, it looks 2500 number divides user_id outliers from the most of user_ids. let's calculate the share of devices at outliers vs. the total number of devices."
   ]
  },
  {
   "cell_type": "code",
   "execution_count": 23,
   "id": "9a3e6d83-4640-41ed-b214-86f70788aded",
   "metadata": {},
   "outputs": [
    {
     "data": {
      "text/plain": [
       "9.9"
      ]
     },
     "execution_count": 23,
     "metadata": {},
     "output_type": "execute_result"
    }
   ],
   "source": [
    "round(100*n_devices_per_user.query('n_devices > 2500')['n_devices'].sum()/n_devices_per_user['n_devices'].sum(),1)"
   ]
  },
  {
   "cell_type": "code",
   "execution_count": 24,
   "id": "c360a4ef-5b47-4cf9-a9ae-7dbb8cd3c2e9",
   "metadata": {},
   "outputs": [
    {
     "data": {
      "text/plain": [
       "146"
      ]
     },
     "execution_count": 24,
     "metadata": {},
     "output_type": "execute_result"
    }
   ],
   "source": [
    "n_devices_per_user.query('n_devices > 2500')['n_devices'].count()"
   ]
  },
  {
   "cell_type": "code",
   "execution_count": 25,
   "id": "91d88218-2de0-4f81-b147-fd757c9583ba",
   "metadata": {},
   "outputs": [
    {
     "data": {
      "text/plain": [
       "0.2"
      ]
     },
     "execution_count": 25,
     "metadata": {},
     "output_type": "execute_result"
    }
   ],
   "source": [
    "round(100*n_devices_per_user.query('n_devices > 2500')['n_devices'].count()/n_devices_per_user['n_devices'].count(),1)"
   ]
  },
  {
   "cell_type": "markdown",
   "id": "f03c468d-c26f-4549-afc2-0da04b140586",
   "metadata": {},
   "source": [
    "**Findings:**  \n",
    "a) The impact on number of devices from those outliers is 10% vs. the total number  \n",
    "b) But, the impact is provided by just 146 users that is only 0.2% of all users in the dataset.\n",
    "\n",
    "Those users are not physical people but companies providing the service or this is sign of fraud?"
   ]
  },
  {
   "cell_type": "markdown",
   "id": "541c2f2a-975a-4587-9f8c-d9ad56f7cb0a",
   "metadata": {},
   "source": [
    "#### Let's analyze how many users use 1, 2, 3 ... devices"
   ]
  },
  {
   "cell_type": "code",
   "execution_count": 26,
   "id": "56812019-b1b9-4896-816e-7278de35a502",
   "metadata": {},
   "outputs": [],
   "source": [
    "n_users_per_ndev = n_devices_per_user.groupby('n_devices', as_index=False).count().sort_values(\n",
    "    'user_id', ascending = False).rename(columns = {'user_id':'n_users'})\n",
    "n_users_per_ndev.reset_index(drop = True, inplace = True)"
   ]
  },
  {
   "cell_type": "code",
   "execution_count": 27,
   "id": "3a591863-9db1-47e5-8036-5e96bbab7064",
   "metadata": {},
   "outputs": [
    {
     "data": {
      "text/html": [
       "<div>\n",
       "<style scoped>\n",
       "    .dataframe tbody tr th:only-of-type {\n",
       "        vertical-align: middle;\n",
       "    }\n",
       "\n",
       "    .dataframe tbody tr th {\n",
       "        vertical-align: top;\n",
       "    }\n",
       "\n",
       "    .dataframe thead th {\n",
       "        text-align: right;\n",
       "    }\n",
       "</style>\n",
       "<table border=\"1\" class=\"dataframe\">\n",
       "  <thead>\n",
       "    <tr style=\"text-align: right;\">\n",
       "      <th></th>\n",
       "      <th>n_devices</th>\n",
       "      <th>n_users</th>\n",
       "    </tr>\n",
       "  </thead>\n",
       "  <tbody>\n",
       "    <tr>\n",
       "      <th>0</th>\n",
       "      <td>3</td>\n",
       "      <td>5954</td>\n",
       "    </tr>\n",
       "    <tr>\n",
       "      <th>1</th>\n",
       "      <td>2</td>\n",
       "      <td>5853</td>\n",
       "    </tr>\n",
       "    <tr>\n",
       "      <th>2</th>\n",
       "      <td>4</td>\n",
       "      <td>5532</td>\n",
       "    </tr>\n",
       "  </tbody>\n",
       "</table>\n",
       "</div>"
      ],
      "text/plain": [
       "   n_devices  n_users\n",
       "0          3     5954\n",
       "1          2     5853\n",
       "2          4     5532"
      ]
     },
     "execution_count": 27,
     "metadata": {},
     "output_type": "execute_result"
    }
   ],
   "source": [
    "n_users_per_ndev.head(3)"
   ]
  },
  {
   "cell_type": "code",
   "execution_count": 28,
   "id": "0f8256b9-9f65-4345-95ce-2708d717576a",
   "metadata": {},
   "outputs": [
    {
     "data": {
      "image/png": "[encoded data removed]",
      "text/plain": [
       "<Figure size 1200x300 with 1 Axes>"
      ]
     },
     "metadata": {},
     "output_type": "display_data"
    }
   ],
   "source": [
    "plt.figure(figsize = (12,3))\n",
    "sns.barplot(data = n_users_per_ndev.query('n_devices < 50'), x = 'n_devices', y = 'n_users')\n",
    "plt.show()"
   ]
  },
  {
   "cell_type": "markdown",
   "id": "10581f2b-73e8-46f6-8027-d3916d290b79",
   "metadata": {},
   "source": [
    "**Findings:**  \n",
    "a) Usage of 3 devices and then 2 devices are the most frequent cases.  \n",
    "b) Then, the distribution of n_users by number of devices declines smoothly.\n",
    "\n",
    "**Thoughts & Question:**  \n",
    "I can assume what reasons (different gadgets, new ones, trading from corporate computer ...) are behind the number of devices used by a user from 2 to 5 and even up to 5-10 devices but by now it's not clear what reason is behind usage of 10+ devices by a user except the cases mentioned above ... "
   ]
  },
  {
   "cell_type": "markdown",
   "id": "e6dc722e-171c-4488-9b97-33f0d85a2bee",
   "metadata": {},
   "source": [
    "#### Do we have different users using same devices?"
   ]
  },
  {
   "cell_type": "code",
   "execution_count": 29,
   "id": "11fdc41c-6b99-4782-83ac-4b4b14bb4ebc",
   "metadata": {},
   "outputs": [
    {
     "data": {
      "text/html": [
       "<div>\n",
       "<style scoped>\n",
       "    .dataframe tbody tr th:only-of-type {\n",
       "        vertical-align: middle;\n",
       "    }\n",
       "\n",
       "    .dataframe tbody tr th {\n",
       "        vertical-align: top;\n",
       "    }\n",
       "\n",
       "    .dataframe thead th {\n",
       "        text-align: right;\n",
       "    }\n",
       "</style>\n",
       "<table border=\"1\" class=\"dataframe\">\n",
       "  <thead>\n",
       "    <tr style=\"text-align: right;\">\n",
       "      <th></th>\n",
       "      <th>device_id</th>\n",
       "      <th>n_users_same_dev</th>\n",
       "    </tr>\n",
       "  </thead>\n",
       "  <tbody>\n",
       "    <tr>\n",
       "      <th>0</th>\n",
       "      <td>3cced232-d792-40e3-bdc7-ddff4ac02693</td>\n",
       "      <td>133</td>\n",
       "    </tr>\n",
       "    <tr>\n",
       "      <th>1</th>\n",
       "      <td>08000000-0000-0000-0000-000000000000</td>\n",
       "      <td>121</td>\n",
       "    </tr>\n",
       "    <tr>\n",
       "      <th>2</th>\n",
       "      <td>PtX2Y9zTfhULD7QHCr07</td>\n",
       "      <td>68</td>\n",
       "    </tr>\n",
       "    <tr>\n",
       "      <th>3</th>\n",
       "      <td>3BC2D0F6-0DFE-5A64-BF98-31810536B53E</td>\n",
       "      <td>67</td>\n",
       "    </tr>\n",
       "    <tr>\n",
       "      <th>4</th>\n",
       "      <td>66210d5f-a85d-4e60-bae8-cb68de27029f</td>\n",
       "      <td>52</td>\n",
       "    </tr>\n",
       "  </tbody>\n",
       "</table>\n",
       "</div>"
      ],
      "text/plain": [
       "                              device_id  n_users_same_dev\n",
       "0  3cced232-d792-40e3-bdc7-ddff4ac02693               133\n",
       "1  08000000-0000-0000-0000-000000000000               121\n",
       "2                  PtX2Y9zTfhULD7QHCr07                68\n",
       "3  3BC2D0F6-0DFE-5A64-BF98-31810536B53E                67\n",
       "4  66210d5f-a85d-4e60-bae8-cb68de27029f                52"
      ]
     },
     "execution_count": 29,
     "metadata": {},
     "output_type": "execute_result"
    }
   ],
   "source": [
    "df_same_dev = df_ids.groupby('device_id', as_index=False).count().sort_values('user_id', ascending = False).reset_index(drop = True)\n",
    "df_same_dev.rename(columns = {'user_id':'n_users_same_dev'}, inplace = True)\n",
    "df_same_dev.head()"
   ]
  },
  {
   "cell_type": "markdown",
   "id": "31c61872-b086-4099-96cf-cdc3f9f0ca1a",
   "metadata": {},
   "source": [
    "This is strange that many different users use same devices ... that can be sign of fraud.  \n",
    "\n",
    "Let's mark users using same devices together with number of devices per user at the final dataframe to be used for ML analysis "
   ]
  },
  {
   "cell_type": "code",
   "execution_count": 30,
   "id": "8ac92e99-29aa-4bc0-ae02-25af981f4e59",
   "metadata": {},
   "outputs": [],
   "source": [
    "temp = df_ids.merge(df_same_dev, how = 'left', on = 'device_id')"
   ]
  },
  {
   "cell_type": "code",
   "execution_count": 31,
   "id": "48d9af2e-9575-4666-a5ea-79cd182a6705",
   "metadata": {},
   "outputs": [],
   "source": [
    "temp = temp.groupby('user_id', as_index=False).agg({'device_id':'count', 'n_users_same_dev':'unique'})\n",
    "temp['n_users_same_dev'] = temp['n_users_same_dev'].apply(lambda x: x[0])\n",
    "temp.rename(columns = {'device_id':'n_devices'}, inplace = True)"
   ]
  },
  {
   "cell_type": "code",
   "execution_count": 32,
   "id": "5d1aef89-8556-49b0-b39f-e51053f006e7",
   "metadata": {},
   "outputs": [
    {
     "data": {
      "text/html": [
       "<div>\n",
       "<style scoped>\n",
       "    .dataframe tbody tr th:only-of-type {\n",
       "        vertical-align: middle;\n",
       "    }\n",
       "\n",
       "    .dataframe tbody tr th {\n",
       "        vertical-align: top;\n",
       "    }\n",
       "\n",
       "    .dataframe thead th {\n",
       "        text-align: right;\n",
       "    }\n",
       "</style>\n",
       "<table border=\"1\" class=\"dataframe\">\n",
       "  <thead>\n",
       "    <tr style=\"text-align: right;\">\n",
       "      <th></th>\n",
       "      <th>user_id</th>\n",
       "      <th>n_devices</th>\n",
       "      <th>n_users_same_dev</th>\n",
       "    </tr>\n",
       "  </thead>\n",
       "  <tbody>\n",
       "    <tr>\n",
       "      <th>0</th>\n",
       "      <td>2352922</td>\n",
       "      <td>9</td>\n",
       "      <td>1</td>\n",
       "    </tr>\n",
       "    <tr>\n",
       "      <th>1</th>\n",
       "      <td>2850718</td>\n",
       "      <td>149</td>\n",
       "      <td>1</td>\n",
       "    </tr>\n",
       "    <tr>\n",
       "      <th>2</th>\n",
       "      <td>3283384</td>\n",
       "      <td>11</td>\n",
       "      <td>1</td>\n",
       "    </tr>\n",
       "    <tr>\n",
       "      <th>3</th>\n",
       "      <td>3726424</td>\n",
       "      <td>64</td>\n",
       "      <td>1</td>\n",
       "    </tr>\n",
       "    <tr>\n",
       "      <th>4</th>\n",
       "      <td>3994731</td>\n",
       "      <td>1</td>\n",
       "      <td>6</td>\n",
       "    </tr>\n",
       "  </tbody>\n",
       "</table>\n",
       "</div>"
      ],
      "text/plain": [
       "   user_id  n_devices  n_users_same_dev\n",
       "0  2352922          9                 1\n",
       "1  2850718        149                 1\n",
       "2  3283384         11                 1\n",
       "3  3726424         64                 1\n",
       "4  3994731          1                 6"
      ]
     },
     "execution_count": 32,
     "metadata": {},
     "output_type": "execute_result"
    }
   ],
   "source": [
    "temp.head()"
   ]
  },
  {
   "cell_type": "markdown",
   "id": "4ef3e26d-4416-41d8-bc76-143b63d29886",
   "metadata": {},
   "source": [
    "#### At temp dataframe we can see number of devices used by each user_id and number of user_id(s) using same device_id. For example, user_id = 3994731 use the same device_id used by another 5 user_id(s), so, totally, same device_is is used by 6 different accounts."
   ]
  },
  {
   "cell_type": "markdown",
   "id": "efd9f9d4-cf5d-4e2f-b7cf-2ea8f8351015",
   "metadata": {},
   "source": [
    "#### Let's analyze the distribution of trades by hour"
   ]
  },
  {
   "cell_type": "code",
   "execution_count": 33,
   "id": "f64b35dd-b801-47d2-9d4a-3a17fcc96fe5",
   "metadata": {
    "scrolled": true
   },
   "outputs": [
    {
     "data": {
      "image/png": "[encoded data removed]",
      "text/plain": [
       "<Figure size 500x300 with 1 Axes>"
      ]
     },
     "metadata": {},
     "output_type": "display_data"
    }
   ],
   "source": [
    "df_trade['hour'] = df_trade['create_at'].dt.hour\n",
    "counts = df_trade.groupby('hour')['id'].count()\n",
    "plt.bar(counts.index, counts.values)\n",
    "plt.xlabel('hour')\n",
    "plt.ylabel('number of trades')\n",
    "plt.title('Trades distribution by hour')\n",
    "plt.show()"
   ]
  },
  {
   "cell_type": "code",
   "execution_count": 34,
   "id": "581edc67-84c5-4fb7-a552-14cfc6733196",
   "metadata": {
    "scrolled": true
   },
   "outputs": [
    {
     "data": {
      "image/png": "[encoded data removed]",
      "text/plain": [
       "<Figure size 500x300 with 1 Axes>"
      ]
     },
     "metadata": {},
     "output_type": "display_data"
    }
   ],
   "source": [
    "df_trade['hour_close'] = df_trade['close_at'].dt.hour\n",
    "counts = df_trade.groupby('hour_close')['id'].count()\n",
    "plt.bar(counts.index, counts.values)\n",
    "plt.xlabel('hour_close')\n",
    "plt.ylabel('number of trades')\n",
    "plt.title('Trades distribution by close hour')\n",
    "plt.show()"
   ]
  },
  {
   "cell_type": "markdown",
   "id": "5a2a228d-24ff-467c-98bc-fc41616f3248",
   "metadata": {},
   "source": [
    "#### **Findings:**  \n",
    "a) There is no visual difference between create_at and close_at as expected as we deal with short-term options,  \n",
    "b) The most active hours for trading are from 12 to 20 hours (actually, from 12:00 till 20:59),  \n",
    "c) Next activity level can be observed at the periods from 0:00 till 4:59 (df.hours from 0 to 4),  \n",
    "d) Almost \"silence\" period is from 5:00 till 8:59 (df.hours from 5 to 8),  \n",
    "\n",
    "Further I will add the column with the characteristics for every trade showing above levels of trade activity: 3 for high, 2 for middle, 1 for low for fraud analysis as some fraud trades can be executed when the activity is low and low attention from supervisors exists. Afterhand I will count for each user how many trades were executed at high-level period, middle-level and low-level-periods."
   ]
  },
  {
   "cell_type": "code",
   "execution_count": 35,
   "id": "71cf4f00-6178-44d2-bbbc-ed4768590bb4",
   "metadata": {},
   "outputs": [],
   "source": [
    "high_act = [12, 13, 14, 15, 16, 17, 18, 19, 20]\n",
    "middle_act = [0, 1, 2, 3, 4, 9, 10, 11, 21, 22, 23]\n",
    "low_act = [5, 6, 7, 8]"
   ]
  },
  {
   "cell_type": "code",
   "execution_count": 36,
   "id": "ecbfca6c-7e19-48ff-9c7b-e219f43d04eb",
   "metadata": {},
   "outputs": [],
   "source": [
    "df_trade['act_level'] = df_trade['hour'].apply(lambda x: 3 if x in high_act else 2 if x in middle_act else 1)"
   ]
  },
  {
   "cell_type": "code",
   "execution_count": 37,
   "id": "32c64a5c-04cf-4b6f-a191-20c01ab7917a",
   "metadata": {},
   "outputs": [],
   "source": [
    "del df_trade['hour'], df_trade['hour_close']"
   ]
  },
  {
   "cell_type": "code",
   "execution_count": 38,
   "id": "79561c26-9b30-4d52-b590-6b6cf33e077b",
   "metadata": {},
   "outputs": [
    {
     "name": "stdout",
     "output_type": "stream",
     "text": [
      "id                       \tNumber of unique items:1764494\t % of total rows: 100.0%\n",
      "user_id                  \tNumber of unique items:  81726\t % of total rows:   4.6%\n",
      "registration_date        \tNumber of unique items:  81726\t % of total rows:   4.6%\n",
      "fin_instrument           \tNumber of unique items:      5\t % of total rows:   0.0%\n",
      "instrument_type          \tNumber of unique items:      2\t % of total rows:   0.0%\n",
      "instrument_direction     \tNumber of unique items:      2\t % of total rows:   0.0%\n",
      "create_at                \tNumber of unique items:1736398\t % of total rows:  98.4%\n",
      "close_at                 \tNumber of unique items: 104679\t % of total rows:   5.9%\n",
      "instrument_expiration    \tNumber of unique items:  17980\t % of total rows:   1.0%\n",
      "close_reason             \tNumber of unique items:      3\t % of total rows:   0.0%\n",
      "platform                 \tNumber of unique items:     20\t % of total rows:   0.0%\n",
      "open_quote               \tNumber of unique items: 577557\t % of total rows:  32.7%\n",
      "close_quote              \tNumber of unique items:  85933\t % of total rows:   4.9%\n",
      "instrument_strike        \tNumber of unique items: 578642\t % of total rows:  32.8%\n",
      "initial_investment_enrolled\tNumber of unique items: 214957\t % of total rows:  12.2%\n",
      "pnl_total_enrolled       \tNumber of unique items: 529599\t % of total rows:  30.0%\n",
      "act_level                \tNumber of unique items:      3\t % of total rows:   0.0%\n"
     ]
    }
   ],
   "source": [
    "# just to see some statistics\n",
    "for i in list(df_trade.columns):\n",
    "    print(f\"{i:25}\\tNumber of unique items:{df_trade[i].nunique():7}\\t % of total rows:{round(100*df_trade[i].nunique()/df_trade.shape[0],1):6}%\")"
   ]
  },
  {
   "cell_type": "markdown",
   "id": "1b10eef7-3a67-45c3-920c-3b8c16556eb5",
   "metadata": {},
   "source": [
    "#### Let's have a look at categorical features:"
   ]
  },
  {
   "cell_type": "code",
   "execution_count": 39,
   "id": "71addedd-1815-4570-a297-b7931c26df89",
   "metadata": {},
   "outputs": [
    {
     "data": {
      "image/png": "[encoded data removed]",
      "text/plain": [
       "<Figure size 800x500 with 4 Axes>"
      ]
     },
     "metadata": {},
     "output_type": "display_data"
    }
   ],
   "source": [
    "fig, axes = plt.subplots(nrows = 2, ncols = 2, figsize=(8,5))\n",
    "sns.countplot(data = df_trade, x = 'fin_instrument', ax = axes[0,0])\n",
    "axes[0,0].set_title('Number of rows by a fin_instrument')\n",
    "sns.countplot(data = df_trade, x = 'instrument_type', ax = axes[0,1])\n",
    "axes[0,1].set_title('Number of rows by instrument type')\n",
    "sns.countplot(data = df_trade, x = 'instrument_direction', ax = axes[1,0])\n",
    "axes[1,0].set_title('Number of rows by instrument_direction type')\n",
    "sns.countplot(data = df_trade, x = 'close_reason', ax = axes[1,1])\n",
    "axes[1,1].set_title('Number of rows by close_reason type')\n",
    "plt.tight_layout()\n",
    "plt.show()"
   ]
  },
  {
   "cell_type": "markdown",
   "id": "e4a917c0-8373-463b-8e3a-23eb285379ce",
   "metadata": {},
   "source": [
    "**Findings:**  \n",
    "a) The biggest number of trades was executed with XRPUSD.  \n",
    "b) Digital options were more popular vs. turbo options.  \n",
    "c) Numbers of call and put options were almost the same."
   ]
  },
  {
   "cell_type": "code",
   "execution_count": 40,
   "id": "c90bdcf6-7e5f-4071-b8c9-0ff17bd7e759",
   "metadata": {},
   "outputs": [],
   "source": [
    "from collections import Counter\n",
    "counter = Counter(df_trade.platform)\n",
    "order = [value[0] for value in counter.most_common()]#[::-1]"
   ]
  },
  {
   "cell_type": "code",
   "execution_count": 41,
   "id": "cb46c938-db5e-4d05-9d35-e40b400448e1",
   "metadata": {},
   "outputs": [
    {
     "data": {
      "image/png": "[encoded data removed]",
      "text/plain": [
       "<Figure size 1200x300 with 1 Axes>"
      ]
     },
     "metadata": {},
     "output_type": "display_data"
    }
   ],
   "source": [
    "plt.figure(figsize = (12,3))\n",
    "sns.countplot(data = df_trade, x = 'platform', order = order, palette = 'plasma')\n",
    "plt.xticks(rotation = 90)\n",
    "plt.title('Platforms split')\n",
    "plt.show()"
   ]
  },
  {
   "cell_type": "markdown",
   "id": "4b621188-e9ed-475d-9ed3-dc36c34cf71e",
   "metadata": {},
   "source": [
    "**Findings:**  \n",
    "a) Top 3 platforms are WinGL, Android, WebGL.  \n",
    "b) Unknown platform is in 4th place."
   ]
  },
  {
   "cell_type": "markdown",
   "id": "901623eb-ef43-4247-aaaf-ad856132826c",
   "metadata": {},
   "source": [
    "### Let's merge temp dataframe with number of devices and numbers of user_id(s) using same devices with df_trade and investigate new dataframe"
   ]
  },
  {
   "cell_type": "code",
   "execution_count": 42,
   "id": "6a3d9d47-5d01-4791-8808-bd57734e1bd2",
   "metadata": {},
   "outputs": [],
   "source": [
    "df = df_trade.merge(temp, how = 'left', on = 'user_id')"
   ]
  },
  {
   "cell_type": "code",
   "execution_count": 43,
   "id": "957f4e29-a216-41e9-a03a-e58d9fe3a96a",
   "metadata": {},
   "outputs": [
    {
     "data": {
      "text/html": [
       "<div>\n",
       "<style scoped>\n",
       "    .dataframe tbody tr th:only-of-type {\n",
       "        vertical-align: middle;\n",
       "    }\n",
       "\n",
       "    .dataframe tbody tr th {\n",
       "        vertical-align: top;\n",
       "    }\n",
       "\n",
       "    .dataframe thead th {\n",
       "        text-align: right;\n",
       "    }\n",
       "</style>\n",
       "<table border=\"1\" class=\"dataframe\">\n",
       "  <thead>\n",
       "    <tr style=\"text-align: right;\">\n",
       "      <th></th>\n",
       "      <th>id</th>\n",
       "      <th>user_id</th>\n",
       "      <th>registration_date</th>\n",
       "      <th>fin_instrument</th>\n",
       "      <th>instrument_type</th>\n",
       "      <th>instrument_direction</th>\n",
       "      <th>create_at</th>\n",
       "      <th>close_at</th>\n",
       "      <th>instrument_expiration</th>\n",
       "      <th>close_reason</th>\n",
       "      <th>platform</th>\n",
       "      <th>open_quote</th>\n",
       "      <th>close_quote</th>\n",
       "      <th>instrument_strike</th>\n",
       "      <th>initial_investment_enrolled</th>\n",
       "      <th>pnl_total_enrolled</th>\n",
       "      <th>act_level</th>\n",
       "      <th>n_devices</th>\n",
       "      <th>n_users_same_dev</th>\n",
       "    </tr>\n",
       "  </thead>\n",
       "  <tbody>\n",
       "    <tr>\n",
       "      <th>0</th>\n",
       "      <td>9653594472</td>\n",
       "      <td>585118157</td>\n",
       "      <td>2019-04-05 17:12:46.000000</td>\n",
       "      <td>XRPUSD</td>\n",
       "      <td>turbo-option</td>\n",
       "      <td>call</td>\n",
       "      <td>2022-06-17 19:41:03.216000+00:00</td>\n",
       "      <td>2022-06-17 19:42:00+00:00</td>\n",
       "      <td>2022-06-17 19:42:00+00:00</td>\n",
       "      <td>expired</td>\n",
       "      <td>Unknown platform</td>\n",
       "      <td>0.314705</td>\n",
       "      <td>0.314955</td>\n",
       "      <td>0.314705</td>\n",
       "      <td>22.610000</td>\n",
       "      <td>19.210000</td>\n",
       "      <td>3</td>\n",
       "      <td>21.0</td>\n",
       "      <td>1.0</td>\n",
       "    </tr>\n",
       "    <tr>\n",
       "      <th>1</th>\n",
       "      <td>9641975390</td>\n",
       "      <td>1456695825</td>\n",
       "      <td>2021-08-12 02:28:57.928101</td>\n",
       "      <td>XRPUSD</td>\n",
       "      <td>turbo-option</td>\n",
       "      <td>call</td>\n",
       "      <td>2022-06-14 00:23:15.137000+00:00</td>\n",
       "      <td>2022-06-14 00:24:00+00:00</td>\n",
       "      <td>2022-06-14 00:24:00+00:00</td>\n",
       "      <td>expired</td>\n",
       "      <td>WebGL</td>\n",
       "      <td>0.308125</td>\n",
       "      <td>0.307895</td>\n",
       "      <td>0.308125</td>\n",
       "      <td>0.390000</td>\n",
       "      <td>-0.390000</td>\n",
       "      <td>2</td>\n",
       "      <td>15.0</td>\n",
       "      <td>1.0</td>\n",
       "    </tr>\n",
       "    <tr>\n",
       "      <th>2</th>\n",
       "      <td>15634194734</td>\n",
       "      <td>220188644</td>\n",
       "      <td>2017-03-25 01:22:50.000000</td>\n",
       "      <td>XRPUSD</td>\n",
       "      <td>digital-option</td>\n",
       "      <td>call</td>\n",
       "      <td>2022-06-13 20:18:13.091000+00:00</td>\n",
       "      <td>2022-06-13 20:19:00+00:00</td>\n",
       "      <td>2022-06-13 20:19:00+00:00</td>\n",
       "      <td>expired</td>\n",
       "      <td>WinGL</td>\n",
       "      <td>0.323725</td>\n",
       "      <td>0.323695</td>\n",
       "      <td>0.323725</td>\n",
       "      <td>0.391288</td>\n",
       "      <td>-0.391288</td>\n",
       "      <td>3</td>\n",
       "      <td>351.0</td>\n",
       "      <td>1.0</td>\n",
       "    </tr>\n",
       "  </tbody>\n",
       "</table>\n",
       "</div>"
      ],
      "text/plain": [
       "            id     user_id          registration_date fin_instrument  \\\n",
       "0   9653594472   585118157 2019-04-05 17:12:46.000000         XRPUSD   \n",
       "1   9641975390  1456695825 2021-08-12 02:28:57.928101         XRPUSD   \n",
       "2  15634194734   220188644 2017-03-25 01:22:50.000000         XRPUSD   \n",
       "\n",
       "  instrument_type instrument_direction                        create_at  \\\n",
       "0    turbo-option                 call 2022-06-17 19:41:03.216000+00:00   \n",
       "1    turbo-option                 call 2022-06-14 00:23:15.137000+00:00   \n",
       "2  digital-option                 call 2022-06-13 20:18:13.091000+00:00   \n",
       "\n",
       "                   close_at     instrument_expiration close_reason  \\\n",
       "0 2022-06-17 19:42:00+00:00 2022-06-17 19:42:00+00:00      expired   \n",
       "1 2022-06-14 00:24:00+00:00 2022-06-14 00:24:00+00:00      expired   \n",
       "2 2022-06-13 20:19:00+00:00 2022-06-13 20:19:00+00:00      expired   \n",
       "\n",
       "           platform  open_quote  close_quote  instrument_strike  \\\n",
       "0  Unknown platform    0.314705     0.314955           0.314705   \n",
       "1             WebGL    0.308125     0.307895           0.308125   \n",
       "2             WinGL    0.323725     0.323695           0.323725   \n",
       "\n",
       "   initial_investment_enrolled  pnl_total_enrolled  act_level  n_devices  \\\n",
       "0                    22.610000           19.210000          3       21.0   \n",
       "1                     0.390000           -0.390000          2       15.0   \n",
       "2                     0.391288           -0.391288          3      351.0   \n",
       "\n",
       "   n_users_same_dev  \n",
       "0               1.0  \n",
       "1               1.0  \n",
       "2               1.0  "
      ]
     },
     "execution_count": 43,
     "metadata": {},
     "output_type": "execute_result"
    }
   ],
   "source": [
    "df.head(3)"
   ]
  },
  {
   "cell_type": "code",
   "execution_count": 44,
   "id": "c4497668-caa9-4ce3-b11d-416d6d773b68",
   "metadata": {},
   "outputs": [],
   "source": [
    "# let's replace all NaN in the columns: n_devices and n_users_same_dev by 0s as we don't have the info about 720 user ids.\n",
    "df['n_devices'].fillna(0, inplace=True)\n",
    "df['n_users_same_dev'].fillna(0, inplace=True)"
   ]
  },
  {
   "cell_type": "markdown",
   "id": "c6c7ce23-a2bc-42c0-a135-e75d31291a02",
   "metadata": {},
   "source": [
    "#### Let's investigate pnl and number of wins (profitable trades) vs losses"
   ]
  },
  {
   "cell_type": "code",
   "execution_count": 45,
   "id": "5f82dc99-b9fb-4d85-a2e6-2113b7368647",
   "metadata": {},
   "outputs": [],
   "source": [
    "temp = df[['user_id','pnl_total_enrolled']].sort_values('pnl_total_enrolled', ascending = False)\n",
    "temp['win'] = temp['pnl_total_enrolled'].apply(lambda x: 1 if x>0 else -1) # assign 1 for positive trade and -1 for negative trade\n",
    "temp = temp.groupby('user_id', as_index = False).agg({'pnl_total_enrolled':'sum', 'win':'sum'}).rename(columns = {'pnl_total_enrolled':'pnl_total', 'win':'n_wins'})"
   ]
  },
  {
   "cell_type": "code",
   "execution_count": 46,
   "id": "f964eae0-ea81-4e0c-8fee-f805bc161eec",
   "metadata": {},
   "outputs": [
    {
     "data": {
      "text/html": [
       "<div>\n",
       "<style scoped>\n",
       "    .dataframe tbody tr th:only-of-type {\n",
       "        vertical-align: middle;\n",
       "    }\n",
       "\n",
       "    .dataframe tbody tr th {\n",
       "        vertical-align: top;\n",
       "    }\n",
       "\n",
       "    .dataframe thead th {\n",
       "        text-align: right;\n",
       "    }\n",
       "</style>\n",
       "<table border=\"1\" class=\"dataframe\">\n",
       "  <thead>\n",
       "    <tr style=\"text-align: right;\">\n",
       "      <th></th>\n",
       "      <th>pnl_total</th>\n",
       "      <th>n_wins</th>\n",
       "    </tr>\n",
       "  </thead>\n",
       "  <tbody>\n",
       "    <tr>\n",
       "      <th>count</th>\n",
       "      <td>81726.000000</td>\n",
       "      <td>81726.000000</td>\n",
       "    </tr>\n",
       "    <tr>\n",
       "      <th>mean</th>\n",
       "      <td>12.957315</td>\n",
       "      <td>0.621344</td>\n",
       "    </tr>\n",
       "    <tr>\n",
       "      <th>std</th>\n",
       "      <td>359.739658</td>\n",
       "      <td>23.896946</td>\n",
       "    </tr>\n",
       "    <tr>\n",
       "      <th>min</th>\n",
       "      <td>-3215.437469</td>\n",
       "      <td>-4972.000000</td>\n",
       "    </tr>\n",
       "    <tr>\n",
       "      <th>25%</th>\n",
       "      <td>-2.701822</td>\n",
       "      <td>-2.000000</td>\n",
       "    </tr>\n",
       "    <tr>\n",
       "      <th>50%</th>\n",
       "      <td>-0.374824</td>\n",
       "      <td>0.000000</td>\n",
       "    </tr>\n",
       "    <tr>\n",
       "      <th>75%</th>\n",
       "      <td>1.640278</td>\n",
       "      <td>2.000000</td>\n",
       "    </tr>\n",
       "    <tr>\n",
       "      <th>max</th>\n",
       "      <td>25270.761223</td>\n",
       "      <td>1402.000000</td>\n",
       "    </tr>\n",
       "  </tbody>\n",
       "</table>\n",
       "</div>"
      ],
      "text/plain": [
       "          pnl_total        n_wins\n",
       "count  81726.000000  81726.000000\n",
       "mean      12.957315      0.621344\n",
       "std      359.739658     23.896946\n",
       "min    -3215.437469  -4972.000000\n",
       "25%       -2.701822     -2.000000\n",
       "50%       -0.374824      0.000000\n",
       "75%        1.640278      2.000000\n",
       "max    25270.761223   1402.000000"
      ]
     },
     "execution_count": 46,
     "metadata": {},
     "output_type": "execute_result"
    }
   ],
   "source": [
    "temp[['pnl_total','n_wins']].describe()"
   ]
  },
  {
   "cell_type": "code",
   "execution_count": 47,
   "id": "4b821d74-24c1-4e39-8139-7c335211fc4e",
   "metadata": {},
   "outputs": [
    {
     "data": {
      "image/png": "[encoded data removed]",
      "text/plain": [
       "<Figure size 500x300 with 1 Axes>"
      ]
     },
     "metadata": {},
     "output_type": "display_data"
    }
   ],
   "source": [
    "sns.scatterplot(data = temp, x = 'user_id', y = 'n_wins')\n",
    "plt.show()"
   ]
  },
  {
   "cell_type": "markdown",
   "id": "7cc538a7-9e00-4c40-9130-ca54910247a3",
   "metadata": {},
   "source": [
    "#### **Findings:**  \n",
    "a) there are clear outliers with number of wins and total pnl above 75% percentile.  \n",
    "b) The most of users in terms of number of wins (sum of 1s and -1s) are between -2 and 2.  \n",
    "b) It's interesting that 75% percentile of pnl_total is less than 25% percentile in absolute value that may say that there are some users with very high earnings."
   ]
  },
  {
   "cell_type": "markdown",
   "id": "fe9c0070-266a-4414-93c5-35a79de6591f",
   "metadata": {},
   "source": [
    "## 2. ML Modeling: adding new features."
   ]
  },
  {
   "cell_type": "markdown",
   "id": "79a6f1d0-6aa4-4d87-a75d-57f426c14e36",
   "metadata": {},
   "source": [
    "#### Let's add as extra column numbers of trades by a user."
   ]
  },
  {
   "cell_type": "code",
   "execution_count": 48,
   "id": "92df32e8-502e-451e-a247-56eb0c02ee29",
   "metadata": {},
   "outputs": [],
   "source": [
    "df = df.merge(df.groupby('user_id', as_index = False).agg({'id':'count'}).\\\n",
    "        sort_values('id', ascending = False).rename(columns = {'id':'n_trades'}), how = 'left', on = 'user_id')"
   ]
  },
  {
   "cell_type": "markdown",
   "id": "4e89289c-f934-4b59-a5a4-4370cec8084d",
   "metadata": {},
   "source": [
    "#### Let's add count of used calls and puts by a user as extra column and replace NaNs by 0s."
   ]
  },
  {
   "cell_type": "code",
   "execution_count": 49,
   "id": "54a5d893-accc-44b1-94c0-f9bb68e6d9f6",
   "metadata": {},
   "outputs": [],
   "source": [
    "df = df.merge(df.query('instrument_direction == \"put\"').groupby('user_id', as_index = False)['id'].count().\\\n",
    "        rename(columns = {'id':'n_put'}), how = 'left', on = 'user_id')\n",
    "df = df.merge(df.query('instrument_direction == \"call\"').groupby('user_id', as_index = False)['id'].count().\\\n",
    "        rename(columns = {'id':'n_call'}), how = 'left', on = 'user_id')\n",
    "df['n_put'].fillna(0, inplace=True)\n",
    "df['n_call'].fillna(0, inplace=True)"
   ]
  },
  {
   "cell_type": "markdown",
   "id": "a00277ad-73a6-4ade-9bb7-b2ffbe4a169c",
   "metadata": {},
   "source": [
    "#### Let's add count of used instrument types by a user as extra column and replace NaNs by 0s."
   ]
  },
  {
   "cell_type": "code",
   "execution_count": 50,
   "id": "a2fc331b-a094-4574-a783-e95c9216b9d1",
   "metadata": {},
   "outputs": [],
   "source": [
    "df = df.merge(df.query('instrument_type == \"turbo-option\"').groupby('user_id', as_index = False)['id'].count().\\\n",
    "        rename(columns = {'id':'n_turbo'}),  how = 'left', on = 'user_id')\n",
    "df = df.merge(df.query('instrument_type == \"digital-option\"').groupby('user_id', as_index = False)['id'].count().\\\n",
    "        rename(columns = {'id':'n_digital'}),  how = 'left', on = 'user_id')\n",
    "df['n_turbo'].fillna(0, inplace=True)\n",
    "df['n_digital'].fillna(0, inplace=True)"
   ]
  },
  {
   "cell_type": "markdown",
   "id": "8677170e-ad22-4167-a136-a30678112487",
   "metadata": {},
   "source": [
    "#### Let's add count of used platforms by a user as extra column and replace NaNs by 0s."
   ]
  },
  {
   "cell_type": "code",
   "execution_count": 51,
   "id": "c134e4b2-50c6-4f08-8e19-b02e4f17d1ed",
   "metadata": {},
   "outputs": [],
   "source": [
    "ls_pl = list(df.platform.unique())"
   ]
  },
  {
   "cell_type": "code",
   "execution_count": 52,
   "id": "0d7aafe1-5c02-4927-b41a-bc3b3951bc8f",
   "metadata": {},
   "outputs": [],
   "source": [
    "for i in ls_pl:\n",
    "    df = df.merge(df.query('platform == @i').groupby('user_id', as_index = False)['id'].count().\\\n",
    "        rename(columns = {'id':'n_'+i}), how = 'left', on = 'user_id')\n",
    "    df['n_'+i].fillna(0, inplace=True)"
   ]
  },
  {
   "cell_type": "markdown",
   "id": "b2d14611-bafb-4894-9cc1-57e008270381",
   "metadata": {},
   "source": [
    "#### Let's add pnl_total and count of wins vs losses by a user from the temp dataframe above as extra column and replace NaNs by 0s."
   ]
  },
  {
   "cell_type": "code",
   "execution_count": 53,
   "id": "147c8dad-2d65-4479-89d7-aaef02b7dcb0",
   "metadata": {},
   "outputs": [],
   "source": [
    "df = df.merge(temp, how = 'left', on = 'user_id')\n",
    "df['pnl_total'].fillna(0, inplace=True)\n",
    "df['n_wins'].fillna(0, inplace=True)"
   ]
  },
  {
   "cell_type": "markdown",
   "id": "da8858d5-3582-498b-92d2-614b9acce537",
   "metadata": {},
   "source": [
    "#### Let's add total investment by a user as extra column."
   ]
  },
  {
   "cell_type": "code",
   "execution_count": 54,
   "id": "4d621b9a-3e42-412e-9ecd-b6f2d065547c",
   "metadata": {},
   "outputs": [],
   "source": [
    "df = df.merge(df.groupby('user_id', as_index = False).agg({'initial_investment_enrolled':'sum'}).\\\n",
    "sort_values('initial_investment_enrolled', ascending = False).rename(columns = {'initial_investment_enrolled':'total_investment'}),\\\n",
    "              how = 'left', on = 'user_id')\n",
    "df['total_investment'].fillna(0, inplace=True)"
   ]
  },
  {
   "cell_type": "markdown",
   "id": "de3d6f63-c4a4-4382-a89a-6bdb18652e73",
   "metadata": {},
   "source": [
    "#### Let's calculate the number of trade as per Activity level by a user as extra column and replace NaNs by 0s"
   ]
  },
  {
   "cell_type": "code",
   "execution_count": 55,
   "id": "47764b44-b372-4984-a7e1-015f5ff18b49",
   "metadata": {},
   "outputs": [],
   "source": [
    "df = df.merge(df.groupby('user_id', as_index = False).agg({'act_level':'count'}).\\\n",
    "        rename(columns = {'act_level':'n_act_level'}), how = 'left', on = 'user_id')\n",
    "df['n_act_level'].fillna(0, inplace=True)"
   ]
  },
  {
   "cell_type": "markdown",
   "id": "c983e3bb-01ad-4f32-bffd-f197f06c4c62",
   "metadata": {},
   "source": [
    "#### Let's add also a year of registration ... may be, there is some dependency on it"
   ]
  },
  {
   "cell_type": "code",
   "execution_count": 56,
   "id": "9de92264-ca0c-4673-a768-e348b67ec441",
   "metadata": {},
   "outputs": [],
   "source": [
    "df['reg_year'] = df['registration_date'].dt.year"
   ]
  },
  {
   "cell_type": "markdown",
   "id": "5008ef75-acc2-40eb-b13c-727745570d85",
   "metadata": {},
   "source": [
    "#### Preliminary dataframe with user_id and only needed features"
   ]
  },
  {
   "cell_type": "code",
   "execution_count": 58,
   "id": "3b230441-fde0-43ef-ad6f-c99ab9a71167",
   "metadata": {},
   "outputs": [],
   "source": [
    "df = df[['user_id', 'n_act_level', 'n_devices', 'n_users_same_dev',\n",
    "       'n_trades', 'n_put', 'n_call', 'n_turbo', 'n_digital',\n",
    "       'n_Unknown platform', 'n_WebGL', 'n_WinGL', 'n_Desktop Mobile',\n",
    "       'n_Android', 'n_IQ Option X', 'n_WEB_MOBILE', 'n_Ios',\n",
    "       'n_Android pwa for iqoption', 'n_MacGL', 'n_Ios CFD',\n",
    "       'n_Android Facebook', 'n_IQ Option Wallet Web', 'n_Android Vertical',\n",
    "       'n_CapitalBear.Android', 'n_IOS pwa for iqoption',\n",
    "       'n_CapitalBear.WebGL', 'n_CapitalBear.WinGL', 'n_Exnova.WebGL',\n",
    "       'n_CapitalBear.AndroidX', 'pnl_total', 'n_wins', 'total_investment',\n",
    "       'reg_year']]"
   ]
  },
  {
   "cell_type": "markdown",
   "id": "08ca6512-36f7-4bde-91a8-333db0de218a",
   "metadata": {},
   "source": [
    "#### We need to drop duplicates as we added features for every repeating row with user_id"
   ]
  },
  {
   "cell_type": "code",
   "execution_count": 60,
   "id": "70de5952-b01d-406f-b733-7c2963c4733a",
   "metadata": {},
   "outputs": [],
   "source": [
    "df.drop_duplicates(inplace = True)"
   ]
  },
  {
   "cell_type": "code",
   "execution_count": 62,
   "id": "2af3f73c-29d3-44e3-b5cb-3d41f0a0c043",
   "metadata": {},
   "outputs": [
    {
     "name": "stdout",
     "output_type": "stream",
     "text": [
      "<class 'pandas.core.frame.DataFrame'>\n",
      "Index: 81726 entries, 0 to 1764481\n",
      "Data columns (total 33 columns):\n",
      " #   Column                      Non-Null Count  Dtype  \n",
      "---  ------                      --------------  -----  \n",
      " 0   user_id                     81726 non-null  int64  \n",
      " 1   n_act_level                 81726 non-null  int64  \n",
      " 2   n_devices                   81726 non-null  float64\n",
      " 3   n_users_same_dev            81726 non-null  float64\n",
      " 4   n_trades                    81726 non-null  int64  \n",
      " 5   n_put                       81726 non-null  float64\n",
      " 6   n_call                      81726 non-null  float64\n",
      " 7   n_turbo                     81726 non-null  float64\n",
      " 8   n_digital                   81726 non-null  float64\n",
      " 9   n_Unknown platform          81726 non-null  float64\n",
      " 10  n_WebGL                     81726 non-null  float64\n",
      " 11  n_WinGL                     81726 non-null  float64\n",
      " 12  n_Desktop Mobile            81726 non-null  float64\n",
      " 13  n_Android                   81726 non-null  float64\n",
      " 14  n_IQ Option X               81726 non-null  float64\n",
      " 15  n_WEB_MOBILE                81726 non-null  float64\n",
      " 16  n_Ios                       81726 non-null  float64\n",
      " 17  n_Android pwa for iqoption  81726 non-null  float64\n",
      " 18  n_MacGL                     81726 non-null  float64\n",
      " 19  n_Ios CFD                   81726 non-null  float64\n",
      " 20  n_Android Facebook          81726 non-null  float64\n",
      " 21  n_IQ Option Wallet Web      81726 non-null  float64\n",
      " 22  n_Android Vertical          81726 non-null  float64\n",
      " 23  n_CapitalBear.Android       81726 non-null  float64\n",
      " 24  n_IOS pwa for iqoption      81726 non-null  float64\n",
      " 25  n_CapitalBear.WebGL         81726 non-null  float64\n",
      " 26  n_CapitalBear.WinGL         81726 non-null  float64\n",
      " 27  n_Exnova.WebGL              81726 non-null  float64\n",
      " 28  n_CapitalBear.AndroidX      81726 non-null  float64\n",
      " 29  pnl_total                   81726 non-null  float64\n",
      " 30  n_wins                      81726 non-null  int64  \n",
      " 31  total_investment            81726 non-null  float64\n",
      " 32  reg_year                    81726 non-null  int32  \n",
      "dtypes: float64(28), int32(1), int64(4)\n",
      "memory usage: 20.9 MB\n"
     ]
    }
   ],
   "source": [
    "df.info() # no NaNs and no objects. Number of rows is equal to the number of unique user_id(s)"
   ]
  },
  {
   "cell_type": "code",
   "execution_count": 63,
   "id": "c70adabe-eee8-41e7-b936-55446760db45",
   "metadata": {},
   "outputs": [],
   "source": [
    "df.reset_index(drop = True, inplace = True) # to fix the mess with indexes"
   ]
  },
  {
   "cell_type": "code",
   "execution_count": 64,
   "id": "c865a7b4-3e39-45d1-916c-028762eaee6c",
   "metadata": {},
   "outputs": [],
   "source": [
    "X = df.drop('user_id', axis = 1)"
   ]
  },
  {
   "cell_type": "code",
   "execution_count": 65,
   "id": "c33ca55b-e861-49fb-9b48-65c20fb08060",
   "metadata": {},
   "outputs": [],
   "source": [
    "from sklearn.preprocessing import MinMaxScaler"
   ]
  },
  {
   "cell_type": "code",
   "execution_count": 66,
   "id": "01ffdc8b-fa68-4e56-bb4a-c688d56e5858",
   "metadata": {},
   "outputs": [],
   "source": [
    "scaler = MinMaxScaler()"
   ]
  },
  {
   "cell_type": "code",
   "execution_count": 67,
   "id": "f690ef2f-5d89-46de-9ed1-8db233f894be",
   "metadata": {},
   "outputs": [],
   "source": [
    "X_scaled = scaler.fit_transform(X)"
   ]
  },
  {
   "cell_type": "code",
   "execution_count": 68,
   "id": "19de912b-e02d-4162-ae39-56cb91abc4fd",
   "metadata": {},
   "outputs": [],
   "source": [
    "from sklearn.cluster import KMeans"
   ]
  },
  {
   "cell_type": "markdown",
   "id": "307ac17f-f32c-4367-8852-6571ecc41748",
   "metadata": {
    "id": "iWfhUMk1o3f6"
   },
   "source": [
    "KMeans will minimize the sum of squared distances between objects of clusters and their centroids, the value is found in the inertia_. Let's calculate inertia values for different number of clusters. It should eager to some minimal value, ideally, to 0)."
   ]
  },
  {
   "cell_type": "code",
   "execution_count": 69,
   "id": "cd19b322-bf8e-461b-aec0-12ecf453d5f7",
   "metadata": {},
   "outputs": [],
   "source": [
    "k_inertia = []\n",
    "ks = range(1,11)\n",
    "\n",
    "for k in ks:\n",
    "    clf_kmeans = KMeans(n_clusters=k)\n",
    "    clusters_kmeans = clf_kmeans.fit_predict(X_scaled, )\n",
    "    k_inertia.append(clf_kmeans.inertia_)"
   ]
  },
  {
   "cell_type": "code",
   "execution_count": 70,
   "id": "88175401-4edd-4921-979f-406df07c3ade",
   "metadata": {
    "colab": {
     "base_uri": "https://localhost:8080/",
     "height": 554
    },
    "id": "2UlKITFqo3f8",
    "outputId": "5fc8f1c1-df30-42e1-a436-1f8fcbd9e30e"
   },
   "outputs": [
    {
     "data": {
      "text/plain": [
       "[<matplotlib.lines.Line2D at 0x28c971cb990>]"
      ]
     },
     "execution_count": 70,
     "metadata": {},
     "output_type": "execute_result"
    },
    {
     "data": {
      "image/png": "[encoded data removed]",
      "text/plain": [
       "<Figure size 500x300 with 1 Axes>"
      ]
     },
     "metadata": {},
     "output_type": "display_data"
    }
   ],
   "source": [
    "plt.plot(ks, k_inertia)"
   ]
  },
  {
   "cell_type": "code",
   "execution_count": 71,
   "id": "c0c24e24-45ba-431b-a293-8b0f5dc03150",
   "metadata": {},
   "outputs": [
    {
     "data": {
      "text/plain": [
       "[2224.4825245076477,\n",
       " 872.5703319051981,\n",
       " 493.2861308098436,\n",
       " 293.6627235522004,\n",
       " 204.40631488843033,\n",
       " 182.5069490216692,\n",
       " 164.46789680869358,\n",
       " 147.62509424480012,\n",
       " 134.10226309386485,\n",
       " 121.70883367178112]"
      ]
     },
     "execution_count": 71,
     "metadata": {},
     "output_type": "execute_result"
    }
   ],
   "source": [
    "k_inertia"
   ]
  },
  {
   "cell_type": "markdown",
   "id": "aa64d4a4-76e0-477f-b88e-35bb490af4bc",
   "metadata": {},
   "source": [
    "#### Let's choose optimal number of clusters as per change for k_inertia vs. previous value"
   ]
  },
  {
   "cell_type": "code",
   "execution_count": 72,
   "id": "e6183a46-7b44-4890-80ad-9490b3408369",
   "metadata": {
    "scrolled": true
   },
   "outputs": [
    {
     "data": {
      "text/plain": [
       "[<matplotlib.lines.Line2D at 0x28c971db1d0>]"
      ]
     },
     "execution_count": 72,
     "metadata": {},
     "output_type": "execute_result"
    },
    {
     "data": {
      "image/png": "[encoded data removed]",
      "text/plain": [
       "<Figure size 500x300 with 1 Axes>"
      ]
     },
     "metadata": {},
     "output_type": "display_data"
    }
   ],
   "source": [
    "diff = np.diff(k_inertia)\n",
    "plt.plot(ks[1:], diff)"
   ]
  },
  {
   "cell_type": "markdown",
   "id": "cf174a3d-b56e-4ab4-8087-2fcdee3841a4",
   "metadata": {},
   "source": [
    "#### We will use the formula below to find the optimal number"
   ]
  },
  {
   "cell_type": "markdown",
   "id": "1550bf2f-ec48-462c-8a1b-966202fa0308",
   "metadata": {
    "id": "KHTaBKlFo3f_"
   },
   "source": [
    "$$k_{opt} = argmin(\\frac{inertia_{k+1}-inertia_{k}}{inertia_{k}-inertia_{k-1}})$$"
   ]
  },
  {
   "cell_type": "code",
   "execution_count": 74,
   "id": "4effbae8-6eb2-4c4b-b599-5a417366351d",
   "metadata": {},
   "outputs": [
    {
     "data": {
      "image/png": "[encoded data removed]",
      "text/plain": [
       "<Figure size 500x300 with 1 Axes>"
      ]
     },
     "metadata": {},
     "output_type": "display_data"
    }
   ],
   "source": [
    "diff_r = diff[1:] / diff[:-1]\n",
    "plt.plot(ks[1:-1], diff_r)\n",
    "plt.show()"
   ]
  },
  {
   "cell_type": "code",
   "execution_count": 75,
   "id": "d29163aa-b321-4181-a40d-ecf4a57ce450",
   "metadata": {},
   "outputs": [
    {
     "data": {
      "text/plain": [
       "5"
      ]
     },
     "execution_count": 75,
     "metadata": {},
     "output_type": "execute_result"
    }
   ],
   "source": [
    "k_opt = ks[np.argmin(diff_r)+1]\n",
    "k_opt"
   ]
  },
  {
   "cell_type": "code",
   "execution_count": 76,
   "id": "152359b9-8bf8-4862-aac7-61f7258cffbf",
   "metadata": {},
   "outputs": [
    {
     "data": {
      "text/html": [
       "<style>#sk-container-id-1 {color: black;}#sk-container-id-1 pre{padding: 0;}#sk-container-id-1 div.sk-toggleable {background-color: white;}#sk-container-id-1 label.sk-toggleable__label {cursor: pointer;display: block;width: 100%;margin-bottom: 0;padding: 0.3em;box-sizing: border-box;text-align: center;}#sk-container-id-1 label.sk-toggleable__label-arrow:before {content: \"▸\";float: left;margin-right: 0.25em;color: #696969;}#sk-container-id-1 label.sk-toggleable__label-arrow:hover:before {color: black;}#sk-container-id-1 div.sk-estimator:hover label.sk-toggleable__label-arrow:before {color: black;}#sk-container-id-1 div.sk-toggleable__content {max-height: 0;max-width: 0;overflow: hidden;text-align: left;background-color: #f0f8ff;}#sk-container-id-1 div.sk-toggleable__content pre {margin: 0.2em;color: black;border-radius: 0.25em;background-color: #f0f8ff;}#sk-container-id-1 input.sk-toggleable__control:checked~div.sk-toggleable__content {max-height: 200px;max-width: 100%;overflow: auto;}#sk-container-id-1 input.sk-toggleable__control:checked~label.sk-toggleable__label-arrow:before {content: \"▾\";}#sk-container-id-1 div.sk-estimator input.sk-toggleable__control:checked~label.sk-toggleable__label {background-color: #d4ebff;}#sk-container-id-1 div.sk-label input.sk-toggleable__control:checked~label.sk-toggleable__label {background-color: #d4ebff;}#sk-container-id-1 input.sk-hidden--visually {border: 0;clip: rect(1px 1px 1px 1px);clip: rect(1px, 1px, 1px, 1px);height: 1px;margin: -1px;overflow: hidden;padding: 0;position: absolute;width: 1px;}#sk-container-id-1 div.sk-estimator {font-family: monospace;background-color: #f0f8ff;border: 1px dotted black;border-radius: 0.25em;box-sizing: border-box;margin-bottom: 0.5em;}#sk-container-id-1 div.sk-estimator:hover {background-color: #d4ebff;}#sk-container-id-1 div.sk-parallel-item::after {content: \"\";width: 100%;border-bottom: 1px solid gray;flex-grow: 1;}#sk-container-id-1 div.sk-label:hover label.sk-toggleable__label {background-color: #d4ebff;}#sk-container-id-1 div.sk-serial::before {content: \"\";position: absolute;border-left: 1px solid gray;box-sizing: border-box;top: 0;bottom: 0;left: 50%;z-index: 0;}#sk-container-id-1 div.sk-serial {display: flex;flex-direction: column;align-items: center;background-color: white;padding-right: 0.2em;padding-left: 0.2em;position: relative;}#sk-container-id-1 div.sk-item {position: relative;z-index: 1;}#sk-container-id-1 div.sk-parallel {display: flex;align-items: stretch;justify-content: center;background-color: white;position: relative;}#sk-container-id-1 div.sk-item::before, #sk-container-id-1 div.sk-parallel-item::before {content: \"\";position: absolute;border-left: 1px solid gray;box-sizing: border-box;top: 0;bottom: 0;left: 50%;z-index: -1;}#sk-container-id-1 div.sk-parallel-item {display: flex;flex-direction: column;z-index: 1;position: relative;background-color: white;}#sk-container-id-1 div.sk-parallel-item:first-child::after {align-self: flex-end;width: 50%;}#sk-container-id-1 div.sk-parallel-item:last-child::after {align-self: flex-start;width: 50%;}#sk-container-id-1 div.sk-parallel-item:only-child::after {width: 0;}#sk-container-id-1 div.sk-dashed-wrapped {border: 1px dashed gray;margin: 0 0.4em 0.5em 0.4em;box-sizing: border-box;padding-bottom: 0.4em;background-color: white;}#sk-container-id-1 div.sk-label label {font-family: monospace;font-weight: bold;display: inline-block;line-height: 1.2em;}#sk-container-id-1 div.sk-label-container {text-align: center;}#sk-container-id-1 div.sk-container {/* jupyter's `normalize.less` sets `[hidden] { display: none; }` but bootstrap.min.css set `[hidden] { display: none !important; }` so we also need the `!important` here to be able to override the default hidden behavior on the sphinx rendered scikit-learn.org. See: https://github.com/scikit-learn/scikit-learn/issues/21755 */display: inline-block !important;position: relative;}#sk-container-id-1 div.sk-text-repr-fallback {display: none;}</style><div id=\"sk-container-id-1\" class=\"sk-top-container\"><div class=\"sk-text-repr-fallback\"><pre>KMeans(n_clusters=5)</pre><b>In a Jupyter environment, please rerun this cell to show the HTML representation or trust the notebook. <br />On GitHub, the HTML representation is unable to render, please try loading this page with nbviewer.org.</b></div><div class=\"sk-container\" hidden><div class=\"sk-item\"><div class=\"sk-estimator sk-toggleable\"><input class=\"sk-toggleable__control sk-hidden--visually\" id=\"sk-estimator-id-1\" type=\"checkbox\" checked><label for=\"sk-estimator-id-1\" class=\"sk-toggleable__label sk-toggleable__label-arrow\">KMeans</label><div class=\"sk-toggleable__content\"><pre>KMeans(n_clusters=5)</pre></div></div></div></div></div>"
      ],
      "text/plain": [
       "KMeans(n_clusters=5)"
      ]
     },
     "execution_count": 76,
     "metadata": {},
     "output_type": "execute_result"
    }
   ],
   "source": [
    "kmeans = KMeans(n_clusters = 5)\n",
    "kmeans.fit(X_scaled)"
   ]
  },
  {
   "cell_type": "code",
   "execution_count": 77,
   "id": "e2acff14-178e-4b0c-9349-9b1c732d8b19",
   "metadata": {},
   "outputs": [],
   "source": [
    "df['cluster'] = kmeans.labels_"
   ]
  },
  {
   "cell_type": "code",
   "execution_count": 90,
   "id": "d542a6e3-6073-4c2a-83d4-a0313b72792f",
   "metadata": {},
   "outputs": [
    {
     "name": "stdout",
     "output_type": "stream",
     "text": [
      "Cluster 0 has 26625 users\n",
      "Cluster 1 has 8360 users\n",
      "Cluster 2 has 24472 users\n",
      "Cluster 3 has 19814 users\n",
      "Cluster 4 has 2455 users\n"
     ]
    }
   ],
   "source": [
    "for i in list(df.cluster.sort_values().unique()):\n",
    "    print(f\"Cluster {i} has {df.query('cluster == @i').shape[0]} users\")"
   ]
  },
  {
   "cell_type": "code",
   "execution_count": 108,
   "id": "c23bcfbd-fcd1-43e6-a0b6-3f54c453b733",
   "metadata": {},
   "outputs": [],
   "source": [
    "centroids = kmeans.cluster_centers_"
   ]
  },
  {
   "cell_type": "markdown",
   "id": "3383adac-9df2-4fa9-b214-93ee2aea6762",
   "metadata": {},
   "source": [
    "### Overall, Clusters 4 and 1 represent the most interest as the smallest ones, but, unfortunately, the deadline is Tuesday and I need to send what was done by the moment. "
   ]
  },
  {
   "cell_type": "code",
   "execution_count": null,
   "id": "3c80e716-9f28-4706-9711-0fb33f5ab8b4",
   "metadata": {},
   "outputs": [],
   "source": []
  }
 ],
 "metadata": {
  "kernelspec": {
   "display_name": "Python 3 (ipykernel)",
   "language": "python",
   "name": "python3"
  },
  "language_info": {
   "codemirror_mode": {
    "name": "ipython",
    "version": 3
   },
   "file_extension": ".py",
   "mimetype": "text/x-python",
   "name": "python",
   "nbconvert_exporter": "python",
   "pygments_lexer": "ipython3",
   "version": "3.11.4"
  }
 },
 "nbformat": 4,
 "nbformat_minor": 5
}
